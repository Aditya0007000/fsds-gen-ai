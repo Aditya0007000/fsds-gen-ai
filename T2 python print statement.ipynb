{
 "cells": [
  {
   "cell_type": "code",
   "execution_count": 27,
   "id": "6b9beeef-caa6-45b9-9b44-caa73b82fe6b",
   "metadata": {},
   "outputs": [],
   "source": [
    "#print is use for answer"
   ]
  },
  {
   "cell_type": "code",
   "execution_count": 28,
   "id": "e35f0ac5-e6ff-4ee7-a9a1-f97d2f57b3d3",
   "metadata": {},
   "outputs": [
    {
     "data": {
      "text/plain": [
       "20"
      ]
     },
     "execution_count": 28,
     "metadata": {},
     "output_type": "execute_result"
    }
   ],
   "source": [
    "a= 10\n",
    "b= 20\n",
    "a\n",
    "b"
   ]
  },
  {
   "cell_type": "markdown",
   "id": "cdb65faf-be9c-467a-9d28-96d38ff8db4d",
   "metadata": {},
   "source": [
    "a=10\n",
    "b=20\n",
    "print(a)\n",
    "print(b)"
   ]
  },
  {
   "cell_type": "code",
   "execution_count": 29,
   "id": "53a161f2-0c66-46c7-b744-3da867447844",
   "metadata": {},
   "outputs": [
    {
     "name": "stdout",
     "output_type": "stream",
     "text": [
      "10\n",
      "10 20\n",
      "python\n",
      "10 20 python\n"
     ]
    }
   ],
   "source": [
    "print(10)\n",
    "print(10,20)\n",
    "print('python')\n",
    "print(10,20,'python')"
   ]
  },
  {
   "cell_type": "code",
   "execution_count": 30,
   "id": "131aaccb-ad6d-4b49-9046-51b21b448f54",
   "metadata": {},
   "outputs": [
    {
     "name": "stdout",
     "output_type": "stream",
     "text": [
      "50\n"
     ]
    }
   ],
   "source": [
    "num1 = 20\n",
    "num2= 30\n",
    "add=num1+num2\n",
    "print(add)"
   ]
  },
  {
   "cell_type": "markdown",
   "id": "a6c3275e-85c7-4016-9ab8-8a70bca6ad80",
   "metadata": {},
   "source": [
    "# print result with string"
   ]
  },
  {
   "cell_type": "code",
   "execution_count": 31,
   "id": "6b562cfc-f54e-43ea-b0a7-6f7e6c30ccf2",
   "metadata": {},
   "outputs": [],
   "source": [
    "name = 'python'\n",
    "age=20\n",
    "city='hyd'\n",
    "#hello my name is python and i am 10 year old from hydrabad"
   ]
  },
  {
   "cell_type": "code",
   "execution_count": 32,
   "id": "3442faf1-a800-415e-99ef-32491442bd99",
   "metadata": {},
   "outputs": [
    {
     "name": "stdout",
     "output_type": "stream",
     "text": [
      "my name is python and i am 20 year old form hyd\n"
     ]
    }
   ],
   "source": [
    "print('my name is', name, 'and i am',age,'year old form',city)"
   ]
  },
  {
   "cell_type": "markdown",
   "id": "7a8a2465-5342-4bf2-a16d-76dcd1505843",
   "metadata": {},
   "source": [
    "# print format method"
   ]
  },
  {
   "cell_type": "code",
   "execution_count": 33,
   "id": "824c2bdc-f3b4-4b30-ac3f-bbbd53d0f68b",
   "metadata": {},
   "outputs": [
    {
     "name": "stdout",
     "output_type": "stream",
     "text": [
      "the addtion of 20 and 30 is =50\n"
     ]
    }
   ],
   "source": [
    "num1=20\n",
    "num2=30\n",
    "add=num1+num2\n",
    "print('the addtion of {} and {} is ={}'. format(num1,num2,add))"
   ]
  },
  {
   "cell_type": "code",
   "execution_count": 34,
   "id": "bbf8ca37-f91b-4354-b04c-d7a3f3505906",
   "metadata": {},
   "outputs": [],
   "source": [
    "name ='python'\n",
    "age+20\n",
    "city='hyd'\n",
    "#hellow my name is python and i am 10 year old from hydrabad"
   ]
  },
  {
   "cell_type": "code",
   "execution_count": 35,
   "id": "52da83c9-214f-4fb0-813a-11a220592b58",
   "metadata": {},
   "outputs": [
    {
     "name": "stdout",
     "output_type": "stream",
     "text": [
      "hello my name is python, and i am 20 years old fromhyd\n"
     ]
    }
   ],
   "source": [
    "print('hello my name is {}, and i am {} years old from{}'.format(name,age,city))"
   ]
  },
  {
   "cell_type": "code",
   "execution_count": 38,
   "id": "26af22df-d3be-463e-8192-4559cacee6b6",
   "metadata": {},
   "outputs": [
    {
     "name": "stdout",
     "output_type": "stream",
     "text": [
      "The average of 100, 25, and 333 is = 152.66666666666666 or 152.67\n"
     ]
    }
   ],
   "source": [
    "num1 = 100\n",
    "num2 = 25\n",
    "num3 = 333\n",
    "\n",
    "avg = (num1 + num2 + num3) / 3\n",
    "avg1 = round((num1 + num2 + num3) / 3, 2)\n",
    "\n",
    "print('The average of {}, {}, and {} is = {} or {}'.format(num1, num2, num3, avg, avg1))\n"
   ]
  },
  {
   "cell_type": "code",
   "execution_count": 39,
   "id": "78c5fdc5-671e-4b05-b588-1c9943e4e589",
   "metadata": {},
   "outputs": [
    {
     "data": {
      "text/plain": [
       "152.67"
      ]
     },
     "execution_count": 39,
     "metadata": {},
     "output_type": "execute_result"
    }
   ],
   "source": [
    "round (avg,2) #round of till 2 digite after decimal"
   ]
  },
  {
   "cell_type": "code",
   "execution_count": 43,
   "id": "921b71e1-e73c-41ac-b77c-29ae9b9c2e27",
   "metadata": {},
   "outputs": [
    {
     "name": "stdout",
     "output_type": "stream",
     "text": [
      "the addition of 30 and 20 is = 50\n"
     ]
    }
   ],
   "source": [
    "num1 =30\n",
    "num2 =20\n",
    "add=num+num2\n",
    "print(f'the addition of {num1} and {num2} is = {add}') # alwase prefer this"
   ]
  },
  {
   "cell_type": "code",
   "execution_count": 44,
   "id": "6317c47c-ba83-40cc-a588-9b0e602aa76d",
   "metadata": {},
   "outputs": [],
   "source": [
    "name='python'\n",
    "age=20\n",
    "city='hyd'\n",
    "#hellow my name is python and i am 10 year old from hydrabad\n"
   ]
  },
  {
   "cell_type": "code",
   "execution_count": 47,
   "id": "8b71adf7-6d68-487a-a278-86890b4bf0eb",
   "metadata": {},
   "outputs": [
    {
     "name": "stdout",
     "output_type": "stream",
     "text": [
      "hello my name is python, and i am 20 year old from hyd.\n"
     ]
    }
   ],
   "source": [
    "print(f'hello my name is {name}, and i am {age} year old from {city}.') "
   ]
  },
  {
   "cell_type": "code",
   "execution_count": 51,
   "id": "418f9a29-b2c5-45bb-bb56-291ad95ba4be",
   "metadata": {},
   "outputs": [],
   "source": [
    "num1 = 100\n",
    "num2 =25\n",
    "num3= 333\n",
    "avg=round((num1+num2+num3)/3,2) #or we can use avg=round (num1+num2+num3)/3,2)\n",
    " #the avarge of num1,num2,num3 is avg\n",
    "          "
   ]
  },
  {
   "cell_type": "code",
   "execution_count": 52,
   "id": "f33d7ee0-86eb-4d77-b27c-62a2067cf7fd",
   "metadata": {},
   "outputs": [
    {
     "name": "stdout",
     "output_type": "stream",
     "text": [
      "the avarge of 100, 25 and 333 is = 152.67\n"
     ]
    }
   ],
   "source": [
    "print(f'the avarge of {num1}, {num2} and {num3} is = {avg}')"
   ]
  },
  {
   "cell_type": "code",
   "execution_count": 56,
   "id": "ca23c8e9-ebfd-4749-897c-17024f38a5d9",
   "metadata": {},
   "outputs": [
    {
     "name": "stdout",
     "output_type": "stream",
     "text": [
      "the addition of 10 and 20 is = 30\n",
      "the addition of 10 and 20 is = 30\n"
     ]
    }
   ],
   "source": [
    "#let combine all\n",
    "num1 = 10\n",
    "num2 = 20\n",
    "add = num1 + num2\n",
    "print('the addition of {} and {} is = {}'.format(num1,num2,add))\n",
    "print(f'the addition of {num1} and {num2} is = {add}')"
   ]
  },
  {
   "cell_type": "markdown",
   "id": "f26ffb9c-80eb-453b-ba2e-678e0cccc5d0",
   "metadata": {},
   "source": [
    "# end statement"
   ]
  },
  {
   "cell_type": "code",
   "execution_count": 57,
   "id": "318464ca-e0e1-4033-a0a6-cfc32a6f35f9",
   "metadata": {},
   "outputs": [
    {
     "name": "stdout",
     "output_type": "stream",
     "text": [
      "hello\n",
      "good morning\n"
     ]
    }
   ],
   "source": [
    "print('hello') # 1 st statement\n",
    "print('good morning') # 2nd statement\n",
    "# i want print like :- hellow good morning"
   ]
  },
  {
   "cell_type": "code",
   "execution_count": 58,
   "id": "4c97d44a-a2dc-43b5-980b-d936dd0d973c",
   "metadata": {},
   "outputs": [
    {
     "name": "stdout",
     "output_type": "stream",
     "text": [
      "helloworld good day\n"
     ]
    }
   ],
   "source": [
    "print('hello', end = '') #1st statement\n",
    "print('world good day') #2nd statement"
   ]
  },
  {
   "cell_type": "markdown",
   "id": "7f283d37-a1ab-49df-a45e-551b9613c5f0",
   "metadata": {},
   "source": [
    "# seprator"
   ]
  },
  {
   "cell_type": "code",
   "execution_count": 59,
   "id": "bc559bad-7f12-49b4-88ba-7d3bdd234e73",
   "metadata": {},
   "outputs": [
    {
     "name": "stdout",
     "output_type": "stream",
     "text": [
      "hello--->hai--->how are you\n"
     ]
    }
   ],
   "source": [
    "print('hello', 'hai','how are you', sep='--->')\n"
   ]
  },
  {
   "cell_type": "code",
   "execution_count": 61,
   "id": "bc06116a-831f-42e6-8890-d5198b3d1ceb",
   "metadata": {},
   "outputs": [
    {
     "name": "stdout",
     "output_type": "stream",
     "text": [
      "hello&hai&how are you\n"
     ]
    }
   ],
   "source": [
    "print('hello', 'hai', 'how are you', sep='&')"
   ]
  },
  {
   "cell_type": "code",
   "execution_count": 62,
   "id": "56a08fd0-7931-4017-9f27-92817af409c2",
   "metadata": {},
   "outputs": [
    {
     "name": "stdout",
     "output_type": "stream",
     "text": [
      "hello hai how are you\n"
     ]
    }
   ],
   "source": [
    "print('hello','hai','how are you', sep= ' ')"
   ]
  },
  {
   "cell_type": "code",
   "execution_count": 64,
   "id": "9c4af4d9-6507-4bd7-a848-93e283441b44",
   "metadata": {},
   "outputs": [
    {
     "name": "stdout",
     "output_type": "stream",
     "text": [
      "3 .\n"
     ]
    }
   ],
   "source": [
    "print(3,'.') #  . is far from 3 so here we will use sep method"
   ]
  },
  {
   "cell_type": "code",
   "execution_count": 65,
   "id": "85b01849-830d-4d7a-bafe-caac3ac6b7b0",
   "metadata": {},
   "outputs": [
    {
     "name": "stdout",
     "output_type": "stream",
     "text": [
      "3 .\n"
     ]
    }
   ],
   "source": [
    "print(3,'.',sep=' ') # see now space settled(also use to remove space B/W words)"
   ]
  },
  {
   "cell_type": "code",
   "execution_count": 66,
   "id": "eac9e6c2-dd36-49cb-9032-0be3db48d3bb",
   "metadata": {},
   "outputs": [
    {
     "name": "stdout",
     "output_type": "stream",
     "text": [
      "1 2 3.\n"
     ]
    }
   ],
   "source": [
    "print(1,2,end=' ')\n",
    "print(3,'.',sep='')\n",
    "#will print 1 2 3."
   ]
  },
  {
   "cell_type": "code",
   "execution_count": null,
   "id": "5683d932-ce5d-4375-a20d-14521caceb79",
   "metadata": {},
   "outputs": [],
   "source": []
  }
 ],
 "metadata": {
  "kernelspec": {
   "display_name": "Python [conda env:base] *",
   "language": "python",
   "name": "conda-base-py"
  },
  "language_info": {
   "codemirror_mode": {
    "name": "ipython",
    "version": 3
   },
   "file_extension": ".py",
   "mimetype": "text/x-python",
   "name": "python",
   "nbconvert_exporter": "python",
   "pygments_lexer": "ipython3",
   "version": "3.12.7"
  }
 },
 "nbformat": 4,
 "nbformat_minor": 5
}
