{
 "cells": [
  {
   "cell_type": "code",
   "execution_count": 28,
   "id": "d85c0102-51fe-45a5-a7ea-3dd304375b10",
   "metadata": {},
   "outputs": [],
   "source": [
    "list=[]"
   ]
  },
  {
   "cell_type": "code",
   "execution_count": 29,
   "id": "4280e613-c9b0-4177-bad2-0818fa3a60ee",
   "metadata": {},
   "outputs": [
    {
     "data": {
      "text/plain": [
       "list"
      ]
     },
     "execution_count": 29,
     "metadata": {},
     "output_type": "execute_result"
    }
   ],
   "source": [
    "type(list)\n"
   ]
  },
  {
   "cell_type": "code",
   "execution_count": 30,
   "id": "aba93457-fdff-4b19-baa5-fe6e52fffb59",
   "metadata": {},
   "outputs": [],
   "source": [
    "list1 = [1,2,3,4,5,6,7,8,9]"
   ]
  },
  {
   "cell_type": "code",
   "execution_count": 31,
   "id": "0f438b8b-c90e-489f-a44a-e986fdfb8ef6",
   "metadata": {},
   "outputs": [
    {
     "data": {
      "text/plain": [
       "1"
      ]
     },
     "execution_count": 31,
     "metadata": {},
     "output_type": "execute_result"
    }
   ],
   "source": [
    "list1[0]"
   ]
  },
  {
   "cell_type": "code",
   "execution_count": 32,
   "id": "8f5e7a52-1bf6-4bbf-97d1-eb8f850f1a2d",
   "metadata": {},
   "outputs": [
    {
     "data": {
      "text/plain": [
       "[2, 3, 4, 5]"
      ]
     },
     "execution_count": 32,
     "metadata": {},
     "output_type": "execute_result"
    }
   ],
   "source": [
    "list1[1:5]"
   ]
  },
  {
   "cell_type": "code",
   "execution_count": 33,
   "id": "33b76d3c-9fc1-470d-9a7b-82a4ce1c2eb9",
   "metadata": {},
   "outputs": [
    {
     "data": {
      "text/plain": [
       "9"
      ]
     },
     "execution_count": 33,
     "metadata": {},
     "output_type": "execute_result"
    }
   ],
   "source": [
    "list1[-1]"
   ]
  },
  {
   "cell_type": "code",
   "execution_count": 34,
   "id": "db264706-c71f-48ad-a325-29db2dd426e7",
   "metadata": {},
   "outputs": [
    {
     "data": {
      "text/plain": [
       "[1, 2]"
      ]
     },
     "execution_count": 34,
     "metadata": {},
     "output_type": "execute_result"
    }
   ],
   "source": [
    "list1[:2]"
   ]
  },
  {
   "cell_type": "code",
   "execution_count": 35,
   "id": "6e8026f1-ee17-4617-b88e-8b888f9a5ae8",
   "metadata": {},
   "outputs": [
    {
     "data": {
      "text/plain": [
       "[2, 3, 4, 5, 6, 7, 8, 9]"
      ]
     },
     "execution_count": 35,
     "metadata": {},
     "output_type": "execute_result"
    }
   ],
   "source": [
    "list1[1:]"
   ]
  },
  {
   "cell_type": "code",
   "execution_count": 36,
   "id": "bf163a00-6555-4d40-a1e9-a0afdd7c1864",
   "metadata": {},
   "outputs": [
    {
     "data": {
      "text/plain": [
       "[5]"
      ]
     },
     "execution_count": 36,
     "metadata": {},
     "output_type": "execute_result"
    }
   ],
   "source": [
    "list1[4:5]"
   ]
  },
  {
   "cell_type": "code",
   "execution_count": null,
   "id": "bc9441e8-8f0b-478b-80f7-8b7d11de2bc9",
   "metadata": {},
   "outputs": [],
   "source": []
  },
  {
   "cell_type": "code",
   "execution_count": null,
   "id": "80cfdb95-1505-4ab4-9bf6-97832dd4869b",
   "metadata": {},
   "outputs": [],
   "source": []
  },
  {
   "cell_type": "code",
   "execution_count": null,
   "id": "e638560d-f113-4074-a666-8bf007810b2f",
   "metadata": {},
   "outputs": [],
   "source": []
  },
  {
   "cell_type": "markdown",
   "id": "6a4ca121-04cc-4b72-95e8-5c7a39d854c9",
   "metadata": {},
   "source": [
    "#append"
   ]
  },
  {
   "cell_type": "code",
   "execution_count": 37,
   "id": "b0d478ea-d4ff-4c9f-b558-422f6b65f864",
   "metadata": {},
   "outputs": [],
   "source": [
    "list1.append(10)  # add item end of the list and add at a time one item"
   ]
  },
  {
   "cell_type": "code",
   "execution_count": 38,
   "id": "58da85b9-a6b4-47dc-bc4b-a3cec8995c25",
   "metadata": {},
   "outputs": [
    {
     "data": {
      "text/plain": [
       "[1, 2, 3, 4, 5, 6, 7, 8, 9, 10]"
      ]
     },
     "execution_count": 38,
     "metadata": {},
     "output_type": "execute_result"
    }
   ],
   "source": [
    "list1"
   ]
  },
  {
   "cell_type": "markdown",
   "id": "3f44882e-7f2a-4284-88b5-ee18c34d9f15",
   "metadata": {},
   "source": [
    "# insert"
   ]
  },
  {
   "cell_type": "code",
   "execution_count": 65,
   "id": "7de1bf7b-e9f0-4dcb-8baf-05644861e57c",
   "metadata": {},
   "outputs": [
    {
     "data": {
      "text/plain": [
       "[1, 2, 3, 4, 5, 6, 7, 8, 9]"
      ]
     },
     "execution_count": 65,
     "metadata": {},
     "output_type": "execute_result"
    }
   ],
   "source": [
    "list1"
   ]
  },
  {
   "cell_type": "code",
   "execution_count": 66,
   "id": "0848c309-0163-471d-8c45-9348cb93443a",
   "metadata": {},
   "outputs": [],
   "source": [
    "list1.insert(3,13)"
   ]
  },
  {
   "cell_type": "code",
   "execution_count": 67,
   "id": "5baf175a-7120-4022-966d-5bd05530f796",
   "metadata": {},
   "outputs": [
    {
     "data": {
      "text/plain": [
       "[1, 2, 3, 13, 4, 5, 6, 7, 8, 9]"
      ]
     },
     "execution_count": 67,
     "metadata": {},
     "output_type": "execute_result"
    }
   ],
   "source": [
    "list1"
   ]
  },
  {
   "cell_type": "code",
   "execution_count": 68,
   "id": "40f58145-4de6-4580-8245-fe90ecd8d78d",
   "metadata": {},
   "outputs": [],
   "source": [
    "list1.insert(1,'ONE')"
   ]
  },
  {
   "cell_type": "code",
   "execution_count": 69,
   "id": "1a534c3f-9a57-4e5f-aabb-dd2c1f73ad78",
   "metadata": {},
   "outputs": [
    {
     "data": {
      "text/plain": [
       "[1, 'ONE', 2, 3, 13, 4, 5, 6, 7, 8, 9]"
      ]
     },
     "execution_count": 69,
     "metadata": {},
     "output_type": "execute_result"
    }
   ],
   "source": [
    "list1"
   ]
  },
  {
   "cell_type": "code",
   "execution_count": 70,
   "id": "fd247c51-be0b-47aa-9120-63aefba91525",
   "metadata": {},
   "outputs": [],
   "source": [
    "list1.remove('ONE')"
   ]
  },
  {
   "cell_type": "code",
   "execution_count": 71,
   "id": "276b439f-159c-4789-a2cb-a58fff6ad5cc",
   "metadata": {},
   "outputs": [
    {
     "data": {
      "text/plain": [
       "[1, 2, 3, 13, 4, 5, 6, 7, 8, 9]"
      ]
     },
     "execution_count": 71,
     "metadata": {},
     "output_type": "execute_result"
    }
   ],
   "source": [
    "list1"
   ]
  },
  {
   "cell_type": "code",
   "execution_count": 72,
   "id": "6e0fc650-4b68-4ef0-81e8-76016fdd638e",
   "metadata": {},
   "outputs": [],
   "source": [
    "list1.remove(13)"
   ]
  },
  {
   "cell_type": "code",
   "execution_count": 73,
   "id": "ad3f12fb-b9cf-4e05-8a0e-d13ede2ac453",
   "metadata": {},
   "outputs": [
    {
     "data": {
      "text/plain": [
       "[1, 2, 3, 4, 5, 6, 7, 8, 9]"
      ]
     },
     "execution_count": 73,
     "metadata": {},
     "output_type": "execute_result"
    }
   ],
   "source": [
    "list1"
   ]
  },
  {
   "cell_type": "code",
   "execution_count": 74,
   "id": "37d73dd0-b5fe-417a-8b1f-b7821fc2eacf",
   "metadata": {},
   "outputs": [
    {
     "data": {
      "text/plain": [
       "[1, 2, 3, 4, 5, 6, 7, 8]"
      ]
     },
     "execution_count": 74,
     "metadata": {},
     "output_type": "execute_result"
    }
   ],
   "source": [
    "list1.pop()\n",
    "list1"
   ]
  },
  {
   "cell_type": "code",
   "execution_count": 75,
   "id": "78e7bcee-d57f-4079-9adc-3a4268a6f498",
   "metadata": {},
   "outputs": [
    {
     "ename": "IndexError",
     "evalue": "pop index out of range",
     "output_type": "error",
     "traceback": [
      "\u001b[1;31m---------------------------------------------------------------------------\u001b[0m",
      "\u001b[1;31mIndexError\u001b[0m                                Traceback (most recent call last)",
      "Cell \u001b[1;32mIn[75], line 1\u001b[0m\n\u001b[1;32m----> 1\u001b[0m list1\u001b[38;5;241m.\u001b[39mpop(\u001b[38;5;241m8\u001b[39m)\n",
      "\u001b[1;31mIndexError\u001b[0m: pop index out of range"
     ]
    }
   ],
   "source": [
    "list1.pop(8)"
   ]
  },
  {
   "cell_type": "code",
   "execution_count": 76,
   "id": "1572dd98-ceb8-4798-b6e2-f12e642630de",
   "metadata": {},
   "outputs": [
    {
     "data": {
      "text/plain": [
       "[1, 2, 3, 4, 5, 6, 7, 8]"
      ]
     },
     "execution_count": 76,
     "metadata": {},
     "output_type": "execute_result"
    }
   ],
   "source": [
    "list1"
   ]
  },
  {
   "cell_type": "code",
   "execution_count": 77,
   "id": "214f1071-03d2-4c36-83be-87c3b62c770a",
   "metadata": {},
   "outputs": [
    {
     "data": {
      "text/plain": [
       "[1, 2, 3, 4, 6, 7, 8]"
      ]
     },
     "execution_count": 77,
     "metadata": {},
     "output_type": "execute_result"
    }
   ],
   "source": [
    "del list1[4]\n",
    "list1"
   ]
  },
  {
   "cell_type": "code",
   "execution_count": 78,
   "id": "82ea406e-f478-4914-b4ed-371baf282dc5",
   "metadata": {},
   "outputs": [
    {
     "data": {
      "text/plain": [
       "['ONE', 'TWO', 'THREE', 4, 6, 7, 8]"
      ]
     },
     "execution_count": 78,
     "metadata": {},
     "output_type": "execute_result"
    }
   ],
   "source": [
    "list1[0]= 'ONE'\n",
    "list1[1]= 'TWO'\n",
    "list1[2]= 'THREE'\n",
    "list1"
   ]
  },
  {
   "cell_type": "code",
   "execution_count": 79,
   "id": "92a0cbe0-f8e8-4ebb-9776-23a3ef974960",
   "metadata": {},
   "outputs": [],
   "source": [
    "list1.clear()"
   ]
  },
  {
   "cell_type": "code",
   "execution_count": 80,
   "id": "ad12f03c-8ef4-4f44-94ed-abf5b691b04f",
   "metadata": {},
   "outputs": [
    {
     "data": {
      "text/plain": [
       "[]"
      ]
     },
     "execution_count": 80,
     "metadata": {},
     "output_type": "execute_result"
    }
   ],
   "source": [
    "list1"
   ]
  },
  {
   "cell_type": "code",
   "execution_count": 81,
   "id": "2a434852-6cd5-4c76-a8fe-c819071ab035",
   "metadata": {},
   "outputs": [],
   "source": [
    "list1 = [1,2,3,4,5,6,7,8,9]"
   ]
  },
  {
   "cell_type": "code",
   "execution_count": 83,
   "id": "a2137182-22b1-41e1-bfe5-802f0d19e561",
   "metadata": {},
   "outputs": [],
   "source": [
    "list = list1"
   ]
  },
  {
   "cell_type": "code",
   "execution_count": 84,
   "id": "7587e711-f0b2-4f95-a1ed-189041621580",
   "metadata": {},
   "outputs": [
    {
     "data": {
      "text/plain": [
       "(2180778812480, 2180778812480)"
      ]
     },
     "execution_count": 84,
     "metadata": {},
     "output_type": "execute_result"
    }
   ],
   "source": [
    "id(list1), id(list)"
   ]
  },
  {
   "cell_type": "code",
   "execution_count": 86,
   "id": "9a1884c4-f686-4615-913a-76c5f294854d",
   "metadata": {},
   "outputs": [],
   "source": [
    "list2 = list1.copy()"
   ]
  },
  {
   "cell_type": "code",
   "execution_count": 87,
   "id": "3761bc6c-55c3-4623-b263-4f49ed15af94",
   "metadata": {},
   "outputs": [
    {
     "data": {
      "text/plain": [
       "2180778379840"
      ]
     },
     "execution_count": 87,
     "metadata": {},
     "output_type": "execute_result"
    }
   ],
   "source": [
    "id(list2)"
   ]
  },
  {
   "cell_type": "code",
   "execution_count": 88,
   "id": "3bc1888e-1b1f-43c4-9ed4-845439481167",
   "metadata": {},
   "outputs": [
    {
     "data": {
      "text/plain": [
       "[1, 2, 3, 4, 5, 6, 7, 8, 9]"
      ]
     },
     "execution_count": 88,
     "metadata": {},
     "output_type": "execute_result"
    }
   ],
   "source": [
    "list2"
   ]
  },
  {
   "cell_type": "code",
   "execution_count": 89,
   "id": "336649a5-0cec-49c7-ba82-eb8b8e904edf",
   "metadata": {},
   "outputs": [
    {
     "data": {
      "text/plain": [
       "1"
      ]
     },
     "execution_count": 89,
     "metadata": {},
     "output_type": "execute_result"
    }
   ],
   "source": [
    "list1[0]"
   ]
  },
  {
   "cell_type": "code",
   "execution_count": 90,
   "id": "10a60c43-ecc0-4ea0-97d2-b15cafa25bb1",
   "metadata": {},
   "outputs": [
    {
     "data": {
      "text/plain": [
       "[1, 2, 3, 4, 5, 6, 7, 8, 9]"
      ]
     },
     "execution_count": 90,
     "metadata": {},
     "output_type": "execute_result"
    }
   ],
   "source": [
    "list1"
   ]
  },
  {
   "cell_type": "code",
   "execution_count": 91,
   "id": "312d49c4-29f3-4a4d-9f11-c5670eba35a1",
   "metadata": {},
   "outputs": [
    {
     "data": {
      "text/plain": [
       "[1, 2, 3, 4, 5, 6, 7, 8, 9]"
      ]
     },
     "execution_count": 91,
     "metadata": {},
     "output_type": "execute_result"
    }
   ],
   "source": [
    "list2"
   ]
  },
  {
   "cell_type": "markdown",
   "id": "52c7dd87-2ce8-4ebf-aca9-c0e93428a6f3",
   "metadata": {},
   "source": [
    "# jion list"
   ]
  },
  {
   "cell_type": "code",
   "execution_count": 92,
   "id": "515e97c4-01fa-46fb-9976-0de5dc82c1fa",
   "metadata": {},
   "outputs": [],
   "source": [
    "list1 = ['one','two','three']\n",
    "list2 = ['four','five','six']"
   ]
  },
  {
   "cell_type": "code",
   "execution_count": 93,
   "id": "0f71b593-13f1-44be-8878-e86c9a10a5b4",
   "metadata": {},
   "outputs": [
    {
     "data": {
      "text/plain": [
       "['one', 'two', 'three', 'four', 'five', 'six']"
      ]
     },
     "execution_count": 93,
     "metadata": {},
     "output_type": "execute_result"
    }
   ],
   "source": [
    "list3 = list1 + list2\n",
    "list3"
   ]
  },
  {
   "cell_type": "markdown",
   "id": "daf18721-d26a-4c21-ac68-4b7b14080a4c",
   "metadata": {},
   "source": [
    "# extend"
   ]
  },
  {
   "cell_type": "code",
   "execution_count": 94,
   "id": "c1bf9ab0-0cfd-4edf-b821-6278f6f1c985",
   "metadata": {},
   "outputs": [
    {
     "data": {
      "text/plain": [
       "['one', 'two', 'three', 'four', 'five', 'six']"
      ]
     },
     "execution_count": 94,
     "metadata": {},
     "output_type": "execute_result"
    }
   ],
   "source": [
    "list1.extend(list2)\n",
    "list1"
   ]
  },
  {
   "cell_type": "markdown",
   "id": "ff816f33-ed5c-4ed2-8a56-7eaf0f2c7d40",
   "metadata": {},
   "source": [
    "# list membership"
   ]
  },
  {
   "cell_type": "code",
   "execution_count": null,
   "id": "e29f0ed7-edf6-4c36-b20c-833b3d9fb826",
   "metadata": {},
   "outputs": [],
   "source": []
  }
 ],
 "metadata": {
  "kernelspec": {
   "display_name": "Python [conda env:base] *",
   "language": "python",
   "name": "conda-base-py"
  },
  "language_info": {
   "codemirror_mode": {
    "name": "ipython",
    "version": 3
   },
   "file_extension": ".py",
   "mimetype": "text/x-python",
   "name": "python",
   "nbconvert_exporter": "python",
   "pygments_lexer": "ipython3",
   "version": "3.12.7"
  }
 },
 "nbformat": 4,
 "nbformat_minor": 5
}
