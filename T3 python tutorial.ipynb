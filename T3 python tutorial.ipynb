{
 "cells": [
  {
   "cell_type": "markdown",
   "id": "44fc0eb3-53aa-4671-bb63-97bff1099923",
   "metadata": {},
   "source": [
    "# python tutorial"
   ]
  },
  {
   "cell_type": "code",
   "execution_count": 14,
   "id": "d8c4d873-c0e9-4b65-9247-763761175548",
   "metadata": {},
   "outputs": [],
   "source": [
    "import sys\n",
    "import keyword\n",
    "import operator\n",
    "from datetime import datetime\n",
    "import os"
   ]
  },
  {
   "cell_type": "markdown",
   "id": "1b5feb38-029d-4b38-8064-d53bb8b0ba0b",
   "metadata": {},
   "source": [
    "# keyword"
   ]
  },
  {
   "cell_type": "code",
   "execution_count": 15,
   "id": "ca2afd2b-1ba7-4bf7-88ae-1a8377e8caed",
   "metadata": {},
   "outputs": [
    {
     "name": "stdout",
     "output_type": "stream",
     "text": [
      "['False', 'None', 'True', 'and', 'as', 'assert', 'async', 'await', 'break', 'class', 'continue', 'def', 'del', 'elif', 'else', 'except', 'finally', 'for', 'from', 'global', 'if', 'import', 'in', 'is', 'lambda', 'nonlocal', 'not', 'or', 'pass', 'raise', 'return', 'try', 'while', 'with', 'yield']\n"
     ]
    }
   ],
   "source": [
    "print(keyword.kwlist) # List all Python Keywords"
   ]
  },
  {
   "cell_type": "code",
   "execution_count": 16,
   "id": "1efae730-c1a6-41a2-ba40-8cbbe7dfcd01",
   "metadata": {},
   "outputs": [
    {
     "data": {
      "text/plain": [
       "35"
      ]
     },
     "execution_count": 16,
     "metadata": {},
     "output_type": "execute_result"
    }
   ],
   "source": [
    "len(keyword.kwlist) #list all python keyword"
   ]
  },
  {
   "cell_type": "markdown",
   "id": "30f744fb-30b9-4a0a-9757-cc02f1a6232d",
   "metadata": {},
   "source": [
    "# identifiers"
   ]
  },
  {
   "cell_type": "code",
   "execution_count": 17,
   "id": "88dad654-48ba-413c-b8db-adb359c58c83",
   "metadata": {},
   "outputs": [
    {
     "ename": "SyntaxError",
     "evalue": "invalid decimal literal (1314188844.py, line 1)",
     "output_type": "error",
     "traceback": [
      "\u001b[1;36m  Cell \u001b[1;32mIn[17], line 1\u001b[1;36m\u001b[0m\n\u001b[1;33m    1var =10 # identifier can't start withh a dighit\u001b[0m\n\u001b[1;37m    ^\u001b[0m\n\u001b[1;31mSyntaxError\u001b[0m\u001b[1;31m:\u001b[0m invalid decimal literal\n"
     ]
    }
   ],
   "source": [
    "1var =10 # identifier can't start withh a dighit\n"
   ]
  },
  {
   "cell_type": "code",
   "execution_count": 18,
   "id": "7a4d0a62-faa0-4dc7-9092-92b1a7e2d372",
   "metadata": {},
   "outputs": [
    {
     "ename": "SyntaxError",
     "evalue": "invalid syntax (2147167252.py, line 1)",
     "output_type": "error",
     "traceback": [
      "\u001b[1;36m  Cell \u001b[1;32mIn[18], line 1\u001b[1;36m\u001b[0m\n\u001b[1;33m    val2@ = 35 # identifier can't use special symbols\u001b[0m\n\u001b[1;37m          ^\u001b[0m\n\u001b[1;31mSyntaxError\u001b[0m\u001b[1;31m:\u001b[0m invalid syntax\n"
     ]
    }
   ],
   "source": [
    "val2@ = 35 # identifier can't use special symbols"
   ]
  },
  {
   "cell_type": "code",
   "execution_count": 19,
   "id": "36dcbb86-7ff7-4888-836d-9a113862c23c",
   "metadata": {},
   "outputs": [
    {
     "ename": "SyntaxError",
     "evalue": "invalid syntax (2420572262.py, line 1)",
     "output_type": "error",
     "traceback": [
      "\u001b[1;36m  Cell \u001b[1;32mIn[19], line 1\u001b[1;36m\u001b[0m\n\u001b[1;33m    import = 125 #keyword can't be used as identifiers\u001b[0m\n\u001b[1;37m           ^\u001b[0m\n\u001b[1;31mSyntaxError\u001b[0m\u001b[1;31m:\u001b[0m invalid syntax\n"
     ]
    }
   ],
   "source": [
    "import = 125 #keyword can't be used as identifiers"
   ]
  },
  {
   "cell_type": "code",
   "execution_count": 20,
   "id": "69aa036a-fc9b-49d2-afc3-14cdef29f470",
   "metadata": {},
   "outputs": [],
   "source": [
    "\"\"\"\n",
    "Correct way of definind an identifier\n",
    "(Identifiers can be a combination of letters in lowercase ( ato Z) or uppercase\n",
    "\"\"\"\n",
    "\n",
    "val2=10"
   ]
  },
  {
   "cell_type": "code",
   "execution_count": 21,
   "id": "56cafc2b-d2d3-4d65-8a78-fac3e0b7fbaa",
   "metadata": {},
   "outputs": [],
   "source": [
    "val_ =99"
   ]
  },
  {
   "cell_type": "markdown",
   "id": "db388038-8353-4e93-8e47-77b4ae243530",
   "metadata": {},
   "source": [
    "# comments in python"
   ]
  },
  {
   "cell_type": "code",
   "execution_count": 22,
   "id": "1aa1eb34-c242-4dd3-841e-2cf20f7c8692",
   "metadata": {},
   "outputs": [],
   "source": [
    "# single line comment\n",
    "val1 =10"
   ]
  },
  {
   "cell_type": "code",
   "execution_count": 23,
   "id": "f4910182-2792-4232-9345-f682a7eb966b",
   "metadata": {},
   "outputs": [],
   "source": [
    "# Multiple \n",
    "# line\n",
    "# comment\n",
    "val1 = 10"
   ]
  },
  {
   "cell_type": "code",
   "execution_count": 24,
   "id": "0ca1cc22-c16f-4dd7-bd06-721b564a9689",
   "metadata": {},
   "outputs": [],
   "source": [
    "''' \n",
    "Multiple \n",
    "Line \n",
    "Comment\n",
    "'''\n",
    "val =  10"
   ]
  },
  {
   "cell_type": "code",
   "execution_count": 25,
   "id": "1124bf50-d874-453e-bcc1-bfb79b8b385d",
   "metadata": {},
   "outputs": [],
   "source": [
    "\"\"\"\n",
    "Multiple \n",
    "line\n",
    "comment\n",
    "\"\"\"\n",
    "val =10"
   ]
  },
  {
   "cell_type": "markdown",
   "id": "9c159735-fa64-482c-8fa4-86ff4ac86e24",
   "metadata": {},
   "source": [
    "# statement"
   ]
  },
  {
   "cell_type": "code",
   "execution_count": 26,
   "id": "256641e3-f521-400f-9202-a4ac7f513732",
   "metadata": {},
   "outputs": [
    {
     "data": {
      "text/plain": [
       "(20, int, '0x7fff4bf72c18')"
      ]
     },
     "execution_count": 26,
     "metadata": {},
     "output_type": "execute_result"
    }
   ],
   "source": [
    "p =20 # creates an integer object with value 20 and assigns the variable p to p\n",
    "q =20 # create new reference q which will point to value 20 . p & q will be point\n",
    "r = q # variable r will also point  to the same location where p & Q are pointing\n",
    "p, type(p), hex(id(p)) # variable p is pointing to memory location '0x7fff6d71a'\n"
   ]
  },
  {
   "cell_type": "code",
   "execution_count": 27,
   "id": "932145e4-7106-46af-9663-bb3a36ab6342",
   "metadata": {},
   "outputs": [
    {
     "data": {
      "text/plain": [
       "(20, int, '0x7fff4bf72c18')"
      ]
     },
     "execution_count": 27,
     "metadata": {},
     "output_type": "execute_result"
    }
   ],
   "source": [
    "q , type(q), hex(id(q))"
   ]
  },
  {
   "cell_type": "code",
   "execution_count": 28,
   "id": "7070fb70-85c2-49c9-b069-ec0ad341331a",
   "metadata": {},
   "outputs": [
    {
     "data": {
      "text/plain": [
       "(20, int, '0x7fff4bf72c18')"
      ]
     },
     "execution_count": 28,
     "metadata": {},
     "output_type": "execute_result"
    }
   ],
   "source": [
    "r, type(r), hex(id(r))"
   ]
  },
  {
   "cell_type": "code",
   "execution_count": 29,
   "id": "61358125-0b33-4bf8-9323-ce0adcf9c652",
   "metadata": {},
   "outputs": [
    {
     "data": {
      "image/png": "[encoded data removed]",
      "text/plain": [
       "<IPython.core.display.Image object>"
      ]
     },
     "execution_count": 29,
     "metadata": {},
     "output_type": "execute_result"
    }
   ],
   "source": [
    "from IPython.display import Image\n",
    "Image(\"Screenshot 2025-06-25 185004.png\")"
   ]
  },
  {
   "cell_type": "code",
   "execution_count": 30,
   "id": "6ef405a6-8c82-4034-b037-b39ca3565610",
   "metadata": {},
   "outputs": [
    {
     "data": {
      "text/plain": [
       "30"
      ]
     },
     "execution_count": 30,
     "metadata": {},
     "output_type": "execute_result"
    }
   ],
   "source": [
    "p = 20\n",
    "p = p +10 #variable Overwriting\n",
    "p"
   ]
  },
  {
   "cell_type": "markdown",
   "id": "933d8b00-4b7f-4b24-9d6d-0333f88cebf5",
   "metadata": {},
   "source": [
    "# variable Assignment"
   ]
  },
  {
   "cell_type": "code",
   "execution_count": 31,
   "id": "cf250e94-b665-438e-8f08-867a3e81499b",
   "metadata": {},
   "outputs": [
    {
     "name": "stdout",
     "output_type": "stream",
     "text": [
      "10\n",
      "2.57\n",
      "python Language\n"
     ]
    }
   ],
   "source": [
    "intvar = 10 # Integer variable \n",
    "floatvar = 2.57 # float Variable\n",
    "strvar = \"python Language\" # string variable\n",
    "\n",
    "print(intvar)\n",
    "print(floatvar)\n",
    "print(strvar)"
   ]
  },
  {
   "cell_type": "markdown",
   "id": "af46430e-6adf-4ed2-8b17-5ee5deec5af5",
   "metadata": {},
   "source": [
    "# Multiple Assignments"
   ]
  },
  {
   "cell_type": "code",
   "execution_count": 32,
   "id": "bad703ae-f267-418d-a46c-05ad9fdf5428",
   "metadata": {},
   "outputs": [
    {
     "name": "stdout",
     "output_type": "stream",
     "text": [
      "10\n",
      "2.57\n",
      "python Language\n"
     ]
    }
   ],
   "source": [
    "intvar, floatvar,strvar =10,2.57,\"python Language\" # using commas to separat\n",
    "print(intvar)\n",
    "print(floatvar)\n",
    "print(strvar)"
   ]
  },
  {
   "cell_type": "code",
   "execution_count": 33,
   "id": "25e14619-94a4-4377-bf2f-f971ba613f44",
   "metadata": {},
   "outputs": [
    {
     "name": "stdout",
     "output_type": "stream",
     "text": [
      "44 44 44 44\n"
     ]
    }
   ],
   "source": [
    "p1 =p2 =p3 =p4 =44 #all variable pointing to same value \n",
    "print(p1,p2,p3,p4)"
   ]
  },
  {
   "cell_type": "markdown",
   "id": "7b4f158b-04e5-407c-bc5a-c5da44e25050",
   "metadata": {},
   "source": [
    "# data type"
   ]
  },
  {
   "cell_type": "markdown",
   "id": "4a45a5c4-2db2-47eb-9c9c-f23803b99ce4",
   "metadata": {},
   "source": [
    "# Numeric"
   ]
  },
  {
   "cell_type": "code",
   "execution_count": 34,
   "id": "b5e5716e-79b6-4e7d-88a8-e4b3e38e59f9",
   "metadata": {},
   "outputs": [
    {
     "name": "stdout",
     "output_type": "stream",
     "text": [
      "10\n",
      "<class 'int'>\n",
      "28\n",
      "10 is Integer? True\n"
     ]
    }
   ],
   "source": [
    "val1 =10 # Interger data type\n",
    "print(val1)\n",
    "print(type(val1)) #Type of object\n",
    "print(sys.getsizeof(val1)) #size of integer object in bytes\n",
    "print(val1, \"is Integer?\", isinstance(val1, int)) #val1 is an instance of int"
   ]
  },
  {
   "cell_type": "code",
   "execution_count": 35,
   "id": "8b819071-e269-47ef-be41-172afa9cfbd5",
   "metadata": {},
   "outputs": [
    {
     "name": "stdout",
     "output_type": "stream",
     "text": [
      "92.78\n",
      "<class 'float'>\n",
      "24\n",
      "92.78  is float? True\n"
     ]
    }
   ],
   "source": [
    "val2 = 92.78 #float data type\n",
    "print(val2)\n",
    "print(type(val2))#type of object\n",
    "print(sys.getsizeof(val2)) # size of float obect in bytes\n",
    "print(val2, \" is float?\", isinstance(val2,float)) # val is an instance of float"
   ]
  },
  {
   "cell_type": "code",
   "execution_count": 36,
   "id": "1a3ce85b-d137-46a1-9d6c-37a1b02c91c6",
   "metadata": {},
   "outputs": [
    {
     "name": "stdout",
     "output_type": "stream",
     "text": [
      "(25+10j)\n",
      "<class 'complex'>\n",
      "32\n",
      "(25+10j)  is complex? True\n"
     ]
    }
   ],
   "source": [
    "val3 = 25+10j #complex data type\n",
    "print(val3)\n",
    "print(type(val3)) #type of object\n",
    "print(sys.getsizeof(val3)) #size of float obect in bytes\n",
    "print(val3,\" is complex?\",isinstance(val3, complex)) #val3 is an instance of"
   ]
  },
  {
   "cell_type": "code",
   "execution_count": 37,
   "id": "38d3ba40-4f80-4595-a940-dd8a7ab3c452",
   "metadata": {},
   "outputs": [
    {
     "data": {
      "text/plain": [
       "28"
      ]
     },
     "execution_count": 37,
     "metadata": {},
     "output_type": "execute_result"
    }
   ],
   "source": [
    "sys.getsizeof(int()) #size of integer object in bytes"
   ]
  },
  {
   "cell_type": "code",
   "execution_count": 38,
   "id": "5e7f5752-0903-4ce9-803b-6c21c0cb0305",
   "metadata": {},
   "outputs": [
    {
     "data": {
      "text/plain": [
       "24"
      ]
     },
     "execution_count": 38,
     "metadata": {},
     "output_type": "execute_result"
    }
   ],
   "source": [
    "sys.getsizeof(float()) #size of float object in bytes"
   ]
  },
  {
   "cell_type": "code",
   "execution_count": 39,
   "id": "5e9bf0f1-d6c0-484a-a868-db3119980a85",
   "metadata": {},
   "outputs": [
    {
     "data": {
      "text/plain": [
       "32"
      ]
     },
     "execution_count": 39,
     "metadata": {},
     "output_type": "execute_result"
    }
   ],
   "source": [
    "sys.getsizeof(complex()) #size of complex object in bytes"
   ]
  },
  {
   "cell_type": "markdown",
   "id": "e76debc8-4d37-4914-8d37-c1050f8f3f2a",
   "metadata": {},
   "source": [
    "# Boolean"
   ]
  },
  {
   "cell_type": "code",
   "execution_count": 40,
   "id": "a0916fd5-f746-4f61-abb0-1da0a8ea7b23",
   "metadata": {},
   "outputs": [],
   "source": [
    "bool1 = True"
   ]
  },
  {
   "cell_type": "code",
   "execution_count": 41,
   "id": "2b0abc50-4346-482f-8494-727efb821b87",
   "metadata": {},
   "outputs": [],
   "source": [
    "bool2 = False"
   ]
  },
  {
   "cell_type": "code",
   "execution_count": 42,
   "id": "4a0fbedc-2c39-42ae-9563-44fae45b1c21",
   "metadata": {},
   "outputs": [
    {
     "name": "stdout",
     "output_type": "stream",
     "text": [
      "<class 'bool'>\n"
     ]
    }
   ],
   "source": [
    "print(type(bool1))"
   ]
  },
  {
   "cell_type": "code",
   "execution_count": 43,
   "id": "deafa723-20ee-4ee4-9114-f2f690bec8d2",
   "metadata": {},
   "outputs": [
    {
     "data": {
      "text/plain": [
       "True"
      ]
     },
     "execution_count": 43,
     "metadata": {},
     "output_type": "execute_result"
    }
   ],
   "source": [
    "isinstance(bool1,bool)"
   ]
  },
  {
   "cell_type": "code",
   "execution_count": 44,
   "id": "e47de7d1-c0f6-422b-a72b-caebb2c01fc1",
   "metadata": {},
   "outputs": [
    {
     "data": {
      "text/plain": [
       "False"
      ]
     },
     "execution_count": 44,
     "metadata": {},
     "output_type": "execute_result"
    }
   ],
   "source": [
    "bool(0)"
   ]
  },
  {
   "cell_type": "code",
   "execution_count": 45,
   "id": "631b31b4-b0f9-41f4-871a-11f597a9a592",
   "metadata": {},
   "outputs": [
    {
     "data": {
      "text/plain": [
       "True"
      ]
     },
     "execution_count": 45,
     "metadata": {},
     "output_type": "execute_result"
    }
   ],
   "source": [
    "bool(1)"
   ]
  },
  {
   "cell_type": "code",
   "execution_count": 47,
   "id": "183fa480-49ea-425e-83b2-10198b4add62",
   "metadata": {},
   "outputs": [
    {
     "data": {
      "text/plain": [
       "False"
      ]
     },
     "execution_count": 47,
     "metadata": {},
     "output_type": "execute_result"
    }
   ],
   "source": [
    "bool(None)"
   ]
  },
  {
   "cell_type": "code",
   "execution_count": 48,
   "id": "8234e6be-434c-4279-89a9-32a2a892ed00",
   "metadata": {},
   "outputs": [
    {
     "data": {
      "text/plain": [
       "False"
      ]
     },
     "execution_count": 48,
     "metadata": {},
     "output_type": "execute_result"
    }
   ],
   "source": [
    "bool(False)"
   ]
  },
  {
   "cell_type": "markdown",
   "id": "a0cec294-c573-4bbc-9234-8de10accba36",
   "metadata": {},
   "source": [
    "# String"
   ]
  },
  {
   "cell_type": "markdown",
   "id": "ae9982ba-fe78-417c-8eeb-bb5f75e00d77",
   "metadata": {},
   "source": [
    "# String Creation"
   ]
  },
  {
   "cell_type": "code",
   "execution_count": 50,
   "id": "581a9847-bf3a-4a99-b06a-7ad24240896f",
   "metadata": {},
   "outputs": [
    {
     "name": "stdout",
     "output_type": "stream",
     "text": [
      "Hello Python\n"
     ]
    }
   ],
   "source": [
    "str1 = \"Hello Python\"\n",
    "print(str1)"
   ]
  },
  {
   "cell_type": "code",
   "execution_count": 51,
   "id": "9a528b3b-375f-4fd0-b5ed-0c3599ffd6b5",
   "metadata": {},
   "outputs": [
    {
     "name": "stdout",
     "output_type": "stream",
     "text": [
      "hello World\n"
     ]
    }
   ],
   "source": [
    "mystr = 'hello World' # defines string using single quotes\n",
    "print(mystr)"
   ]
  },
  {
   "cell_type": "code",
   "execution_count": 52,
   "id": "14892a26-7acc-4755-b5d7-7c6074193b10",
   "metadata": {},
   "outputs": [
    {
     "name": "stdout",
     "output_type": "stream",
     "text": [
      "Hello World\n"
     ]
    }
   ],
   "source": [
    "mystr = \"Hello World\" #defines string using double quotes\n",
    "print(mystr)"
   ]
  },
  {
   "cell_type": "code",
   "execution_count": 56,
   "id": "a1b005c6-7090-49c8-bdd1-f5f66a686140",
   "metadata": {},
   "outputs": [
    {
     "name": "stdout",
     "output_type": "stream",
     "text": [
      "hello \n",
      "              world \n"
     ]
    }
   ],
   "source": [
    "mystr = '''hello \n",
    "              world '''  #defines string using triple quotes\n",
    "print(mystr)"
   ]
  },
  {
   "cell_type": "code",
   "execution_count": 58,
   "id": "ee13c6d3-e859-4c5a-85cf-582deacbca60",
   "metadata": {},
   "outputs": [
    {
     "name": "stdout",
     "output_type": "stream",
     "text": [
      "Happy Monday Everyone\n"
     ]
    }
   ],
   "source": [
    "mystr = ('Happy '\n",
    "         'Monday '\n",
    "         'Everyone')\n",
    "print(mystr)"
   ]
  },
  {
   "cell_type": "code",
   "execution_count": 60,
   "id": "3a809440-5706-4700-9702-a609dc9f4810",
   "metadata": {},
   "outputs": [
    {
     "data": {
      "text/plain": [
       "'woohoo woohoo woohoo woohoo woohoo '"
      ]
     },
     "execution_count": 60,
     "metadata": {},
     "output_type": "execute_result"
    }
   ],
   "source": [
    "mystr2 = 'woohoo '\n",
    "mystr2 = mystr2*5\n",
    "mystr2"
   ]
  },
  {
   "cell_type": "code",
   "execution_count": 61,
   "id": "ae33f084-4cd8-4d9a-a902-6a9db95577f2",
   "metadata": {},
   "outputs": [
    {
     "data": {
      "text/plain": [
       "35"
      ]
     },
     "execution_count": 61,
     "metadata": {},
     "output_type": "execute_result"
    }
   ],
   "source": [
    "len(mystr2) #length of string"
   ]
  },
  {
   "cell_type": "code",
   "execution_count": 62,
   "id": "dca2d48d-9202-4431-a53f-ac2754699627",
   "metadata": {},
   "outputs": [],
   "source": [
    "# string indexing\n"
   ]
  },
  {
   "cell_type": "code",
   "execution_count": 64,
   "id": "4b646199-8054-433f-b56f-edf52685be3c",
   "metadata": {},
   "outputs": [
    {
     "data": {
      "image/png": "[encoded data removed]",
      "text/plain": [
       "<IPython.core.display.Image object>"
      ]
     },
     "execution_count": 64,
     "metadata": {},
     "output_type": "execute_result"
    }
   ],
   "source": [
    "from IPython.display import Image\n",
    "\n",
    "Image(filename='Screenshot 2025-06-25 212909.png')"
   ]
  },
  {
   "cell_type": "code",
   "execution_count": 65,
   "id": "7f566902-a6d4-4a96-9543-d14cf07b2fb0",
   "metadata": {},
   "outputs": [
    {
     "data": {
      "text/plain": [
       "'Hello Python'"
      ]
     },
     "execution_count": 65,
     "metadata": {},
     "output_type": "execute_result"
    }
   ],
   "source": [
    "str1 "
   ]
  },
  {
   "cell_type": "code",
   "execution_count": 67,
   "id": "3921be3e-c50b-41c8-be4a-1213e00d4f1e",
   "metadata": {},
   "outputs": [
    {
     "data": {
      "text/plain": [
       "'H'"
      ]
     },
     "execution_count": 67,
     "metadata": {},
     "output_type": "execute_result"
    }
   ],
   "source": [
    "str1[0] # first character in string \"str\""
   ]
  },
  {
   "cell_type": "code",
   "execution_count": 70,
   "id": "61891100-d145-4aa4-b226-a2b9b95ee2f7",
   "metadata": {},
   "outputs": [
    {
     "data": {
      "text/plain": [
       "'n'"
      ]
     },
     "execution_count": 70,
     "metadata": {},
     "output_type": "execute_result"
    }
   ],
   "source": [
    "str1[len(str1)-1] #last character in string using len function"
   ]
  },
  {
   "cell_type": "code",
   "execution_count": 71,
   "id": "a66fff38-e5bc-4f3a-b929-3611d36c7412",
   "metadata": {},
   "outputs": [
    {
     "data": {
      "text/plain": [
       "'n'"
      ]
     },
     "execution_count": 71,
     "metadata": {},
     "output_type": "execute_result"
    }
   ],
   "source": [
    "str1[-1] #last character in string"
   ]
  },
  {
   "cell_type": "code",
   "execution_count": 73,
   "id": "81cc52d0-3526-4335-befe-41e960225811",
   "metadata": {},
   "outputs": [
    {
     "data": {
      "text/plain": [
       "'P'"
      ]
     },
     "execution_count": 73,
     "metadata": {},
     "output_type": "execute_result"
    }
   ],
   "source": [
    "str1[6] #Fetch 7th element of the string"
   ]
  },
  {
   "cell_type": "code",
   "execution_count": 74,
   "id": "35c84a56-c68c-4c4d-971d-26facf1f0db3",
   "metadata": {},
   "outputs": [
    {
     "data": {
      "text/plain": [
       "' '"
      ]
     },
     "execution_count": 74,
     "metadata": {},
     "output_type": "execute_result"
    }
   ],
   "source": [
    "str1[5]"
   ]
  },
  {
   "cell_type": "markdown",
   "id": "b2706594-bb94-4116-837d-4d8d5003dd83",
   "metadata": {},
   "source": [
    "# string slicing"
   ]
  },
  {
   "cell_type": "code",
   "execution_count": 75,
   "id": "f601961c-d10a-4f93-a53d-abc7a422582d",
   "metadata": {},
   "outputs": [
    {
     "data": {
      "text/plain": [
       "'Hello'"
      ]
     },
     "execution_count": 75,
     "metadata": {},
     "output_type": "execute_result"
    }
   ],
   "source": [
    "str1[0:5] #string slicing - fetch all character from 0 to 5 index locatio excution"
   ]
  },
  {
   "cell_type": "code",
   "execution_count": 76,
   "id": "b83f31de-c11e-4153-afd7-ff56f7568f9c",
   "metadata": {},
   "outputs": [
    {
     "data": {
      "text/plain": [
       "'Python'"
      ]
     },
     "execution_count": 76,
     "metadata": {},
     "output_type": "execute_result"
    }
   ],
   "source": [
    "str1[6:12] # String slicing - Retreive all characters between 6 - 12 index loc e"
   ]
  },
  {
   "cell_type": "code",
   "execution_count": 78,
   "id": "3ab671fb-fe2b-44d9-b25d-fe7bbccaa291",
   "metadata": {},
   "outputs": [
    {
     "data": {
      "text/plain": [
       "'thon'"
      ]
     },
     "execution_count": 78,
     "metadata": {},
     "output_type": "execute_result"
    }
   ],
   "source": [
    "str1[-4:] #retrive last four character of the string"
   ]
  },
  {
   "cell_type": "code",
   "execution_count": 79,
   "id": "bf22e85b-edce-4fde-9f22-41885c6c5696",
   "metadata": {},
   "outputs": [
    {
     "data": {
      "text/plain": [
       "'Python'"
      ]
     },
     "execution_count": 79,
     "metadata": {},
     "output_type": "execute_result"
    }
   ],
   "source": [
    "str1[-6:] # Retreive last six characters of the string\n"
   ]
  },
  {
   "cell_type": "code",
   "execution_count": 80,
   "id": "aaecf955-5e45-4cd2-aff0-efc7caef3770",
   "metadata": {},
   "outputs": [
    {
     "data": {
      "text/plain": [
       "'Hell'"
      ]
     },
     "execution_count": 80,
     "metadata": {},
     "output_type": "execute_result"
    }
   ],
   "source": [
    "str1[:4] # Retreive first four characters of the string"
   ]
  },
  {
   "cell_type": "code",
   "execution_count": 81,
   "id": "1af90b7c-d04d-4920-9426-e16e37cff564",
   "metadata": {},
   "outputs": [
    {
     "data": {
      "text/plain": [
       "'Hello '"
      ]
     },
     "execution_count": 81,
     "metadata": {},
     "output_type": "execute_result"
    }
   ],
   "source": [
    "str1[:6] #Retreive first six characters of the string"
   ]
  },
  {
   "cell_type": "markdown",
   "id": "be576b28-e16c-49da-b5d2-c1aea59ba29e",
   "metadata": {},
   "source": [
    "# update & Delete String"
   ]
  },
  {
   "cell_type": "code",
   "execution_count": 82,
   "id": "1afa5116-c9e1-43f2-a79f-82936fd318d0",
   "metadata": {},
   "outputs": [
    {
     "data": {
      "text/plain": [
       "'Hello Python'"
      ]
     },
     "execution_count": 82,
     "metadata": {},
     "output_type": "execute_result"
    }
   ],
   "source": [
    "str1"
   ]
  },
  {
   "cell_type": "code",
   "execution_count": 83,
   "id": "9c7708dc-cf44-4b08-8721-25ff02ce1667",
   "metadata": {},
   "outputs": [
    {
     "ename": "TypeError",
     "evalue": "'str' object does not support item assignment",
     "output_type": "error",
     "traceback": [
      "\u001b[1;31m---------------------------------------------------------------------------\u001b[0m",
      "\u001b[1;31mTypeError\u001b[0m                                 Traceback (most recent call last)",
      "Cell \u001b[1;32mIn[83], line 2\u001b[0m\n\u001b[0;32m      1\u001b[0m \u001b[38;5;66;03m#Strings are immutable which means elements of a string cannot be changed once t\u001b[39;00m\n\u001b[1;32m----> 2\u001b[0m str1[\u001b[38;5;241m0\u001b[39m:\u001b[38;5;241m5\u001b[39m] \u001b[38;5;241m=\u001b[39m \u001b[38;5;124m'\u001b[39m\u001b[38;5;124mHolaa\u001b[39m\u001b[38;5;124m'\u001b[39m\n",
      "\u001b[1;31mTypeError\u001b[0m: 'str' object does not support item assignment"
     ]
    }
   ],
   "source": [
    "#Strings are immutable which means elements of a string cannot be changed once t\n",
    "str1[0:5] = 'Holaa'"
   ]
  },
  {
   "cell_type": "code",
   "execution_count": 84,
   "id": "131f79c2-e7af-4ece-af66-fef568cdc9c1",
   "metadata": {},
   "outputs": [
    {
     "ename": "NameError",
     "evalue": "name 'str1' is not defined",
     "output_type": "error",
     "traceback": [
      "\u001b[1;31m---------------------------------------------------------------------------\u001b[0m",
      "\u001b[1;31mNameError\u001b[0m                                 Traceback (most recent call last)",
      "Cell \u001b[1;32mIn[84], line 2\u001b[0m\n\u001b[0;32m      1\u001b[0m \u001b[38;5;28;01mdel\u001b[39;00m str1 \u001b[38;5;66;03m#delete a string\u001b[39;00m\n\u001b[1;32m----> 2\u001b[0m \u001b[38;5;28mprint\u001b[39m(str1)\n",
      "\u001b[1;31mNameError\u001b[0m: name 'str1' is not defined"
     ]
    }
   ],
   "source": [
    "del str1 #delete a string\n",
    "print(str1)"
   ]
  },
  {
   "cell_type": "markdown",
   "id": "fa52748f-1051-44fa-8203-59e6e9104c45",
   "metadata": {},
   "source": [
    "# string concatenation"
   ]
  },
  {
   "cell_type": "code",
   "execution_count": 85,
   "id": "89730484-dcd8-4c6f-93cd-03d6db491735",
   "metadata": {},
   "outputs": [
    {
     "name": "stdout",
     "output_type": "stream",
     "text": [
      "helloasif\n"
     ]
    }
   ],
   "source": [
    "#sting concatenation\n",
    "s1 = \"hello\"\n",
    "s2 = \"asif\"\n",
    "s3 = s1+ s2\n",
    "print(s3)"
   ]
  },
  {
   "cell_type": "code",
   "execution_count": null,
   "id": "a5a286ff-360c-46db-a7d5-27069487d46e",
   "metadata": {},
   "outputs": [],
   "source": []
  }
 ],
 "metadata": {
  "kernelspec": {
   "display_name": "Python [conda env:base] *",
   "language": "python",
   "name": "conda-base-py"
  },
  "language_info": {
   "codemirror_mode": {
    "name": "ipython",
    "version": 3
   },
   "file_extension": ".py",
   "mimetype": "text/x-python",
   "name": "python",
   "nbconvert_exporter": "python",
   "pygments_lexer": "ipython3",
   "version": "3.12.7"
  }
 },
 "nbformat": 4,
 "nbformat_minor": 5
}
