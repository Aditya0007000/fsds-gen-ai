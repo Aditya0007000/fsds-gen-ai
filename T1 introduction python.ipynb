{
 "cells": [
  {
   "cell_type": "markdown",
   "id": "17a26ad3-37f5-4198-afc7-817c8f78fb53",
   "metadata": {},
   "source": [
    "# An Informal Introduction to Python"
   ]
  },
  {
   "cell_type": "code",
   "execution_count": 1,
   "id": "b503a322-5105-4fd6-a262-8b45cf7dd53c",
   "metadata": {},
   "outputs": [],
   "source": [
    "spam = 1\n",
    "text = \"#this is not a comment because it inside quotes.\""
   ]
  },
  {
   "cell_type": "code",
   "execution_count": 2,
   "id": "64bd9c19-8310-4c5a-8712-dfd51c2a0982",
   "metadata": {},
   "outputs": [
    {
     "data": {
      "text/plain": [
       "4"
      ]
     },
     "execution_count": 2,
     "metadata": {},
     "output_type": "execute_result"
    }
   ],
   "source": [
    "2+2"
   ]
  },
  {
   "cell_type": "code",
   "execution_count": 3,
   "id": "8b27fc12-ce4a-4385-9b51-ed5346a7d943",
   "metadata": {},
   "outputs": [
    {
     "data": {
      "text/plain": [
       "5.0"
      ]
     },
     "execution_count": 3,
     "metadata": {},
     "output_type": "execute_result"
    }
   ],
   "source": [
    "(50-5*6)/4\n"
   ]
  },
  {
   "cell_type": "code",
   "execution_count": 4,
   "id": "481af6bb-06de-4d7e-8d3f-dc2d9e5f22fc",
   "metadata": {},
   "outputs": [
    {
     "data": {
      "text/plain": [
       "1.6"
      ]
     },
     "execution_count": 4,
     "metadata": {},
     "output_type": "execute_result"
    }
   ],
   "source": [
    "8/5\n",
    "#division always retuen a floating point number"
   ]
  },
  {
   "cell_type": "code",
   "execution_count": 5,
   "id": "71d77978-903c-4828-a64a-031aa9b6a98d",
   "metadata": {},
   "outputs": [
    {
     "data": {
      "text/plain": [
       "5.666666666666667"
      ]
     },
     "execution_count": 5,
     "metadata": {},
     "output_type": "execute_result"
    }
   ],
   "source": [
    "17/3 #classic division returns a float"
   ]
  },
  {
   "cell_type": "code",
   "execution_count": 6,
   "id": "4fe50e71-4ef8-4150-a37d-550aa5b870fd",
   "metadata": {},
   "outputs": [
    {
     "data": {
      "text/plain": [
       "5"
      ]
     },
     "execution_count": 6,
     "metadata": {},
     "output_type": "execute_result"
    }
   ],
   "source": [
    "17//3 #floor division discard the fractional part"
   ]
  },
  {
   "cell_type": "code",
   "execution_count": 7,
   "id": "408a0995-ceb4-46a7-b399-25a5582a4997",
   "metadata": {},
   "outputs": [
    {
     "data": {
      "text/plain": [
       "2"
      ]
     },
     "execution_count": 7,
     "metadata": {},
     "output_type": "execute_result"
    }
   ],
   "source": [
    "17% 3#the % oprator returns the remainder of the division"
   ]
  },
  {
   "cell_type": "code",
   "execution_count": 8,
   "id": "06a3081a-e517-4aac-9a52-6245adce52d8",
   "metadata": {},
   "outputs": [
    {
     "data": {
      "text/plain": [
       "17"
      ]
     },
     "execution_count": 8,
     "metadata": {},
     "output_type": "execute_result"
    }
   ],
   "source": [
    "5 * 3 +2 #floored quotient * divisor + remainder"
   ]
  },
  {
   "cell_type": "code",
   "execution_count": 9,
   "id": "cd1148d1-969b-4c27-a8cd-17bf8919e411",
   "metadata": {},
   "outputs": [
    {
     "data": {
      "text/plain": [
       "25"
      ]
     },
     "execution_count": 9,
     "metadata": {},
     "output_type": "execute_result"
    }
   ],
   "source": [
    "5**2 #5 square\n"
   ]
  },
  {
   "cell_type": "code",
   "execution_count": 10,
   "id": "ae687aad-cbb1-4ee8-8b66-3233f0969085",
   "metadata": {},
   "outputs": [
    {
     "data": {
      "text/plain": [
       "128"
      ]
     },
     "execution_count": 10,
     "metadata": {},
     "output_type": "execute_result"
    }
   ],
   "source": [
    "2** 7 # 2 to the power of 7"
   ]
  },
  {
   "cell_type": "code",
   "execution_count": 11,
   "id": "2ae65d0d-f3fc-4be3-b877-c65456d2b0d9",
   "metadata": {},
   "outputs": [
    {
     "data": {
      "text/plain": [
       "900"
      ]
     },
     "execution_count": 11,
     "metadata": {},
     "output_type": "execute_result"
    }
   ],
   "source": [
    "width =20\n",
    "height = 5*9\n",
    "width * height\n"
   ]
  },
  {
   "cell_type": "code",
   "execution_count": 12,
   "id": "ee0b5e8f-84fe-44cc-8c95-c72dd16cfaee",
   "metadata": {},
   "outputs": [
    {
     "data": {
      "text/plain": [
       "14.0"
      ]
     },
     "execution_count": 12,
     "metadata": {},
     "output_type": "execute_result"
    }
   ],
   "source": [
    "4 * 3.75 -1"
   ]
  },
  {
   "cell_type": "code",
   "execution_count": 13,
   "id": "9dfef9b0-71c4-45bd-a1cd-56835cf708f7",
   "metadata": {},
   "outputs": [
    {
     "data": {
      "text/plain": [
       "12.5625"
      ]
     },
     "execution_count": 13,
     "metadata": {},
     "output_type": "execute_result"
    }
   ],
   "source": [
    "tax = 12.5 / 100\n",
    "price = 100.50\n",
    "price * tax "
   ]
  },
  {
   "cell_type": "code",
   "execution_count": 14,
   "id": "cb5ab054-647d-4c47-b709-437eb2bac417",
   "metadata": {},
   "outputs": [
    {
     "data": {
      "text/plain": [
       "125.5"
      ]
     },
     "execution_count": 14,
     "metadata": {},
     "output_type": "execute_result"
    }
   ],
   "source": [
    "price + 25"
   ]
  },
  {
   "cell_type": "code",
   "execution_count": 15,
   "id": "ddfbb816-34ea-44c0-b8fc-b92c3012a874",
   "metadata": {},
   "outputs": [
    {
     "data": {
      "text/plain": [
       "10"
      ]
     },
     "execution_count": 15,
     "metadata": {},
     "output_type": "execute_result"
    }
   ],
   "source": [
    "round(10,2)"
   ]
  },
  {
   "cell_type": "code",
   "execution_count": 16,
   "id": "276956e8-46fa-474c-a51b-a9e16e0afada",
   "metadata": {},
   "outputs": [],
   "source": [
    "#text"
   ]
  },
  {
   "cell_type": "code",
   "execution_count": 17,
   "id": "1cd9089e-2091-4cba-ae46-e632053a75f4",
   "metadata": {},
   "outputs": [
    {
     "data": {
      "text/plain": [
       "'spam eggs'"
      ]
     },
     "execution_count": 17,
     "metadata": {},
     "output_type": "execute_result"
    }
   ],
   "source": [
    "'spam eggs' #single comment"
   ]
  },
  {
   "cell_type": "code",
   "execution_count": 18,
   "id": "ea5fc908-0751-4dc8-a4d9-9157ac874feb",
   "metadata": {},
   "outputs": [
    {
     "data": {
      "text/plain": [
       "'paris rabbit got your back :)! yay!'"
      ]
     },
     "execution_count": 18,
     "metadata": {},
     "output_type": "execute_result"
    }
   ],
   "source": [
    "\"paris rabbit got your back :)! yay!\"  #double comment"
   ]
  },
  {
   "cell_type": "code",
   "execution_count": 19,
   "id": "37567dde-aff1-49e6-8dac-656358dfd414",
   "metadata": {},
   "outputs": [
    {
     "data": {
      "text/plain": [
       "'1975'"
      ]
     },
     "execution_count": 19,
     "metadata": {},
     "output_type": "execute_result"
    }
   ],
   "source": [
    "'1975'# digits and numerals enclosed in quotes are alsi string"
   ]
  },
  {
   "cell_type": "code",
   "execution_count": 20,
   "id": "d526ee57-317d-4c20-bc97-59e4d85e6be4",
   "metadata": {},
   "outputs": [
    {
     "data": {
      "text/plain": [
       "\"doesn't\""
      ]
     },
     "execution_count": 20,
     "metadata": {},
     "output_type": "execute_result"
    }
   ],
   "source": [
    "'doesn\\'t'  # use \\, to escape the single quote"
   ]
  },
  {
   "cell_type": "code",
   "execution_count": 21,
   "id": "960bb8e4-3889-4493-86bd-bb53d790111c",
   "metadata": {},
   "outputs": [
    {
     "data": {
      "text/plain": [
       "'\"yes\", the said'"
      ]
     },
     "execution_count": 21,
     "metadata": {},
     "output_type": "execute_result"
    }
   ],
   "source": [
    "'\"yes\", the said'"
   ]
  },
  {
   "cell_type": "code",
   "execution_count": 22,
   "id": "2b2f060a-f945-489c-90b3-3a86e1108120",
   "metadata": {},
   "outputs": [
    {
     "data": {
      "text/plain": [
       "'\"yes,\" they said.'"
      ]
     },
     "execution_count": 22,
     "metadata": {},
     "output_type": "execute_result"
    }
   ],
   "source": [
    "\"\\\"yes,\\\" they said.\""
   ]
  },
  {
   "cell_type": "code",
   "execution_count": 23,
   "id": "4cbfdd9b-50a3-49bb-b5c6-daea946b4e8a",
   "metadata": {},
   "outputs": [
    {
     "data": {
      "text/plain": [
       "'\"Isn\\'t,\" they said.'"
      ]
     },
     "execution_count": 23,
     "metadata": {},
     "output_type": "execute_result"
    }
   ],
   "source": [
    "'\"Isn\\'t,\" they said.'"
   ]
  },
  {
   "cell_type": "code",
   "execution_count": 24,
   "id": "3c1b446d-6dd8-43a6-bbdc-aac98f2aea4e",
   "metadata": {},
   "outputs": [],
   "source": [
    "s = 'first line\\nSecond line.'"
   ]
  },
  {
   "cell_type": "code",
   "execution_count": 25,
   "id": "0007efec-d890-44c8-877c-cc7731353c02",
   "metadata": {},
   "outputs": [
    {
     "data": {
      "text/plain": [
       "'first line\\nSecond line.'"
      ]
     },
     "execution_count": 25,
     "metadata": {},
     "output_type": "execute_result"
    }
   ],
   "source": [
    "s"
   ]
  },
  {
   "cell_type": "code",
   "execution_count": 26,
   "id": "72a4a717-de65-46e6-8574-08758cca0e43",
   "metadata": {},
   "outputs": [
    {
     "name": "stdout",
     "output_type": "stream",
     "text": [
      "first line\n",
      "Second line.\n"
     ]
    }
   ],
   "source": [
    "print(s)"
   ]
  },
  {
   "cell_type": "code",
   "execution_count": 27,
   "id": "6164ab99-5dc9-4809-b436-691a6b18252f",
   "metadata": {},
   "outputs": [
    {
     "name": "stdout",
     "output_type": "stream",
     "text": [
      "c:\\some\n",
      "ame\n"
     ]
    },
    {
     "name": "stderr",
     "output_type": "stream",
     "text": [
      "<>:1: SyntaxWarning: invalid escape sequence '\\s'\n",
      "<>:1: SyntaxWarning: invalid escape sequence '\\s'\n",
      "C:\\Users\\adity\\AppData\\Local\\Temp\\ipykernel_23336\\1097542731.py:1: SyntaxWarning: invalid escape sequence '\\s'\n",
      "  print('c:\\some\\name')  # \\n means new line\n"
     ]
    }
   ],
   "source": [
    "print('c:\\some\\name')  # \\n means new line "
   ]
  },
  {
   "cell_type": "code",
   "execution_count": 28,
   "id": "881ea96b-a4d9-4abd-b2d3-4ab4c14a0632",
   "metadata": {},
   "outputs": [
    {
     "name": "stdout",
     "output_type": "stream",
     "text": [
      "c:\\some\\name\n"
     ]
    }
   ],
   "source": [
    "print(r'c:\\some\\name') # note the r before the quote"
   ]
  },
  {
   "cell_type": "code",
   "execution_count": 29,
   "id": "05831ca7-3616-460d-b986-c42f29d6d1b6",
   "metadata": {},
   "outputs": [
    {
     "name": "stdout",
     "output_type": "stream",
     "text": [
      "\"      ...-h                     display this usage message\n",
      "      ...-H                     Hostname to connect to\n",
      "      ...\n"
     ]
    }
   ],
   "source": [
    "print(\"\"\"\"\\\n",
    "      ...-h                     display this usage message\n",
    "      ...-H                     Hostname to connect to\n",
    "      ...\"\"\")"
   ]
  },
  {
   "cell_type": "code",
   "execution_count": 30,
   "id": "18ae7cec-dac9-4d67-aecc-a66e8bfc2010",
   "metadata": {},
   "outputs": [
    {
     "data": {
      "text/plain": [
       "'unununium'"
      ]
     },
     "execution_count": 30,
     "metadata": {},
     "output_type": "execute_result"
    }
   ],
   "source": [
    "# 3 time 'un', follwed by 'ium'\n",
    "3 * 'un' + 'ium'"
   ]
  },
  {
   "cell_type": "code",
   "execution_count": 31,
   "id": "bc5eaf10-950d-4e29-a2c7-e8e15a7a97c9",
   "metadata": {},
   "outputs": [
    {
     "data": {
      "text/plain": [
       "'python'"
      ]
     },
     "execution_count": 31,
     "metadata": {},
     "output_type": "execute_result"
    }
   ],
   "source": [
    "'py' 'thon'"
   ]
  },
  {
   "cell_type": "code",
   "execution_count": 32,
   "id": "4135ad0d-9d8e-4d77-8aa5-f20c0ea3b6ce",
   "metadata": {},
   "outputs": [],
   "source": [
    "text = ('put sevral string within parantheses'\n",
    "        'to have them joined together.')"
   ]
  },
  {
   "cell_type": "code",
   "execution_count": 33,
   "id": "eeea8bd4-60f0-4830-bb53-93ac3839b20d",
   "metadata": {},
   "outputs": [
    {
     "data": {
      "text/plain": [
       "'put sevral string within paranthesesto have them joined together.'"
      ]
     },
     "execution_count": 33,
     "metadata": {},
     "output_type": "execute_result"
    }
   ],
   "source": [
    "text"
   ]
  },
  {
   "cell_type": "code",
   "execution_count": 34,
   "id": "926b4a47-ebd6-4cae-8271-c1187b7a9d14",
   "metadata": {},
   "outputs": [
    {
     "ename": "SyntaxError",
     "evalue": "invalid syntax (2656014990.py, line 2)",
     "output_type": "error",
     "traceback": [
      "\u001b[1;36m  Cell \u001b[1;32mIn[34], line 2\u001b[1;36m\u001b[0m\n\u001b[1;33m    prefix 'thon'  #can't concatenate a variable and string literal\u001b[0m\n\u001b[1;37m           ^\u001b[0m\n\u001b[1;31mSyntaxError\u001b[0m\u001b[1;31m:\u001b[0m invalid syntax\n"
     ]
    }
   ],
   "source": [
    "prefix = 'py'\n",
    "prefix 'thon'  #can't concatenate a variable and string literal"
   ]
  },
  {
   "cell_type": "code",
   "execution_count": 35,
   "id": "0ac9e5e3-a06a-4bf3-8efe-a80c16815079",
   "metadata": {},
   "outputs": [
    {
     "ename": "SyntaxError",
     "evalue": "invalid syntax (3357839946.py, line 1)",
     "output_type": "error",
     "traceback": [
      "\u001b[1;36m  Cell \u001b[1;32mIn[35], line 1\u001b[1;36m\u001b[0m\n\u001b[1;33m    ('un' * 3) 'ium'\u001b[0m\n\u001b[1;37m               ^\u001b[0m\n\u001b[1;31mSyntaxError\u001b[0m\u001b[1;31m:\u001b[0m invalid syntax\n"
     ]
    }
   ],
   "source": [
    "('un' * 3) 'ium'"
   ]
  },
  {
   "cell_type": "code",
   "execution_count": 36,
   "id": "9e8eff16-b458-4462-bd04-60ab9a2df174",
   "metadata": {},
   "outputs": [
    {
     "ename": "NameError",
     "evalue": "name 'prefix' is not defined",
     "output_type": "error",
     "traceback": [
      "\u001b[1;31m---------------------------------------------------------------------------\u001b[0m",
      "\u001b[1;31mNameError\u001b[0m                                 Traceback (most recent call last)",
      "Cell \u001b[1;32mIn[36], line 1\u001b[0m\n\u001b[1;32m----> 1\u001b[0m prefix \u001b[38;5;241m+\u001b[39m \u001b[38;5;124m'\u001b[39m\u001b[38;5;124mthon\u001b[39m\u001b[38;5;124m'\u001b[39m\n",
      "\u001b[1;31mNameError\u001b[0m: name 'prefix' is not defined"
     ]
    }
   ],
   "source": [
    "prefix + 'thon'"
   ]
  },
  {
   "cell_type": "code",
   "execution_count": 37,
   "id": "6de4ce3b-da8d-40b6-a820-9c3a4cd63803",
   "metadata": {},
   "outputs": [
    {
     "data": {
      "text/plain": [
       "'p'"
      ]
     },
     "execution_count": 37,
     "metadata": {},
     "output_type": "execute_result"
    }
   ],
   "source": [
    "word = 'python'\n",
    "word[0] # character in position 0"
   ]
  },
  {
   "cell_type": "code",
   "execution_count": 38,
   "id": "b617f7bb-dd56-479f-87f9-ee45a7f59186",
   "metadata": {},
   "outputs": [
    {
     "data": {
      "text/plain": [
       "'n'"
      ]
     },
     "execution_count": 38,
     "metadata": {},
     "output_type": "execute_result"
    }
   ],
   "source": [
    "word[5] # character in position 5"
   ]
  },
  {
   "cell_type": "code",
   "execution_count": 39,
   "id": "2339c6f3-e7f2-4e12-88eb-7180813e1af0",
   "metadata": {},
   "outputs": [
    {
     "data": {
      "text/plain": [
       "'n'"
      ]
     },
     "execution_count": 39,
     "metadata": {},
     "output_type": "execute_result"
    }
   ],
   "source": [
    "word[-1] #last number"
   ]
  },
  {
   "cell_type": "code",
   "execution_count": 40,
   "id": "5636f14c-08d4-42bf-84be-3203d8d42689",
   "metadata": {},
   "outputs": [
    {
     "data": {
      "text/plain": [
       "'o'"
      ]
     },
     "execution_count": 40,
     "metadata": {},
     "output_type": "execute_result"
    }
   ],
   "source": [
    "word[-2] #second last number"
   ]
  },
  {
   "cell_type": "code",
   "execution_count": 41,
   "id": "0745717c-c168-4edf-b935-360ef6230742",
   "metadata": {},
   "outputs": [
    {
     "data": {
      "text/plain": [
       "'p'"
      ]
     },
     "execution_count": 41,
     "metadata": {},
     "output_type": "execute_result"
    }
   ],
   "source": [
    "word[-6]"
   ]
  },
  {
   "cell_type": "code",
   "execution_count": 42,
   "id": "2d31e801-5c9f-4f2f-b16c-81dfbc856272",
   "metadata": {},
   "outputs": [
    {
     "data": {
      "text/plain": [
       "'py'"
      ]
     },
     "execution_count": 42,
     "metadata": {},
     "output_type": "execute_result"
    }
   ],
   "source": [
    "word[0:2] # character from the begining to position 2 ( exculded)"
   ]
  },
  {
   "cell_type": "code",
   "execution_count": 43,
   "id": "1b71902e-6f01-43e2-85d5-581b1f0f4d72",
   "metadata": {},
   "outputs": [
    {
     "data": {
      "text/plain": [
       "'tho'"
      ]
     },
     "execution_count": 43,
     "metadata": {},
     "output_type": "execute_result"
    }
   ],
   "source": [
    "word[2:5]# character from position 2 (included) to 5 (excluded)"
   ]
  },
  {
   "cell_type": "code",
   "execution_count": 44,
   "id": "b68179cd-2d46-4094-af54-618885dc88da",
   "metadata": {},
   "outputs": [
    {
     "data": {
      "text/plain": [
       "'py'"
      ]
     },
     "execution_count": 44,
     "metadata": {},
     "output_type": "execute_result"
    }
   ],
   "source": [
    "word[:2] #character from the begining to positon 2 (excluded)"
   ]
  },
  {
   "cell_type": "code",
   "execution_count": 45,
   "id": "d489f43e-b678-4434-91c6-a75466eb0acc",
   "metadata": {},
   "outputs": [
    {
     "data": {
      "text/plain": [
       "'on'"
      ]
     },
     "execution_count": 45,
     "metadata": {},
     "output_type": "execute_result"
    }
   ],
   "source": [
    "word[4:] #characters from position 4 (included) to the end"
   ]
  },
  {
   "cell_type": "code",
   "execution_count": 46,
   "id": "5bab4dc4-9ced-453a-82ba-a1387921dc39",
   "metadata": {},
   "outputs": [
    {
     "data": {
      "text/plain": [
       "'on'"
      ]
     },
     "execution_count": 46,
     "metadata": {},
     "output_type": "execute_result"
    }
   ],
   "source": [
    "word[-2:] #character from the second last (ncluded) to the end"
   ]
  },
  {
   "cell_type": "code",
   "execution_count": 47,
   "id": "9d715b84-825b-4319-bdeb-d2576b813c19",
   "metadata": {},
   "outputs": [
    {
     "data": {
      "text/plain": [
       "'python'"
      ]
     },
     "execution_count": 47,
     "metadata": {},
     "output_type": "execute_result"
    }
   ],
   "source": [
    "word[:2] + word[2:]"
   ]
  },
  {
   "cell_type": "code",
   "execution_count": 48,
   "id": "815dee24-0396-4aa2-b23c-0ed8ae80428c",
   "metadata": {},
   "outputs": [
    {
     "data": {
      "text/plain": [
       "'python'"
      ]
     },
     "execution_count": 48,
     "metadata": {},
     "output_type": "execute_result"
    }
   ],
   "source": [
    "word[:4] + word[4:]"
   ]
  },
  {
   "cell_type": "code",
   "execution_count": 49,
   "id": "9ec6e16a-37cb-433d-b973-d4875520ff4c",
   "metadata": {},
   "outputs": [
    {
     "data": {
      "image/png": "[encoded data removed]",
      "text/plain": [
       "<IPython.core.display.Image object>"
      ]
     },
     "execution_count": 49,
     "metadata": {},
     "output_type": "execute_result"
    }
   ],
   "source": [
    "from IPython.display import Image\n",
    "Image(\"Screenshot 2025-06-25 114558.png\") "
   ]
  },
  {
   "cell_type": "code",
   "execution_count": 50,
   "id": "7e706f49-f921-4293-aac7-ae1b8c95018b",
   "metadata": {},
   "outputs": [
    {
     "ename": "IndexError",
     "evalue": "string index out of range",
     "output_type": "error",
     "traceback": [
      "\u001b[1;31m---------------------------------------------------------------------------\u001b[0m",
      "\u001b[1;31mIndexError\u001b[0m                                Traceback (most recent call last)",
      "Cell \u001b[1;32mIn[50], line 1\u001b[0m\n\u001b[1;32m----> 1\u001b[0m word[\u001b[38;5;241m42\u001b[39m]\n",
      "\u001b[1;31mIndexError\u001b[0m: string index out of range"
     ]
    }
   ],
   "source": [
    "word[42] #the word only has 6 characters"
   ]
  },
  {
   "cell_type": "code",
   "execution_count": 51,
   "id": "34e8144f-4f83-431a-a949-721de41f1e2a",
   "metadata": {},
   "outputs": [
    {
     "data": {
      "text/plain": [
       "'on'"
      ]
     },
     "execution_count": 51,
     "metadata": {},
     "output_type": "execute_result"
    }
   ],
   "source": [
    "word[4:42]"
   ]
  },
  {
   "cell_type": "code",
   "execution_count": 52,
   "id": "f73bb78f-9000-41c5-b708-c04eaf2c8d08",
   "metadata": {},
   "outputs": [
    {
     "data": {
      "text/plain": [
       "'python'"
      ]
     },
     "execution_count": 52,
     "metadata": {},
     "output_type": "execute_result"
    }
   ],
   "source": [
    "word"
   ]
  },
  {
   "cell_type": "code",
   "execution_count": 53,
   "id": "d44ed297-a4e2-43dd-9e95-edc12345e7f7",
   "metadata": {},
   "outputs": [
    {
     "data": {
      "text/plain": [
       "''"
      ]
     },
     "execution_count": 53,
     "metadata": {},
     "output_type": "execute_result"
    }
   ],
   "source": [
    "word[42:]"
   ]
  },
  {
   "cell_type": "code",
   "execution_count": 54,
   "id": "9240461d-bb2a-4388-8a62-6d4f90449269",
   "metadata": {},
   "outputs": [
    {
     "ename": "TypeError",
     "evalue": "'str' object does not support item assignment",
     "output_type": "error",
     "traceback": [
      "\u001b[1;31m---------------------------------------------------------------------------\u001b[0m",
      "\u001b[1;31mTypeError\u001b[0m                                 Traceback (most recent call last)",
      "Cell \u001b[1;32mIn[54], line 1\u001b[0m\n\u001b[1;32m----> 1\u001b[0m word[\u001b[38;5;241m0\u001b[39m]\u001b[38;5;241m=\u001b[39m \u001b[38;5;124m'\u001b[39m\u001b[38;5;124mj\u001b[39m\u001b[38;5;124m'\u001b[39m\n",
      "\u001b[1;31mTypeError\u001b[0m: 'str' object does not support item assignment"
     ]
    }
   ],
   "source": [
    "word[0]= 'j'"
   ]
  },
  {
   "cell_type": "code",
   "execution_count": 55,
   "id": "f0e606e7-5d8c-452b-9b31-130a06a5f716",
   "metadata": {},
   "outputs": [
    {
     "ename": "TypeError",
     "evalue": "'str' object does not support item assignment",
     "output_type": "error",
     "traceback": [
      "\u001b[1;31m---------------------------------------------------------------------------\u001b[0m",
      "\u001b[1;31mTypeError\u001b[0m                                 Traceback (most recent call last)",
      "Cell \u001b[1;32mIn[55], line 1\u001b[0m\n\u001b[1;32m----> 1\u001b[0m word[\u001b[38;5;241m2\u001b[39m:\u001b[38;5;241m0\u001b[39m] \u001b[38;5;241m=\u001b[39m \u001b[38;5;124m'\u001b[39m\u001b[38;5;124mpy\u001b[39m\u001b[38;5;124m'\u001b[39m\n",
      "\u001b[1;31mTypeError\u001b[0m: 'str' object does not support item assignment"
     ]
    }
   ],
   "source": [
    "word[2:0] = 'py'"
   ]
  },
  {
   "cell_type": "code",
   "execution_count": 56,
   "id": "6fd847e0-2509-4493-ac61-d7af00b5b35c",
   "metadata": {},
   "outputs": [
    {
     "data": {
      "text/plain": [
       "'jython'"
      ]
     },
     "execution_count": 56,
     "metadata": {},
     "output_type": "execute_result"
    }
   ],
   "source": [
    "'j' + word[1:]"
   ]
  },
  {
   "cell_type": "code",
   "execution_count": 57,
   "id": "5188414e-470e-44be-bacb-bfbd1661071c",
   "metadata": {},
   "outputs": [
    {
     "data": {
      "text/plain": [
       "'pypy'"
      ]
     },
     "execution_count": 57,
     "metadata": {},
     "output_type": "execute_result"
    }
   ],
   "source": [
    "word[:2] + 'py'"
   ]
  },
  {
   "cell_type": "code",
   "execution_count": 58,
   "id": "a19db513-0cc3-40a9-8b7c-88213ae896f9",
   "metadata": {},
   "outputs": [],
   "source": [
    " s= 'hvkHVCLVVDCLDVVDc'"
   ]
  },
  {
   "cell_type": "code",
   "execution_count": 59,
   "id": "bc20466e-c627-47aa-aff8-c2f6a210a30b",
   "metadata": {},
   "outputs": [
    {
     "data": {
      "text/plain": [
       "17"
      ]
     },
     "execution_count": 59,
     "metadata": {},
     "output_type": "execute_result"
    }
   ],
   "source": [
    "len(s)"
   ]
  },
  {
   "cell_type": "markdown",
   "id": "3cd9979b-60dc-4177-9a84-7dda0988e590",
   "metadata": {},
   "source": [
    "# lists"
   ]
  },
  {
   "cell_type": "code",
   "execution_count": 60,
   "id": "1cb8e088-8371-4133-bfb7-afecfb1e57c8",
   "metadata": {},
   "outputs": [
    {
     "data": {
      "text/plain": [
       "[1, 4, 9, 16, 25]"
      ]
     },
     "execution_count": 60,
     "metadata": {},
     "output_type": "execute_result"
    }
   ],
   "source": [
    "square = [1,4,9,16,25]\n",
    "square\n"
   ]
  },
  {
   "cell_type": "code",
   "execution_count": 61,
   "id": "24bb8139-af8f-433e-9fee-0e1b651f0a7e",
   "metadata": {},
   "outputs": [
    {
     "data": {
      "text/plain": [
       "1"
      ]
     },
     "execution_count": 61,
     "metadata": {},
     "output_type": "execute_result"
    }
   ],
   "source": [
    "square[0]"
   ]
  },
  {
   "cell_type": "code",
   "execution_count": 62,
   "id": "0c346593-9cc0-4d4b-be1c-dc23668dd43e",
   "metadata": {},
   "outputs": [
    {
     "data": {
      "text/plain": [
       "25"
      ]
     },
     "execution_count": 62,
     "metadata": {},
     "output_type": "execute_result"
    }
   ],
   "source": [
    "square[-1]"
   ]
  },
  {
   "cell_type": "code",
   "execution_count": 63,
   "id": "eb359244-f7f3-43a8-9f76-6e2197f8f4dd",
   "metadata": {},
   "outputs": [
    {
     "data": {
      "text/plain": [
       "[9, 16, 25]"
      ]
     },
     "execution_count": 63,
     "metadata": {},
     "output_type": "execute_result"
    }
   ],
   "source": [
    "square[-3:]"
   ]
  },
  {
   "cell_type": "code",
   "execution_count": 64,
   "id": "4faeb089-7dd7-458a-878d-77ca898c9e90",
   "metadata": {},
   "outputs": [
    {
     "data": {
      "text/plain": [
       "[1, 4, 9, 16, 25, 36, 49, 64, 81, 100]"
      ]
     },
     "execution_count": 64,
     "metadata": {},
     "output_type": "execute_result"
    }
   ],
   "source": [
    "square + [36,49,64,81,100]"
   ]
  },
  {
   "cell_type": "code",
   "execution_count": 65,
   "id": "d6fc6d38-dea5-49dd-9e7e-f8646600b734",
   "metadata": {},
   "outputs": [
    {
     "data": {
      "text/plain": [
       "64"
      ]
     },
     "execution_count": 65,
     "metadata": {},
     "output_type": "execute_result"
    }
   ],
   "source": [
    "cubes = [1,8,27,65,125] #somethig's wrong here\n",
    "4**3 #the cube of 4 is 64, not 65!"
   ]
  },
  {
   "cell_type": "code",
   "execution_count": 66,
   "id": "51cdf762-09bd-4d63-acd1-fe97d6860b71",
   "metadata": {},
   "outputs": [
    {
     "data": {
      "text/plain": [
       "[1, 8, 27, 64, 125]"
      ]
     },
     "execution_count": 66,
     "metadata": {},
     "output_type": "execute_result"
    }
   ],
   "source": [
    "cubes[3] = 64 #replace the wrong value\n",
    "cubes"
   ]
  },
  {
   "cell_type": "code",
   "execution_count": 67,
   "id": "a25ceedb-a60b-4d00-a30a-1e122b9f1501",
   "metadata": {},
   "outputs": [
    {
     "data": {
      "text/plain": [
       "[1, 8, 27, 64, 125, 216, 343]"
      ]
     },
     "execution_count": 67,
     "metadata": {},
     "output_type": "execute_result"
    }
   ],
   "source": [
    "cubes.append(216) #add the cube of 6\n",
    "cubes.append(7**3) #add the cube of 7\n",
    "cubes"
   ]
  },
  {
   "cell_type": "code",
   "execution_count": 68,
   "id": "12d8b08b-b29d-4cce-a29d-577316771ee4",
   "metadata": {},
   "outputs": [
    {
     "data": {
      "text/plain": [
       "True"
      ]
     },
     "execution_count": 68,
     "metadata": {},
     "output_type": "execute_result"
    }
   ],
   "source": [
    "rgb = [\"red\",\"Green\",\"Blue\"]\n",
    "rgba =rgb\n",
    "id(rgb) == id(rgba) #they reference the same object"
   ]
  },
  {
   "cell_type": "code",
   "execution_count": 69,
   "id": "b20e3131-7649-485e-81db-528b255c8ed4",
   "metadata": {},
   "outputs": [
    {
     "data": {
      "text/plain": [
       "['red', 'Green', 'Blue', 'alph']"
      ]
     },
     "execution_count": 69,
     "metadata": {},
     "output_type": "execute_result"
    }
   ],
   "source": [
    "rgba.append(\"alph\")\n",
    "rgb"
   ]
  },
  {
   "cell_type": "code",
   "execution_count": 70,
   "id": "a87ca7d9-37ba-424b-a8e5-111a711ae345",
   "metadata": {},
   "outputs": [
    {
     "data": {
      "text/plain": [
       "['red', 'Green', 'Blue', 'Alpha']"
      ]
     },
     "execution_count": 70,
     "metadata": {},
     "output_type": "execute_result"
    }
   ],
   "source": [
    "correct_rgba = rgba[:]\n",
    "correct_rgba[-1]= 'Alpha'\n",
    "correct_rgba"
   ]
  },
  {
   "cell_type": "code",
   "execution_count": 71,
   "id": "c8316ee2-7713-49ef-9667-4454d3cdb3c1",
   "metadata": {},
   "outputs": [
    {
     "data": {
      "text/plain": [
       "['red', 'Green', 'Blue', 'alph']"
      ]
     },
     "execution_count": 71,
     "metadata": {},
     "output_type": "execute_result"
    }
   ],
   "source": [
    "rgba"
   ]
  },
  {
   "cell_type": "code",
   "execution_count": 72,
   "id": "3a934baa-856b-461d-8b8b-c715a3178248",
   "metadata": {},
   "outputs": [
    {
     "data": {
      "text/plain": [
       "['red', 'Green', 'Blue', 'Alpha']"
      ]
     },
     "execution_count": 72,
     "metadata": {},
     "output_type": "execute_result"
    }
   ],
   "source": [
    "correct_rgba"
   ]
  },
  {
   "cell_type": "code",
   "execution_count": 73,
   "id": "19b39941-f77d-4797-9acd-c27dcb834f7f",
   "metadata": {},
   "outputs": [
    {
     "data": {
      "text/plain": [
       "['a', 'b', 'c', 'd', 'e', 'f', 'g']"
      ]
     },
     "execution_count": 73,
     "metadata": {},
     "output_type": "execute_result"
    }
   ],
   "source": [
    "letters = ['a','b','c','d','e','f','g']\n",
    "letters"
   ]
  },
  {
   "cell_type": "code",
   "execution_count": 74,
   "id": "5feb412f-f1e8-4e73-8ee1-69bcba1fd791",
   "metadata": {},
   "outputs": [
    {
     "data": {
      "text/plain": [
       "['a', 'b', 'C', 'D', 'E', 'f', 'g']"
      ]
     },
     "execution_count": 74,
     "metadata": {},
     "output_type": "execute_result"
    }
   ],
   "source": [
    "#replace some values\n",
    "letters[2:5]=['C','D','E']\n",
    "letters"
   ]
  },
  {
   "cell_type": "code",
   "execution_count": 75,
   "id": "61e36214-42e0-48ce-863a-4366a22d6cc1",
   "metadata": {},
   "outputs": [
    {
     "data": {
      "text/plain": [
       "['a', 'b', 'f', 'g']"
      ]
     },
     "execution_count": 75,
     "metadata": {},
     "output_type": "execute_result"
    }
   ],
   "source": [
    "# now remove them\n",
    "letters[2:5]=[]\n",
    "letters"
   ]
  },
  {
   "cell_type": "code",
   "execution_count": 76,
   "id": "eae6d121-38de-440a-a0b4-bc1afe5c21b1",
   "metadata": {},
   "outputs": [
    {
     "data": {
      "text/plain": [
       "[]"
      ]
     },
     "execution_count": 76,
     "metadata": {},
     "output_type": "execute_result"
    }
   ],
   "source": [
    "# clear the list by replacing al  the elemrt with an empty list\n",
    "letters[:]=[]\n",
    "letters"
   ]
  },
  {
   "cell_type": "code",
   "execution_count": 77,
   "id": "43ff7a35-f5a2-4c51-8a90-612fe5d1efb1",
   "metadata": {},
   "outputs": [
    {
     "data": {
      "text/plain": [
       "4"
      ]
     },
     "execution_count": 77,
     "metadata": {},
     "output_type": "execute_result"
    }
   ],
   "source": [
    "letters = ['a','b','c','d']\n",
    "len(letters)"
   ]
  },
  {
   "cell_type": "code",
   "execution_count": 78,
   "id": "5c971476-feda-4bac-b7bc-aa3774e54dba",
   "metadata": {},
   "outputs": [
    {
     "data": {
      "text/plain": [
       "[['a', 'b', 'c'], [1, 2, 3]]"
      ]
     },
     "execution_count": 78,
     "metadata": {},
     "output_type": "execute_result"
    }
   ],
   "source": [
    "a = ['a','b','c']\n",
    "n = [1,2,3]\n",
    "x = [a,n]\n",
    "x"
   ]
  },
  {
   "cell_type": "code",
   "execution_count": 79,
   "id": "825c8e90-18b5-4549-a6b0-9fa817de088e",
   "metadata": {},
   "outputs": [
    {
     "data": {
      "text/plain": [
       "['a', 'b', 'c']"
      ]
     },
     "execution_count": 79,
     "metadata": {},
     "output_type": "execute_result"
    }
   ],
   "source": [
    "x[0]"
   ]
  },
  {
   "cell_type": "code",
   "execution_count": 80,
   "id": "5ab2b1e1-70ff-4794-a9bd-acc0d9af6d8e",
   "metadata": {},
   "outputs": [
    {
     "data": {
      "text/plain": [
       "'b'"
      ]
     },
     "execution_count": 80,
     "metadata": {},
     "output_type": "execute_result"
    }
   ],
   "source": [
    "x[0][1]"
   ]
  },
  {
   "cell_type": "markdown",
   "id": "cec21d7b-c272-464f-a6a4-ceff5cb72b90",
   "metadata": {},
   "source": [
    "# First step toward programing"
   ]
  },
  {
   "cell_type": "code",
   "execution_count": 82,
   "id": "b17184d0-15ea-4c6e-b7e4-659a1540f5d2",
   "metadata": {},
   "outputs": [
    {
     "name": "stdout",
     "output_type": "stream",
     "text": [
      "1\n",
      "1\n",
      "2\n",
      "3\n",
      "5\n",
      "8\n"
     ]
    }
   ],
   "source": [
    "#fiboncci series :\n",
    "#the sum of two element defines the next\n",
    "a, b,= 1,1\n",
    "while a < 10:\n",
    "    print(a)\n",
    "    a,b = b ,a+b"
   ]
  },
  {
   "cell_type": "code",
   "execution_count": 85,
   "id": "26623ab9-3627-4d08-934e-ebb3aa509bd2",
   "metadata": {},
   "outputs": [
    {
     "name": "stdout",
     "output_type": "stream",
     "text": [
      "the value of i is  65536\n"
     ]
    }
   ],
   "source": [
    "i = 256*256\n",
    "print('the value of i is ', i)"
   ]
  },
  {
   "cell_type": "code",
   "execution_count": 86,
   "id": "20b405a6-7e6a-4d0a-969a-a845fc4f26e7",
   "metadata": {},
   "outputs": [
    {
     "name": "stdout",
     "output_type": "stream",
     "text": [
      "0,1,1,2,3,5,8,13,21,34,55,89,144,233,377,610,987,"
     ]
    }
   ],
   "source": [
    "a,b = 0,1\n",
    "while a < 1000:\n",
    "    print(a,end=',')\n",
    "    a,b = b, a+b"
   ]
  },
  {
   "cell_type": "code",
   "execution_count": null,
   "id": "63744c7c-f73e-44c6-9d3e-de4b87f36c72",
   "metadata": {},
   "outputs": [],
   "source": []
  }
 ],
 "metadata": {
  "kernelspec": {
   "display_name": "Python [conda env:base] *",
   "language": "python",
   "name": "conda-base-py"
  },
  "language_info": {
   "codemirror_mode": {
    "name": "ipython",
    "version": 3
   },
   "file_extension": ".py",
   "mimetype": "text/x-python",
   "name": "python",
   "nbconvert_exporter": "python",
   "pygments_lexer": "ipython3",
   "version": "3.12.7"
  }
 },
 "nbformat": 4,
 "nbformat_minor": 5
}
