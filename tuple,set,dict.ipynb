{
 "cells": [
  {
   "cell_type": "markdown",
   "id": "ba604af4-c0c5-480f-be2c-e914ac42ca05",
   "metadata": {},
   "source": [
    "# Tuple Creation"
   ]
  },
  {
   "cell_type": "code",
   "execution_count": 145,
   "id": "7fbbc3ff-6e69-4335-9b10-622d7f218c46",
   "metadata": {},
   "outputs": [],
   "source": [
    "tup = ()  # Empty tuple"
   ]
  },
  {
   "cell_type": "code",
   "execution_count": 146,
   "id": "d96162d5-8a48-4059-906e-7090ecbba0ec",
   "metadata": {},
   "outputs": [],
   "source": [
    "tup2 = (10,30,60) # tuple of integers numbers"
   ]
  },
  {
   "cell_type": "code",
   "execution_count": 147,
   "id": "496f9b1f-0b24-4d50-9647-6028c64f3a9b",
   "metadata": {},
   "outputs": [],
   "source": [
    "tup3 = (10.77, 30.66,60.89) # tuple of float numbers"
   ]
  },
  {
   "cell_type": "code",
   "execution_count": 148,
   "id": "d336a32c-6945-4e26-a844-2f03c1c09a64",
   "metadata": {},
   "outputs": [],
   "source": [
    "tup4 = ('one','two','three') # tuple of strings"
   ]
  },
  {
   "cell_type": "code",
   "execution_count": 149,
   "id": "38d21a12-8783-4f25-9040-59468302f6e8",
   "metadata": {},
   "outputs": [],
   "source": [
    "tup5 = ('Asif', 25,(50,100),(150,90)) #Nested Tuple"
   ]
  },
  {
   "cell_type": "code",
   "execution_count": 150,
   "id": "b8a458df-b4ca-4baf-b5ee-577b7fb2e612",
   "metadata": {},
   "outputs": [],
   "source": [
    "tup6 = (100, 'Asif', 17.765) # Tuple of mixed data types"
   ]
  },
  {
   "cell_type": "code",
   "execution_count": 151,
   "id": "bf5d214a-bf5a-4710-9fe7-205d25d2f50b",
   "metadata": {},
   "outputs": [],
   "source": [
    "tup7 = ('Asif', 25, [50,100],[150,90], {'John','David'},(99,22,33))"
   ]
  },
  {
   "cell_type": "code",
   "execution_count": 152,
   "id": "717ca07e-51b9-4394-afc7-08f345f018c1",
   "metadata": {},
   "outputs": [
    {
     "data": {
      "text/plain": [
       "6"
      ]
     },
     "execution_count": 152,
     "metadata": {},
     "output_type": "execute_result"
    }
   ],
   "source": [
    "len(tup7) # Length of list "
   ]
  },
  {
   "cell_type": "markdown",
   "id": "5ed0711e-c28b-4684-bed1-1e35ef79f19b",
   "metadata": {},
   "source": [
    "# Tuple  indexing"
   ]
  },
  {
   "cell_type": "code",
   "execution_count": 153,
   "id": "ccc33fbe-352b-4c75-85b6-6ba5f16aac74",
   "metadata": {},
   "outputs": [
    {
     "data": {
      "text/plain": [
       "10"
      ]
     },
     "execution_count": 153,
     "metadata": {},
     "output_type": "execute_result"
    }
   ],
   "source": [
    "tup2[0] # Retreive first of the tuple"
   ]
  },
  {
   "cell_type": "code",
   "execution_count": 154,
   "id": "0e4311f1-54c4-4ded-8fab-c4af66d85435",
   "metadata": {},
   "outputs": [
    {
     "data": {
      "text/plain": [
       "'one'"
      ]
     },
     "execution_count": 154,
     "metadata": {},
     "output_type": "execute_result"
    }
   ],
   "source": [
    "tup4[0] # Retreive first element of the tuple "
   ]
  },
  {
   "cell_type": "code",
   "execution_count": 155,
   "id": "1f1f3ed7-402c-4054-856c-6f90edb654a8",
   "metadata": {},
   "outputs": [
    {
     "data": {
      "text/plain": [
       "'o'"
      ]
     },
     "execution_count": 155,
     "metadata": {},
     "output_type": "execute_result"
    }
   ],
   "source": [
    "tup4[0][0] # Nested indexing - Access the First character of the first tuple else"
   ]
  },
  {
   "cell_type": "code",
   "execution_count": 156,
   "id": "5ff75ce0-701a-48eb-9c3a-a99126fb3f97",
   "metadata": {},
   "outputs": [
    {
     "data": {
      "text/plain": [
       "'three'"
      ]
     },
     "execution_count": 156,
     "metadata": {},
     "output_type": "execute_result"
    }
   ],
   "source": [
    "tup4[-1] # Lat item of the tuple"
   ]
  },
  {
   "cell_type": "code",
   "execution_count": 157,
   "id": "d9a315fb-50e2-4e6c-b287-cd4891cd0ccb",
   "metadata": {},
   "outputs": [
    {
     "data": {
      "text/plain": [
       "(150, 90)"
      ]
     },
     "execution_count": 157,
     "metadata": {},
     "output_type": "execute_result"
    }
   ],
   "source": [
    "tup5[-1] #last item of the tuple"
   ]
  },
  {
   "cell_type": "markdown",
   "id": "0b804f29-8a0b-4eaf-ad6a-2f1b6f5a234d",
   "metadata": {},
   "source": [
    "# Tuple Slicing"
   ]
  },
  {
   "cell_type": "code",
   "execution_count": 158,
   "id": "2148bd76-6fab-4cfa-8698-679963bd47a8",
   "metadata": {},
   "outputs": [],
   "source": [
    "mytuple = ('one', 'two', 'three', 'four', 'five', 'six', 'seven', 'eight')"
   ]
  },
  {
   "cell_type": "code",
   "execution_count": 159,
   "id": "6224cd8d-4054-40ac-97b6-a210a7e23e1d",
   "metadata": {},
   "outputs": [
    {
     "data": {
      "text/plain": [
       "('one', 'two', 'three')"
      ]
     },
     "execution_count": 159,
     "metadata": {},
     "output_type": "execute_result"
    }
   ],
   "source": [
    "mytuple[0:3] # Return all item from 0th to 3rd index location excluding the item"
   ]
  },
  {
   "cell_type": "code",
   "execution_count": 160,
   "id": "b32a5e5f-cfe0-4f13-a3d2-febd7429ca44",
   "metadata": {},
   "outputs": [
    {
     "data": {
      "text/plain": [
       "('three', 'four', 'five')"
      ]
     },
     "execution_count": 160,
     "metadata": {},
     "output_type": "execute_result"
    }
   ],
   "source": [
    "mytuple[2:5] # list all item from 2nd to 5th index location excluding the item"
   ]
  },
  {
   "cell_type": "code",
   "execution_count": 161,
   "id": "ecb953e9-edb2-4f94-b914-e3c98ff0c440",
   "metadata": {},
   "outputs": [
    {
     "data": {
      "text/plain": [
       "('one', 'two', 'three')"
      ]
     },
     "execution_count": 161,
     "metadata": {},
     "output_type": "execute_result"
    }
   ],
   "source": [
    "mytuple[:3] #return  first three items"
   ]
  },
  {
   "cell_type": "code",
   "execution_count": 162,
   "id": "5cea1dce-1f67-4250-8613-fd8459e8ab90",
   "metadata": {},
   "outputs": [
    {
     "data": {
      "text/plain": [
       "('six', 'seven', 'eight')"
      ]
     },
     "execution_count": 162,
     "metadata": {},
     "output_type": "execute_result"
    }
   ],
   "source": [
    "mytuple[-3:] #return last three items"
   ]
  },
  {
   "cell_type": "code",
   "execution_count": 163,
   "id": "692fa96a-6974-4c7e-9651-be827136cb7c",
   "metadata": {},
   "outputs": [
    {
     "data": {
      "text/plain": [
       "'eight'"
      ]
     },
     "execution_count": 163,
     "metadata": {},
     "output_type": "execute_result"
    }
   ],
   "source": [
    "mytuple[-1] #return last item of the tuple"
   ]
  },
  {
   "cell_type": "code",
   "execution_count": 164,
   "id": "a155deca-702e-4db6-821b-92a7445ede5f",
   "metadata": {},
   "outputs": [
    {
     "data": {
      "text/plain": [
       "('one', 'two', 'three', 'four', 'five', 'six', 'seven', 'eight')"
      ]
     },
     "execution_count": 164,
     "metadata": {},
     "output_type": "execute_result"
    }
   ],
   "source": [
    "mytuple[:] # Return whole tuple"
   ]
  },
  {
   "cell_type": "code",
   "execution_count": 165,
   "id": "92e262b5-abe6-457f-949a-9075c4f62de3",
   "metadata": {},
   "outputs": [],
   "source": [
    "# Remove & Change items"
   ]
  },
  {
   "cell_type": "code",
   "execution_count": 166,
   "id": "a78b85db-682d-4439-86fc-68fb99f43fd8",
   "metadata": {},
   "outputs": [
    {
     "data": {
      "text/plain": [
       "('one', 'two', 'three', 'four', 'five', 'six', 'seven', 'eight')"
      ]
     },
     "execution_count": 166,
     "metadata": {},
     "output_type": "execute_result"
    }
   ],
   "source": [
    "mytuple"
   ]
  },
  {
   "cell_type": "code",
   "execution_count": 167,
   "id": "f5c882d9-5a70-4f24-a66b-3fd69e50e3d1",
   "metadata": {},
   "outputs": [
    {
     "ename": "TypeError",
     "evalue": "'tuple' object doesn't support item deletion",
     "output_type": "error",
     "traceback": [
      "\u001b[1;31m----------------------------------------------------------------\u001b[0m",
      "\u001b[1;31mTypeError\u001b[0m                      Traceback (most recent call last)",
      "Cell \u001b[1;32mIn[167], line 1\u001b[0m\n\u001b[1;32m----> 1\u001b[0m \u001b[38;5;28;01mdel\u001b[39;00m mytuple[\u001b[38;5;241m0\u001b[39m]\n",
      "\u001b[1;31mTypeError\u001b[0m: 'tuple' object doesn't support item deletion"
     ]
    }
   ],
   "source": [
    "del mytuple[0] # Tuple are immutable which means we can't DELETE tuple item"
   ]
  },
  {
   "cell_type": "code",
   "execution_count": 168,
   "id": "2fecf534-64ea-43ee-a9bd-cdf7ccbc58c9",
   "metadata": {},
   "outputs": [
    {
     "ename": "TypeError",
     "evalue": "'tuple' object does not support item assignment",
     "output_type": "error",
     "traceback": [
      "\u001b[1;31m----------------------------------------------------------------\u001b[0m",
      "\u001b[1;31mTypeError\u001b[0m                      Traceback (most recent call last)",
      "Cell \u001b[1;32mIn[168], line 1\u001b[0m\n\u001b[1;32m----> 1\u001b[0m mytuple[\u001b[38;5;241m0\u001b[39m] \u001b[38;5;241m=\u001b[39m \u001b[38;5;241m1\u001b[39m\n",
      "\u001b[1;31mTypeError\u001b[0m: 'tuple' object does not support item assignment"
     ]
    }
   ],
   "source": [
    "mytuple[0] = 1 # Tuples are immutable which means we can't CHANGE tuple item"
   ]
  },
  {
   "cell_type": "code",
   "execution_count": null,
   "id": "881ed0c7-7449-4092-8991-06166aad76f1",
   "metadata": {},
   "outputs": [],
   "source": [
    "del mytuple # Deleting entire tuple objecct is possible"
   ]
  },
  {
   "cell_type": "markdown",
   "id": "59a6fce5-a3bc-4509-81ec-14eaaa03e9d5",
   "metadata": {},
   "source": [
    "# Loop through a tuple"
   ]
  },
  {
   "cell_type": "code",
   "execution_count": 169,
   "id": "2ffbec46-3011-4109-bf2d-274a01b2557d",
   "metadata": {},
   "outputs": [
    {
     "data": {
      "text/plain": [
       "('one', 'two', 'three', 'four', 'five', 'six', 'seven', 'eight')"
      ]
     },
     "execution_count": 169,
     "metadata": {},
     "output_type": "execute_result"
    }
   ],
   "source": [
    "mytuple "
   ]
  },
  {
   "cell_type": "code",
   "execution_count": 170,
   "id": "3d6ceb59-a12f-4b69-82ef-5b6ea1b5d4f6",
   "metadata": {},
   "outputs": [
    {
     "name": "stdout",
     "output_type": "stream",
     "text": [
      "one\n",
      "two\n",
      "three\n",
      "four\n",
      "five\n",
      "six\n",
      "seven\n",
      "eight\n"
     ]
    }
   ],
   "source": [
    "for i in mytuple:\n",
    "    print(i)"
   ]
  },
  {
   "cell_type": "code",
   "execution_count": 171,
   "id": "5c53a4f9-7a50-4ed6-b0db-58b922f3007c",
   "metadata": {},
   "outputs": [
    {
     "name": "stdout",
     "output_type": "stream",
     "text": [
      "(0, 'one')\n",
      "(1, 'two')\n",
      "(2, 'three')\n",
      "(3, 'four')\n",
      "(4, 'five')\n",
      "(5, 'six')\n",
      "(6, 'seven')\n",
      "(7, 'eight')\n"
     ]
    }
   ],
   "source": [
    "for i in enumerate(mytuple):\n",
    "    print(i)"
   ]
  },
  {
   "cell_type": "code",
   "execution_count": 172,
   "id": "7e864ce4-0485-4d2b-9ae9-b610f6dae8c2",
   "metadata": {},
   "outputs": [],
   "source": [
    "mytuple1 = ('one', 'two', 'three', 'four', 'one', 'one', 'two', 'three')"
   ]
  },
  {
   "cell_type": "code",
   "execution_count": 173,
   "id": "e20712a8-a736-43da-ad10-ba5bbe151d6d",
   "metadata": {},
   "outputs": [
    {
     "data": {
      "text/plain": [
       "3"
      ]
     },
     "execution_count": 173,
     "metadata": {},
     "output_type": "execute_result"
    }
   ],
   "source": [
    "mytuple1.count('one') #NUMBER OF TIMES ITEMS \"one\" occured in the tuple."
   ]
  },
  {
   "cell_type": "code",
   "execution_count": 174,
   "id": "4d5eed8d-2214-4235-b17a-6855f9274293",
   "metadata": {},
   "outputs": [
    {
     "data": {
      "text/plain": [
       "2"
      ]
     },
     "execution_count": 174,
     "metadata": {},
     "output_type": "execute_result"
    }
   ],
   "source": [
    "mytuple1.count('two') #Occurence of item 'two' in the tuple."
   ]
  },
  {
   "cell_type": "code",
   "execution_count": 175,
   "id": "1e1c6453-08c8-4c2a-b140-a8c9c5e171a5",
   "metadata": {},
   "outputs": [
    {
     "data": {
      "text/plain": [
       "1"
      ]
     },
     "execution_count": 175,
     "metadata": {},
     "output_type": "execute_result"
    }
   ],
   "source": [
    "mytuple1.count('four') #occurance of item 'four' iin the tuple"
   ]
  },
  {
   "cell_type": "markdown",
   "id": "06177e67-566c-434a-8b19-11f59669e24d",
   "metadata": {},
   "source": [
    "# Tuple Membership"
   ]
  },
  {
   "cell_type": "code",
   "execution_count": 176,
   "id": "b72c1426-20f7-475d-bd00-8bd765ed8c72",
   "metadata": {},
   "outputs": [
    {
     "data": {
      "text/plain": [
       "('one', 'two', 'three', 'four', 'five', 'six', 'seven', 'eight')"
      ]
     },
     "execution_count": 176,
     "metadata": {},
     "output_type": "execute_result"
    }
   ],
   "source": [
    "mytuple "
   ]
  },
  {
   "cell_type": "code",
   "execution_count": 177,
   "id": "ede567b6-d8d6-463f-b3b3-0774c7d13deb",
   "metadata": {},
   "outputs": [
    {
     "data": {
      "text/plain": [
       "True"
      ]
     },
     "execution_count": 177,
     "metadata": {},
     "output_type": "execute_result"
    }
   ],
   "source": [
    "'one' in mytuple # Check if 'one' exist in the list"
   ]
  },
  {
   "cell_type": "code",
   "execution_count": 178,
   "id": "30216c08-f321-4c91-9cc5-77bb57652625",
   "metadata": {},
   "outputs": [
    {
     "data": {
      "text/plain": [
       "False"
      ]
     },
     "execution_count": 178,
     "metadata": {},
     "output_type": "execute_result"
    }
   ],
   "source": [
    "'ten' in mytuple # check if 'ten' exist in the list"
   ]
  },
  {
   "cell_type": "code",
   "execution_count": 179,
   "id": "4a03e747-c323-4bff-9bab-57ead0cdb426",
   "metadata": {},
   "outputs": [
    {
     "name": "stdout",
     "output_type": "stream",
     "text": [
      "There is present in the tuple\n"
     ]
    }
   ],
   "source": [
    "if 'three' in mytuple: #check if 'three' exist in the list\n",
    "    print('There is present in the tuple')\n",
    "else:\n",
    "    print('There is not present in the tuple')"
   ]
  },
  {
   "cell_type": "code",
   "execution_count": 180,
   "id": "39c873e2-2629-458c-a96c-cbfc159228e0",
   "metadata": {},
   "outputs": [
    {
     "name": "stdout",
     "output_type": "stream",
     "text": [
      "eleven is not present in the tuple\n"
     ]
    }
   ],
   "source": [
    "if 'eleven' in mytuple: # check if 'eleven' exist in the list\n",
    "    print('eleven is present in the tuple')\n",
    "else:\n",
    "    print('eleven is not present in the tuple')"
   ]
  },
  {
   "cell_type": "markdown",
   "id": "2bf6c55b-cf45-47b3-91df-9df127bdcb66",
   "metadata": {},
   "source": [
    "# Index Position"
   ]
  },
  {
   "cell_type": "code",
   "execution_count": 181,
   "id": "da17b60f-2cc0-4d89-9cfc-8afc28e177c4",
   "metadata": {},
   "outputs": [
    {
     "data": {
      "text/plain": [
       "('one', 'two', 'three', 'four', 'five', 'six', 'seven', 'eight')"
      ]
     },
     "execution_count": 181,
     "metadata": {},
     "output_type": "execute_result"
    }
   ],
   "source": [
    "mytuple"
   ]
  },
  {
   "cell_type": "code",
   "execution_count": 182,
   "id": "482f8c89-2909-4637-b4bb-9bea34922b2e",
   "metadata": {},
   "outputs": [
    {
     "data": {
      "text/plain": [
       "0"
      ]
     },
     "execution_count": 182,
     "metadata": {},
     "output_type": "execute_result"
    }
   ],
   "source": [
    "mytuple.index('one') #index of first elemeny=t equal to 'one'"
   ]
  },
  {
   "cell_type": "markdown",
   "id": "43df53bc-c042-4c2d-8569-1140f838956c",
   "metadata": {},
   "source": [
    "# sorting"
   ]
  },
  {
   "cell_type": "code",
   "execution_count": 183,
   "id": "9c8fb342-2c2c-4adb-8a1d-3fd12d20ec13",
   "metadata": {},
   "outputs": [],
   "source": [
    "mytuple2 = (43,67,99,12,6,90,67)"
   ]
  },
  {
   "cell_type": "code",
   "execution_count": 184,
   "id": "ab2c605b-85f5-4afa-8016-b254741b0621",
   "metadata": {},
   "outputs": [
    {
     "data": {
      "text/plain": [
       "[6, 12, 43, 67, 67, 90, 99]"
      ]
     },
     "execution_count": 184,
     "metadata": {},
     "output_type": "execute_result"
    }
   ],
   "source": [
    "sorted(mytuple2) #Return a new sorted list and doesn't change orignal tuple"
   ]
  },
  {
   "cell_type": "code",
   "execution_count": 185,
   "id": "7230a225-a9d8-45f1-a257-e3fe3ff566d6",
   "metadata": {},
   "outputs": [
    {
     "data": {
      "text/plain": [
       "[99, 90, 67, 67, 43, 12, 6]"
      ]
     },
     "execution_count": 185,
     "metadata": {},
     "output_type": "execute_result"
    }
   ],
   "source": [
    "sorted(mytuple2, reverse = True) #sort in desending order"
   ]
  },
  {
   "cell_type": "code",
   "execution_count": null,
   "id": "1e337626-f23d-49ce-8810-3fcc33138671",
   "metadata": {},
   "outputs": [],
   "source": []
  },
  {
   "cell_type": "markdown",
   "id": "7527deca-1cee-4cbd-abaa-46115be763bb",
   "metadata": {},
   "source": [
    "# sets"
   ]
  },
  {
   "cell_type": "code",
   "execution_count": 186,
   "id": "5b4ad20c-8e59-4111-be78-82504a75cea0",
   "metadata": {},
   "outputs": [],
   "source": [
    "myset = {1,2,3,4,5}"
   ]
  },
  {
   "cell_type": "code",
   "execution_count": 187,
   "id": "57111663-110a-4377-a51c-78ef6048871c",
   "metadata": {},
   "outputs": [
    {
     "data": {
      "text/plain": [
       "{1, 2, 3, 4, 5}"
      ]
     },
     "execution_count": 187,
     "metadata": {},
     "output_type": "execute_result"
    }
   ],
   "source": [
    "myset"
   ]
  },
  {
   "cell_type": "code",
   "execution_count": 188,
   "id": "ce9fe999-c784-4d37-8e01-55de61dc6d3b",
   "metadata": {},
   "outputs": [
    {
     "data": {
      "text/plain": [
       "5"
      ]
     },
     "execution_count": 188,
     "metadata": {},
     "output_type": "execute_result"
    }
   ],
   "source": [
    "len(myset) #length of the set"
   ]
  },
  {
   "cell_type": "code",
   "execution_count": 189,
   "id": "d464f7a3-3859-4f85-8081-e2872518b9ef",
   "metadata": {},
   "outputs": [
    {
     "data": {
      "text/plain": [
       "{1, 2, 3, 4, 5}"
      ]
     },
     "execution_count": 189,
     "metadata": {},
     "output_type": "execute_result"
    }
   ],
   "source": [
    "my_set = {1,1,2,2,3,4,5,5}\n",
    "my_set # Duplicate element are not allowed."
   ]
  },
  {
   "cell_type": "code",
   "execution_count": 190,
   "id": "f435ecb6-fa5c-477d-8993-aea9ab19deae",
   "metadata": {},
   "outputs": [
    {
     "data": {
      "text/plain": [
       "{1.79, 2.08, 3.99, 4.56, 5.45}"
      ]
     },
     "execution_count": 190,
     "metadata": {},
     "output_type": "execute_result"
    }
   ],
   "source": [
    "myset1 = {1.79, 2.08,3.99, 4.56, 5.45} # set of float number\n",
    "myset1"
   ]
  },
  {
   "cell_type": "code",
   "execution_count": 191,
   "id": "577d403b-f301-4120-b049-7b2f840ff377",
   "metadata": {},
   "outputs": [
    {
     "data": {
      "text/plain": [
       "{'Asif', 'john', 'tyrion'}"
      ]
     },
     "execution_count": 191,
     "metadata": {},
     "output_type": "execute_result"
    }
   ],
   "source": [
    "myset2 = {'Asif', 'john', 'tyrion'} # set of sring\n",
    "myset2"
   ]
  },
  {
   "cell_type": "code",
   "execution_count": 192,
   "id": "24cdb9d3-2b0f-485c-967e-1dfe6fca35c0",
   "metadata": {},
   "outputs": [
    {
     "data": {
      "text/plain": [
       "{(11, 22, 32), 10, 20, 'Hola'}"
      ]
     },
     "execution_count": 192,
     "metadata": {},
     "output_type": "execute_result"
    }
   ],
   "source": [
    "myset3 = {10,20,'Hola',(11,22,32)} #mixed datatype\n",
    "myset3"
   ]
  },
  {
   "cell_type": "code",
   "execution_count": 193,
   "id": "44cbc754-e886-4d37-867c-b1b74df861a8",
   "metadata": {},
   "outputs": [
    {
     "ename": "TypeError",
     "evalue": "unhashable type: 'list'",
     "output_type": "error",
     "traceback": [
      "\u001b[1;31m----------------------------------------------------------------\u001b[0m",
      "\u001b[1;31mTypeError\u001b[0m                      Traceback (most recent call last)",
      "Cell \u001b[1;32mIn[193], line 1\u001b[0m\n\u001b[1;32m----> 1\u001b[0m myset3 \u001b[38;5;241m=\u001b[39m {\u001b[38;5;241m10\u001b[39m,\u001b[38;5;241m20\u001b[39m, \u001b[38;5;124m\"\u001b[39m\u001b[38;5;124mHolla\u001b[39m\u001b[38;5;124m\"\u001b[39m ,[\u001b[38;5;241m11\u001b[39m,\u001b[38;5;241m22\u001b[39m,\u001b[38;5;241m32\u001b[39m]}\n",
      "\u001b[1;31mTypeError\u001b[0m: unhashable type: 'list'"
     ]
    }
   ],
   "source": [
    "myset3 = {10,20, \"Holla\" ,[11,22,32]} # set doesot allow multiple item like list "
   ]
  },
  {
   "cell_type": "code",
   "execution_count": 194,
   "id": "57ee2ebd-740b-4ad5-a228-2861f0e739dc",
   "metadata": {},
   "outputs": [
    {
     "name": "stdout",
     "output_type": "stream",
     "text": [
      "<class 'set'>\n"
     ]
    }
   ],
   "source": [
    "myset4 = set() # Create an empty set\n",
    "print(type(myset4))"
   ]
  },
  {
   "cell_type": "code",
   "execution_count": 195,
   "id": "a9c1660c-0ec4-40aa-8a01-7cafc8dbbfee",
   "metadata": {},
   "outputs": [
    {
     "data": {
      "text/plain": [
       "{'four', 'one', 'three', 'two'}"
      ]
     },
     "execution_count": 195,
     "metadata": {},
     "output_type": "execute_result"
    }
   ],
   "source": [
    "my_set1 = set(('one', 'two', 'three', 'four'))\n",
    "my_set1"
   ]
  },
  {
   "cell_type": "code",
   "execution_count": 196,
   "id": "33892df6-4bda-4c00-830b-001849a2033b",
   "metadata": {},
   "outputs": [],
   "source": [
    "# loop through a set"
   ]
  },
  {
   "cell_type": "code",
   "execution_count": 197,
   "id": "4e87650b-f5e7-4b1f-8764-5f1cbeed2522",
   "metadata": {},
   "outputs": [
    {
     "name": "stdout",
     "output_type": "stream",
     "text": [
      "four\n",
      "five\n",
      "seven\n",
      "two\n",
      "one\n",
      "three\n",
      "eight\n",
      "six\n"
     ]
    }
   ],
   "source": [
    "myset = { 'one' , 'two', 'three', 'four', 'five', 'six', 'seven', 'eight'}\n",
    "for i in myset:\n",
    "    print(i)"
   ]
  },
  {
   "cell_type": "code",
   "execution_count": 198,
   "id": "8d733905-f327-4b8e-ae29-825b22b8e66c",
   "metadata": {},
   "outputs": [
    {
     "name": "stdout",
     "output_type": "stream",
     "text": [
      "(0, 'four')\n",
      "(1, 'five')\n",
      "(2, 'seven')\n",
      "(3, 'two')\n",
      "(4, 'one')\n",
      "(5, 'three')\n",
      "(6, 'eight')\n",
      "(7, 'six')\n"
     ]
    }
   ],
   "source": [
    "for i in enumerate (myset):\n",
    "    print(i)"
   ]
  },
  {
   "cell_type": "markdown",
   "id": "d51482b6-4cf5-4ce4-82d6-170668d3a0a2",
   "metadata": {},
   "source": [
    "# set membership"
   ]
  },
  {
   "cell_type": "code",
   "execution_count": 199,
   "id": "8311a0e7-d6e8-4e99-bf7e-405e52a1825f",
   "metadata": {},
   "outputs": [
    {
     "data": {
      "text/plain": [
       "{'eight', 'five', 'four', 'one', 'seven', 'six', 'three', 'two'}"
      ]
     },
     "execution_count": 199,
     "metadata": {},
     "output_type": "execute_result"
    }
   ],
   "source": [
    "myset"
   ]
  },
  {
   "cell_type": "code",
   "execution_count": 200,
   "id": "9f85ed3e-64a6-441a-845f-ef749bc89f23",
   "metadata": {},
   "outputs": [
    {
     "data": {
      "text/plain": [
       "True"
      ]
     },
     "execution_count": 200,
     "metadata": {},
     "output_type": "execute_result"
    }
   ],
   "source": [
    "'one' in myset # Check if 'one' exits in the set"
   ]
  },
  {
   "cell_type": "code",
   "execution_count": 201,
   "id": "5210c834-2394-4703-ad51-38a6d1f38f52",
   "metadata": {},
   "outputs": [
    {
     "data": {
      "text/plain": [
       "False"
      ]
     },
     "execution_count": 201,
     "metadata": {},
     "output_type": "execute_result"
    }
   ],
   "source": [
    "'ten' in myset #check if 'ten' exist in the set"
   ]
  },
  {
   "cell_type": "code",
   "execution_count": 202,
   "id": "ed0b6b3c-f4bd-491d-a745-da2634173afd",
   "metadata": {},
   "outputs": [
    {
     "name": "stdout",
     "output_type": "stream",
     "text": [
      "three is present in the set\n"
     ]
    }
   ],
   "source": [
    "if 'three' in myset: #check if 'three' exist in the set\n",
    "    print('three is present in the set')\n",
    "else:\n",
    "    print('three is not present in the set')"
   ]
  },
  {
   "cell_type": "code",
   "execution_count": 203,
   "id": "7f8426bb-f5f5-4ec9-951c-4f050b95b854",
   "metadata": {},
   "outputs": [
    {
     "name": "stdout",
     "output_type": "stream",
     "text": [
      "eleven is not present in the set\n"
     ]
    }
   ],
   "source": [
    "if 'eleven' in myset: #check if 'eleven' exist in the list\n",
    "    print('eleven is present in the set')\n",
    "else:\n",
    "    print('eleven is not present in the set')"
   ]
  },
  {
   "cell_type": "code",
   "execution_count": 204,
   "id": "600a184f-d286-40dc-af26-a127e3d6d85e",
   "metadata": {},
   "outputs": [],
   "source": [
    "# Add & Remove Items"
   ]
  },
  {
   "cell_type": "code",
   "execution_count": 205,
   "id": "0ec31aea-a81a-463a-bbc9-bcc22593651c",
   "metadata": {},
   "outputs": [
    {
     "data": {
      "text/plain": [
       "{'eight', 'five', 'four', 'one', 'seven', 'six', 'three', 'two'}"
      ]
     },
     "execution_count": 205,
     "metadata": {},
     "output_type": "execute_result"
    }
   ],
   "source": [
    "myset"
   ]
  },
  {
   "cell_type": "code",
   "execution_count": 206,
   "id": "0bc5a17d-c3bc-4b87-9b3c-9df26e1ae3e5",
   "metadata": {},
   "outputs": [
    {
     "data": {
      "text/plain": [
       "{'NINE', 'eight', 'five', 'four', 'one', 'seven', 'six', 'three', 'two'}"
      ]
     },
     "execution_count": 206,
     "metadata": {},
     "output_type": "execute_result"
    }
   ],
   "source": [
    "myset.add('NINE') #Add item to a set using add() method\n",
    "myset"
   ]
  },
  {
   "cell_type": "code",
   "execution_count": 207,
   "id": "4e0787ba-de95-4217-ab70-b19bab8c584f",
   "metadata": {},
   "outputs": [
    {
     "data": {
      "text/plain": [
       "{'ELEVEN',\n",
       " 'NINE',\n",
       " 'TEN',\n",
       " 'TWELVE',\n",
       " 'eight',\n",
       " 'five',\n",
       " 'four',\n",
       " 'one',\n",
       " 'seven',\n",
       " 'six',\n",
       " 'three',\n",
       " 'two'}"
      ]
     },
     "execution_count": 207,
     "metadata": {},
     "output_type": "execute_result"
    }
   ],
   "source": [
    "myset.update(['TEN', 'ELEVEN', 'TWELVE']) # Add multiple item to a set using \n",
    "myset"
   ]
  },
  {
   "cell_type": "code",
   "execution_count": 208,
   "id": "3724d05d-fbbb-429c-84df-3d7ba547dee2",
   "metadata": {},
   "outputs": [
    {
     "data": {
      "text/plain": [
       "{'ELEVEN',\n",
       " 'TEN',\n",
       " 'TWELVE',\n",
       " 'eight',\n",
       " 'five',\n",
       " 'four',\n",
       " 'one',\n",
       " 'seven',\n",
       " 'six',\n",
       " 'three',\n",
       " 'two'}"
      ]
     },
     "execution_count": 208,
     "metadata": {},
     "output_type": "execute_result"
    }
   ],
   "source": [
    "myset.remove('NINE') # Remove item in a set using remove() mothod\n",
    "myset"
   ]
  },
  {
   "cell_type": "code",
   "execution_count": 209,
   "id": "d2e2551a-d16e-48db-ba16-b587b3665d9f",
   "metadata": {},
   "outputs": [
    {
     "data": {
      "text/plain": [
       "{'ELEVEN',\n",
       " 'TEN',\n",
       " 'TWELVE',\n",
       " 'eight',\n",
       " 'five',\n",
       " 'four',\n",
       " 'one',\n",
       " 'seven',\n",
       " 'six',\n",
       " 'three',\n",
       " 'two'}"
      ]
     },
     "execution_count": 209,
     "metadata": {},
     "output_type": "execute_result"
    }
   ],
   "source": [
    "myset.discard('ten') # remove item from a set using discard() method\n",
    "myset"
   ]
  },
  {
   "cell_type": "code",
   "execution_count": 210,
   "id": "a01129e2-8d90-4754-82a5-5307b9bc4dc3",
   "metadata": {},
   "outputs": [
    {
     "data": {
      "text/plain": [
       "set()"
      ]
     },
     "execution_count": 210,
     "metadata": {},
     "output_type": "execute_result"
    }
   ],
   "source": [
    "myset.clear() # Delete all item in a set\n",
    "myset"
   ]
  },
  {
   "cell_type": "code",
   "execution_count": 211,
   "id": "8adf1cc0-7a7b-4e3e-aa46-758dd6566fae",
   "metadata": {},
   "outputs": [
    {
     "ename": "NameError",
     "evalue": "name 'myset' is not defined",
     "output_type": "error",
     "traceback": [
      "\u001b[1;31m----------------------------------------------------------------\u001b[0m",
      "\u001b[1;31mNameError\u001b[0m                      Traceback (most recent call last)",
      "Cell \u001b[1;32mIn[211], line 2\u001b[0m\n\u001b[0;32m      1\u001b[0m \u001b[38;5;28;01mdel\u001b[39;00m myset \u001b[38;5;66;03m# delete the set object\u001b[39;00m\n\u001b[1;32m----> 2\u001b[0m myset\n",
      "\u001b[1;31mNameError\u001b[0m: name 'myset' is not defined"
     ]
    }
   ],
   "source": [
    "del myset # delete the set object\n",
    "myset"
   ]
  },
  {
   "cell_type": "markdown",
   "id": "a13d2fd6-9051-4813-a414-42f144e04d17",
   "metadata": {},
   "source": [
    "# copy set"
   ]
  },
  {
   "cell_type": "code",
   "execution_count": 212,
   "id": "41e8bf43-2631-4a0a-81bf-62a124d69bbf",
   "metadata": {},
   "outputs": [
    {
     "data": {
      "text/plain": [
       "{'eight', 'five', 'four', 'one', 'seven', 'six', 'three', 'two'}"
      ]
     },
     "execution_count": 212,
     "metadata": {},
     "output_type": "execute_result"
    }
   ],
   "source": [
    "myset = {'one', 'two', 'three','four','five', 'six', 'seven', 'eight'}\n",
    "myset"
   ]
  },
  {
   "cell_type": "code",
   "execution_count": 213,
   "id": "4dc468ef-7a16-421f-a768-2f3d38253e1c",
   "metadata": {},
   "outputs": [
    {
     "data": {
      "text/plain": [
       "{'eight', 'five', 'four', 'one', 'seven', 'six', 'three', 'two'}"
      ]
     },
     "execution_count": 213,
     "metadata": {},
     "output_type": "execute_result"
    }
   ],
   "source": [
    "myset1 = myset  #create a new reference \"myset1\"\n",
    "myset1\n"
   ]
  },
  {
   "cell_type": "code",
   "execution_count": 214,
   "id": "687d0fd0-e9a8-438b-8f7f-2fbd6a9cc0db",
   "metadata": {},
   "outputs": [
    {
     "data": {
      "text/plain": [
       "(3101756648224, 3101756648224)"
      ]
     },
     "execution_count": 214,
     "metadata": {},
     "output_type": "execute_result"
    }
   ],
   "source": [
    "id(myset), id(myset1) # the address of both myset & myset1 will be the same as"
   ]
  },
  {
   "cell_type": "code",
   "execution_count": 215,
   "id": "75e5adcb-0a0f-4974-b810-4f5701aae9de",
   "metadata": {},
   "outputs": [
    {
     "data": {
      "text/plain": [
       "{'eight', 'five', 'four', 'one', 'seven', 'six', 'three', 'two'}"
      ]
     },
     "execution_count": 215,
     "metadata": {},
     "output_type": "execute_result"
    }
   ],
   "source": [
    "my_set = myset.copy() # create a copy of the list\n",
    "my_set"
   ]
  },
  {
   "cell_type": "code",
   "execution_count": 216,
   "id": "b7a2ed58-2222-4d20-af24-91659bd66017",
   "metadata": {},
   "outputs": [
    {
     "data": {
      "text/plain": [
       "3101756644640"
      ]
     },
     "execution_count": 216,
     "metadata": {},
     "output_type": "execute_result"
    }
   ],
   "source": [
    "id(my_set) # the address of my_set will be differnet from myset because my_set iten"
   ]
  },
  {
   "cell_type": "code",
   "execution_count": 217,
   "id": "a4d0df93-e42b-4a74-bc16-57ddc7ff0efc",
   "metadata": {},
   "outputs": [
    {
     "data": {
      "text/plain": [
       "{'eight', 'five', 'four', 'nine', 'one', 'seven', 'six', 'three', 'two'}"
      ]
     },
     "execution_count": 217,
     "metadata": {},
     "output_type": "execute_result"
    }
   ],
   "source": [
    "myset.add('nine')\n",
    "myset"
   ]
  },
  {
   "cell_type": "code",
   "execution_count": 218,
   "id": "5cef8362-9ba2-4e90-b8b1-0b7bfa93d5fb",
   "metadata": {},
   "outputs": [
    {
     "data": {
      "text/plain": [
       "{'eight', 'five', 'four', 'nine', 'one', 'seven', 'six', 'three', 'two'}"
      ]
     },
     "execution_count": 218,
     "metadata": {},
     "output_type": "execute_result"
    }
   ],
   "source": [
    "myset1 #myset will be also impacted as it is pointing to the same set"
   ]
  },
  {
   "cell_type": "code",
   "execution_count": 219,
   "id": "f82e1e30-6ac4-44f7-9ae9-8be1e22eaaa0",
   "metadata": {},
   "outputs": [
    {
     "data": {
      "text/plain": [
       "{'eight', 'five', 'four', 'one', 'seven', 'six', 'three', 'two'}"
      ]
     },
     "execution_count": 219,
     "metadata": {},
     "output_type": "execute_result"
    }
   ],
   "source": [
    " my_set # copy of the set won't be impacted due to change made on the orignal set"
   ]
  },
  {
   "cell_type": "markdown",
   "id": "55940ed6-eb39-40f0-9e65-69ae876fd800",
   "metadata": {},
   "source": [
    "# set operator"
   ]
  },
  {
   "cell_type": "markdown",
   "id": "98d7c327-ee6b-48e8-b3cc-d3b84b00cfa6",
   "metadata": {},
   "source": [
    "# union"
   ]
  },
  {
   "cell_type": "code",
   "execution_count": 220,
   "id": "e1d240b7-aec1-4c30-9131-116e3aaa44c5",
   "metadata": {},
   "outputs": [],
   "source": [
    "A = {1,2,3,4,5}\n",
    "B = {4,5,6,7,8}\n",
    "C = {8,9,10}"
   ]
  },
  {
   "cell_type": "code",
   "execution_count": 221,
   "id": "789726c7-cd46-47d1-8412-f11d50536b9a",
   "metadata": {},
   "outputs": [
    {
     "data": {
      "text/plain": [
       "{1, 2, 3, 4, 5, 6, 7, 8}"
      ]
     },
     "execution_count": 221,
     "metadata": {},
     "output_type": "execute_result"
    }
   ],
   "source": [
    "A|B"
   ]
  },
  {
   "cell_type": "code",
   "execution_count": 222,
   "id": "e1d023f1-fe2f-4185-b96f-622fd569b893",
   "metadata": {},
   "outputs": [
    {
     "data": {
      "text/plain": [
       "{1, 2, 3, 4, 5, 6, 7, 8}"
      ]
     },
     "execution_count": 222,
     "metadata": {},
     "output_type": "execute_result"
    }
   ],
   "source": [
    "A.union(B) # union of A and B (all element from both sets. NO DUPLICATES)"
   ]
  },
  {
   "cell_type": "code",
   "execution_count": 223,
   "id": "bc833050-1431-4460-8df3-2bb0d64086ae",
   "metadata": {},
   "outputs": [
    {
     "data": {
      "text/plain": [
       "{1, 2, 3, 4, 5, 6, 7, 8, 9, 10}"
      ]
     },
     "execution_count": 223,
     "metadata": {},
     "output_type": "execute_result"
    }
   ],
   "source": [
    "A.union(B, C)"
   ]
  },
  {
   "cell_type": "code",
   "execution_count": 224,
   "id": "96c5b008-b5cb-4d0b-a3b1-e37a3ad02cc9",
   "metadata": {},
   "outputs": [
    {
     "data": {
      "text/plain": [
       "{1, 2, 3, 4, 5, 6, 7, 8, 9, 10}"
      ]
     },
     "execution_count": 224,
     "metadata": {},
     "output_type": "execute_result"
    }
   ],
   "source": [
    "\"\"\"\n",
    "Updates the set calling the update() method with union of A , B & C.\n",
    "For below example Set A will be updated with union of A,B & C.\n",
    "\"\"\"\n",
    "A.update(B,C)\n",
    "A"
   ]
  },
  {
   "cell_type": "code",
   "execution_count": 225,
   "id": "93986d80-da21-47ae-b828-3ced2b4cea30",
   "metadata": {},
   "outputs": [
    {
     "data": {
      "image/png": "[encoded data removed]",
      "text/plain": [
       "<IPython.core.display.Image object>"
      ]
     },
     "execution_count": 225,
     "metadata": {},
     "output_type": "execute_result"
    }
   ],
   "source": [
    "from IPython.display import Image\n",
    "Image(filename='Screenshot 2025-06-28 222050.png')"
   ]
  },
  {
   "cell_type": "markdown",
   "id": "ebc86996-62b0-4c42-bff3-717e4a2f9595",
   "metadata": {},
   "source": [
    "# Intersection"
   ]
  },
  {
   "cell_type": "code",
   "execution_count": 226,
   "id": "3ff2d516-9622-46ae-aa23-43e3d9a226cf",
   "metadata": {},
   "outputs": [],
   "source": [
    "A = {1,2,3,4,5}\n",
    "B = {4,5,6,7,8}"
   ]
  },
  {
   "cell_type": "code",
   "execution_count": 227,
   "id": "5032ba30-5fea-439b-ab5b-e4ab2a45c08e",
   "metadata": {},
   "outputs": [
    {
     "data": {
      "text/plain": [
       "{4, 5}"
      ]
     },
     "execution_count": 227,
     "metadata": {},
     "output_type": "execute_result"
    }
   ],
   "source": [
    "A&B # Intersection of A & b (common item in both sets)"
   ]
  },
  {
   "cell_type": "code",
   "execution_count": 228,
   "id": "e047c387-bcaa-4a1b-ade4-2014ab76c57d",
   "metadata": {},
   "outputs": [
    {
     "ename": "SyntaxError",
     "evalue": "invalid syntax (3116117897.py, line 1)",
     "output_type": "error",
     "traceback": [
      "\u001b[1;36m  Cell \u001b[1;32mIn[228], line 1\u001b[1;36m\u001b[0m\n\u001b[1;33m    A.intersection(B) Intersection of A and  B\u001b[0m\n\u001b[1;37m                      ^\u001b[0m\n\u001b[1;31mSyntaxError\u001b[0m\u001b[1;31m:\u001b[0m invalid syntax\n"
     ]
    }
   ],
   "source": [
    "A.intersection(B) Intersection of A and  B"
   ]
  },
  {
   "cell_type": "code",
   "execution_count": 229,
   "id": "f6343759-af25-42c4-91a7-9df95a345196",
   "metadata": {},
   "outputs": [
    {
     "data": {
      "text/plain": [
       "{4, 5}"
      ]
     },
     "execution_count": 229,
     "metadata": {},
     "output_type": "execute_result"
    }
   ],
   "source": [
    "\"\"\"\n",
    "Updates the set calling the intersection_update() method with the intersection o\n",
    "For below example Set A will be updated with the intersection of A & B.\n",
    "\"\"\"\n",
    "A.intersection_update(B)\n",
    "A"
   ]
  },
  {
   "cell_type": "code",
   "execution_count": 230,
   "id": "06c650d3-6073-4b10-a857-987d98c88157",
   "metadata": {},
   "outputs": [
    {
     "data": {
      "image/png": "[encoded data removed]",
      "text/plain": [
       "<IPython.core.display.Image object>"
      ]
     },
     "execution_count": 230,
     "metadata": {},
     "output_type": "execute_result"
    }
   ],
   "source": [
    "from IPython.display import Image\n",
    "Image(filename= 'Screenshot 2025-06-28 222536.png')"
   ]
  },
  {
   "cell_type": "markdown",
   "id": "066564ff-aea9-4e82-9333-9ad24f87d1c2",
   "metadata": {},
   "source": [
    "# Difference"
   ]
  },
  {
   "cell_type": "code",
   "execution_count": 231,
   "id": "8964b529-3832-410c-8cbc-c0ec2ec4056d",
   "metadata": {},
   "outputs": [],
   "source": [
    "A = {1,2,3,4,5}\n",
    "B = {4,5,6,7,8}"
   ]
  },
  {
   "cell_type": "code",
   "execution_count": 232,
   "id": "49d19b9a-ed5e-4a61-a91c-12023771f446",
   "metadata": {},
   "outputs": [
    {
     "data": {
      "text/plain": [
       "{1, 2, 3}"
      ]
     },
     "execution_count": 232,
     "metadata": {},
     "output_type": "execute_result"
    }
   ],
   "source": [
    "A - B # set of element that are only in A but not in B"
   ]
  },
  {
   "cell_type": "code",
   "execution_count": 233,
   "id": "d3b392b1-de6a-403f-8789-27ed55024a76",
   "metadata": {},
   "outputs": [
    {
     "data": {
      "text/plain": [
       "{1, 2, 3}"
      ]
     },
     "execution_count": 233,
     "metadata": {},
     "output_type": "execute_result"
    }
   ],
   "source": [
    "A.difference(B)  # Difference of sets"
   ]
  },
  {
   "cell_type": "code",
   "execution_count": 234,
   "id": "03f8e446-c7f7-4a98-9c88-2946b0b20ca5",
   "metadata": {},
   "outputs": [
    {
     "data": {
      "text/plain": [
       "{6, 7, 8}"
      ]
     },
     "execution_count": 234,
     "metadata": {},
     "output_type": "execute_result"
    }
   ],
   "source": [
    "B -A # set of element that are only in B but not in A"
   ]
  },
  {
   "cell_type": "code",
   "execution_count": 235,
   "id": "7eb5d278-bae9-4a9d-beba-833994a45b8a",
   "metadata": {},
   "outputs": [
    {
     "data": {
      "text/plain": [
       "{6, 7, 8}"
      ]
     },
     "execution_count": 235,
     "metadata": {},
     "output_type": "execute_result"
    }
   ],
   "source": [
    "B.difference(A)"
   ]
  },
  {
   "cell_type": "code",
   "execution_count": 236,
   "id": "f0b83b74-07b7-40e9-9966-ed107f27ea35",
   "metadata": {},
   "outputs": [
    {
     "data": {
      "text/plain": [
       "{6, 7, 8}"
      ]
     },
     "execution_count": 236,
     "metadata": {},
     "output_type": "execute_result"
    }
   ],
   "source": [
    "\"\"\"\n",
    "Updates the set calling the difference_update() method with the difference of se\n",
    "For below example Set B will be updated with the difference of B & A.\n",
    "\"\"\"\n",
    "B.difference_update(A)\n",
    "B\n"
   ]
  },
  {
   "cell_type": "code",
   "execution_count": 237,
   "id": "e3ee4a56-764d-44a5-b86e-d08791454223",
   "metadata": {},
   "outputs": [
    {
     "data": {
      "image/png": "[encoded data removed]",
      "text/plain": [
       "<IPython.core.display.Image object>"
      ]
     },
     "execution_count": 237,
     "metadata": {},
     "output_type": "execute_result"
    }
   ],
   "source": [
    "from IPython.display import Image\n",
    "Image(filename= 'Screenshot 2025-06-28 223622.png')"
   ]
  },
  {
   "cell_type": "markdown",
   "id": "bf2264e6-5d0a-4029-8b4c-07fb144204a6",
   "metadata": {},
   "source": [
    "# Symmetric Difference"
   ]
  },
  {
   "cell_type": "code",
   "execution_count": 238,
   "id": "ed69fc6b-67a2-4082-bbbf-7d04ecd38b22",
   "metadata": {},
   "outputs": [],
   "source": [
    "A = {1,2,3,4,5}\n",
    "B = {4,5,6,7,8}"
   ]
  },
  {
   "cell_type": "code",
   "execution_count": 239,
   "id": "ceec6a7f-cd28-4aba-88ef-cbe01854a7e0",
   "metadata": {},
   "outputs": [
    {
     "data": {
      "text/plain": [
       "{1, 2, 3, 6, 7, 8}"
      ]
     },
     "execution_count": 239,
     "metadata": {},
     "output_type": "execute_result"
    }
   ],
   "source": [
    "A ^ B # symmetric difference (set of element in A and B but not in both."
   ]
  },
  {
   "cell_type": "code",
   "execution_count": 240,
   "id": "4cbe84b8-c7c6-4141-9ce1-5f2cf4ffd40c",
   "metadata": {},
   "outputs": [
    {
     "data": {
      "text/plain": [
       "{1, 2, 3, 6, 7, 8}"
      ]
     },
     "execution_count": 240,
     "metadata": {},
     "output_type": "execute_result"
    }
   ],
   "source": [
    "A.symmetric_difference(B) # Symmetric difference of sets"
   ]
  },
  {
   "cell_type": "code",
   "execution_count": 241,
   "id": "ab5d466f-b135-4f15-9f31-5b7715f8dfa8",
   "metadata": {},
   "outputs": [
    {
     "data": {
      "text/plain": [
       "{1, 2, 3, 6, 7, 8}"
      ]
     },
     "execution_count": 241,
     "metadata": {},
     "output_type": "execute_result"
    }
   ],
   "source": [
    "\"\"\"\n",
    "Updates the set calling the symmetric_difference_update() method with the symmet\n",
    "For below example Set A will be updated with the symmetric difference of A & B.\n",
    "\"\"\"\n",
    "A.symmetric_difference_update(B)\n",
    "A"
   ]
  },
  {
   "cell_type": "code",
   "execution_count": 242,
   "id": "3f952e51-83a6-40a3-9044-a549196a2ca8",
   "metadata": {},
   "outputs": [
    {
     "data": {
      "image/png": "[encoded data removed]",
      "text/plain": [
       "<IPython.core.display.Image object>"
      ]
     },
     "execution_count": 242,
     "metadata": {},
     "output_type": "execute_result"
    }
   ],
   "source": [
    "from IPython.display import Image\n",
    "Image (filename = 'Screenshot 2025-06-28 224544.png')"
   ]
  },
  {
   "cell_type": "markdown",
   "id": "8d38eff8-5941-42e9-92a7-e8a372383fee",
   "metadata": {},
   "source": [
    "# subset , superset , disjoint"
   ]
  },
  {
   "cell_type": "code",
   "execution_count": 243,
   "id": "bedcc803-bbe6-4d1c-bd14-0f1203ed26d3",
   "metadata": {},
   "outputs": [],
   "source": [
    "A = {1,2,3,4,5,6,7,8,9}\n",
    "B = {3,4,5,6,7,8}\n",
    "C = {10,20,30,40}"
   ]
  },
  {
   "cell_type": "code",
   "execution_count": 244,
   "id": "98b0ee77-29d6-45d6-b942-d5903d2c2968",
   "metadata": {},
   "outputs": [
    {
     "data": {
      "text/plain": [
       "True"
      ]
     },
     "execution_count": 244,
     "metadata": {},
     "output_type": "execute_result"
    }
   ],
   "source": [
    "B.issubset(A) #set B is said to be the subset of set A if all elements of B are "
   ]
  },
  {
   "cell_type": "code",
   "execution_count": 245,
   "id": "69bb898e-c724-4068-b3ae-bbe59035f193",
   "metadata": {},
   "outputs": [
    {
     "data": {
      "text/plain": [
       "True"
      ]
     },
     "execution_count": 245,
     "metadata": {},
     "output_type": "execute_result"
    }
   ],
   "source": [
    "A.issuperset(B) #set A is said to be the superset of set B if all element of B"
   ]
  },
  {
   "cell_type": "code",
   "execution_count": 246,
   "id": "186d3be9-609a-4b18-92ec-881c2b5ab927",
   "metadata": {},
   "outputs": [
    {
     "data": {
      "text/plain": [
       "True"
      ]
     },
     "execution_count": 246,
     "metadata": {},
     "output_type": "execute_result"
    }
   ],
   "source": [
    "C.isdisjoint(A) # Two sets are said to be disjoint sets if they have no common element"
   ]
  },
  {
   "cell_type": "code",
   "execution_count": 247,
   "id": "fc159225-f1ff-47f1-8892-0a169457b923",
   "metadata": {},
   "outputs": [
    {
     "data": {
      "text/plain": [
       "False"
      ]
     },
     "execution_count": 247,
     "metadata": {},
     "output_type": "execute_result"
    }
   ],
   "source": [
    "B.isdisjoint(A) # Two sets are said to be disjoint sets if they have no comma element"
   ]
  },
  {
   "cell_type": "markdown",
   "id": "f215574a-4476-4d72-a9ff-0b09bd18d19d",
   "metadata": {},
   "source": [
    "# Other Builtin Function"
   ]
  },
  {
   "cell_type": "code",
   "execution_count": 248,
   "id": "43918278-62ec-429f-9681-0c2d9c8de5b5",
   "metadata": {},
   "outputs": [
    {
     "data": {
      "text/plain": [
       "{1, 2, 3, 4, 5, 6, 7, 8, 9}"
      ]
     },
     "execution_count": 248,
     "metadata": {},
     "output_type": "execute_result"
    }
   ],
   "source": [
    "A "
   ]
  },
  {
   "cell_type": "code",
   "execution_count": 249,
   "id": "c77da32f-ccc3-4af7-9fd8-2feb8d0d2e2f",
   "metadata": {},
   "outputs": [
    {
     "data": {
      "text/plain": [
       "45"
      ]
     },
     "execution_count": 249,
     "metadata": {},
     "output_type": "execute_result"
    }
   ],
   "source": [
    "sum(A)"
   ]
  },
  {
   "cell_type": "code",
   "execution_count": 250,
   "id": "7d3d2bfc-390d-4f39-a868-93dca8df5ffc",
   "metadata": {},
   "outputs": [
    {
     "data": {
      "text/plain": [
       "9"
      ]
     },
     "execution_count": 250,
     "metadata": {},
     "output_type": "execute_result"
    }
   ],
   "source": [
    "max(A)"
   ]
  },
  {
   "cell_type": "code",
   "execution_count": 251,
   "id": "56d93a2a-c0a7-4203-9a33-9b4482d956e9",
   "metadata": {},
   "outputs": [
    {
     "data": {
      "text/plain": [
       "1"
      ]
     },
     "execution_count": 251,
     "metadata": {},
     "output_type": "execute_result"
    }
   ],
   "source": [
    "min(A)"
   ]
  },
  {
   "cell_type": "code",
   "execution_count": 252,
   "id": "fd1dfd7c-dbfa-4df4-a893-110e6e0a408d",
   "metadata": {},
   "outputs": [
    {
     "data": {
      "text/plain": [
       "9"
      ]
     },
     "execution_count": 252,
     "metadata": {},
     "output_type": "execute_result"
    }
   ],
   "source": [
    "len(A)"
   ]
  },
  {
   "cell_type": "code",
   "execution_count": 253,
   "id": "20fa3b84-c2d3-4083-8c4c-f5fe095f8bfb",
   "metadata": {},
   "outputs": [
    {
     "data": {
      "text/plain": [
       "[(0, 1), (1, 2), (2, 3), (3, 4), (4, 5), (5, 6), (6, 7), (7, 8), (8, 9)]"
      ]
     },
     "execution_count": 253,
     "metadata": {},
     "output_type": "execute_result"
    }
   ],
   "source": [
    "list(enumerate(A))"
   ]
  },
  {
   "cell_type": "code",
   "execution_count": 254,
   "id": "4a64b547-ee38-4564-b718-b19046e99612",
   "metadata": {},
   "outputs": [
    {
     "data": {
      "text/plain": [
       "[9, 8, 7, 6, 5, 4, 3, 2, 1]"
      ]
     },
     "execution_count": 254,
     "metadata": {},
     "output_type": "execute_result"
    }
   ],
   "source": [
    "D = sorted(A,reverse = True)\n",
    "D"
   ]
  },
  {
   "cell_type": "code",
   "execution_count": 255,
   "id": "32223a2f-c07c-4c48-8890-66bb347453d3",
   "metadata": {},
   "outputs": [
    {
     "data": {
      "text/plain": [
       "[1, 2, 3, 4, 5, 6, 7, 8, 9]"
      ]
     },
     "execution_count": 255,
     "metadata": {},
     "output_type": "execute_result"
    }
   ],
   "source": [
    "sorted(D)"
   ]
  },
  {
   "cell_type": "markdown",
   "id": "2a379907-73e9-4786-8c3b-d671d648e793",
   "metadata": {},
   "source": [
    "# Dictionary"
   ]
  },
  {
   "cell_type": "markdown",
   "id": "7cb47861-f29e-4ea0-ac6d-51aaee7103ac",
   "metadata": {},
   "source": [
    "# Create Dictionary"
   ]
  },
  {
   "cell_type": "code",
   "execution_count": 256,
   "id": "e4c8e8b5-fc32-4489-a093-3851b1fdacdf",
   "metadata": {},
   "outputs": [
    {
     "data": {
      "text/plain": [
       "{}"
      ]
     },
     "execution_count": 256,
     "metadata": {},
     "output_type": "execute_result"
    }
   ],
   "source": [
    "mydict = dict() #empty dictionary\n",
    "mydict"
   ]
  },
  {
   "cell_type": "code",
   "execution_count": 257,
   "id": "1c943fe7-b9db-4415-87ab-77aee39a7aaf",
   "metadata": {},
   "outputs": [
    {
     "data": {
      "text/plain": [
       "{}"
      ]
     },
     "execution_count": 257,
     "metadata": {},
     "output_type": "execute_result"
    }
   ],
   "source": [
    "mydict ={}\n",
    "mydict"
   ]
  },
  {
   "cell_type": "code",
   "execution_count": 258,
   "id": "b702816d-27f6-4b0f-a8e4-d3fcab255b2e",
   "metadata": {},
   "outputs": [
    {
     "data": {
      "text/plain": [
       "{1: 'one', 2: 'two', 3: 'three'}"
      ]
     },
     "execution_count": 258,
     "metadata": {},
     "output_type": "execute_result"
    }
   ],
   "source": [
    "mydict = {1:'one', 2:'two', 3:'three'} # dictionary with integer keys\n",
    "mydict"
   ]
  },
  {
   "cell_type": "code",
   "execution_count": 259,
   "id": "03fe4ffc-b608-44e1-b144-49d97f39707d",
   "metadata": {},
   "outputs": [
    {
     "data": {
      "text/plain": [
       "{1: 'one', 2: 'two', 3: 'three'}"
      ]
     },
     "execution_count": 259,
     "metadata": {},
     "output_type": "execute_result"
    }
   ],
   "source": [
    "mydict = dict({1:'one', 2:'two', 3:'three'}) # create dictionary using dict()\n",
    "mydict"
   ]
  },
  {
   "cell_type": "code",
   "execution_count": 260,
   "id": "5bc12ea3-d57d-468c-a40e-becdcb2a1c7a",
   "metadata": {},
   "outputs": [
    {
     "data": {
      "text/plain": [
       "{'A': 'one', 'B': 'two', 'C': 'three'}"
      ]
     },
     "execution_count": 260,
     "metadata": {},
     "output_type": "execute_result"
    }
   ],
   "source": [
    "mydict = {'A':'one', 'B': 'two', 'C':'three'} # Dictionary with character key\n",
    "mydict"
   ]
  },
  {
   "cell_type": "code",
   "execution_count": 261,
   "id": "de6db391-46ea-43e1-9bda-b9f346f51c18",
   "metadata": {},
   "outputs": [
    {
     "data": {
      "text/plain": [
       "{1: 'one', 'A': 'two', 3: 'three'}"
      ]
     },
     "execution_count": 261,
     "metadata": {},
     "output_type": "execute_result"
    }
   ],
   "source": [
    "mydict = {1:'one', 'A': 'two', 3:'three'}\n",
    "mydict"
   ]
  },
  {
   "cell_type": "code",
   "execution_count": 262,
   "id": "7acaa35f-28bd-414c-80bb-4af6f5af2ad7",
   "metadata": {},
   "outputs": [
    {
     "data": {
      "text/plain": [
       "dict_keys([1, 'A', 3])"
      ]
     },
     "execution_count": 262,
     "metadata": {},
     "output_type": "execute_result"
    }
   ],
   "source": [
    "mydict.keys() #return dictionary values using values() method"
   ]
  },
  {
   "cell_type": "code",
   "execution_count": 263,
   "id": "84c1a23b-3761-460e-8bce-3b1181c3c60e",
   "metadata": {},
   "outputs": [
    {
     "data": {
      "text/plain": [
       "dict_values(['one', 'two', 'three'])"
      ]
     },
     "execution_count": 263,
     "metadata": {},
     "output_type": "execute_result"
    }
   ],
   "source": [
    "mydict.values() # return dictionary values using values () method"
   ]
  },
  {
   "cell_type": "code",
   "execution_count": 264,
   "id": "4af07b07-5557-4cae-8400-8663f44db757",
   "metadata": {},
   "outputs": [
    {
     "data": {
      "text/plain": [
       "dict_items([(1, 'one'), ('A', 'two'), (3, 'three')])"
      ]
     },
     "execution_count": 264,
     "metadata": {},
     "output_type": "execute_result"
    }
   ],
   "source": [
    "mydict.items() # Access each key- value pair within a dictionary "
   ]
  },
  {
   "cell_type": "code",
   "execution_count": 265,
   "id": "435462ff-0681-49ff-80d5-364aae0289d6",
   "metadata": {},
   "outputs": [
    {
     "data": {
      "text/plain": [
       "{1: 'one',\n",
       " 2: 'two',\n",
       " 'A': ['asif', 'jphn', 'maria'],\n",
       " 'B': ('Bat', 'Cat', 'hat')}"
      ]
     },
     "execution_count": 265,
     "metadata": {},
     "output_type": "execute_result"
    }
   ],
   "source": [
    "mydict = {1: 'one',2:'two','A':['asif', 'jphn','maria'], 'B':('Bat', 'Cat', 'hat')}\n",
    "mydict"
   ]
  },
  {
   "cell_type": "code",
   "execution_count": 266,
   "id": "f05b4627-e77f-4c9a-b639-a96007855751",
   "metadata": {},
   "outputs": [
    {
     "data": {
      "text/plain": [
       "{1: 'one',\n",
       " 2: 'two',\n",
       " 'A': {'name': 'asif', 'Age': 20},\n",
       " 'B': ('Bat', 'Cat', 'hat')}"
      ]
     },
     "execution_count": 266,
     "metadata": {},
     "output_type": "execute_result"
    }
   ],
   "source": [
    "mydict = {1: 'one', 2:'two','A':{'name':'asif', 'Age': 20}, 'B':('Bat','Cat','hat')}\n",
    "mydict"
   ]
  },
  {
   "cell_type": "code",
   "execution_count": 267,
   "id": "ac37d0ff-62fe-483b-94b1-0457d4663fcb",
   "metadata": {},
   "outputs": [
    {
     "data": {
      "text/plain": [
       "{'b': None, 'd': None, 'a': None, 'c': None}"
      ]
     },
     "execution_count": 267,
     "metadata": {},
     "output_type": "execute_result"
    }
   ],
   "source": [
    "keys = {'a','b','c','d'}\n",
    "mydict3 = dict.fromkeys(keys) # create a dictionary from a sequence of keys\n",
    "mydict3"
   ]
  },
  {
   "cell_type": "code",
   "execution_count": 268,
   "id": "5e776044-eb05-4157-bf72-ac79f6df4649",
   "metadata": {},
   "outputs": [
    {
     "data": {
      "text/plain": [
       "{'b': 10, 'd': 10, 'a': 10, 'c': 10}"
      ]
     },
     "execution_count": 268,
     "metadata": {},
     "output_type": "execute_result"
    }
   ],
   "source": [
    "keys = {'a','b','c','d'}\n",
    "value = 10\n",
    "mydict3 = dict.fromkeys(keys, value) #create a dictionary from a sequence of keys\n",
    "mydict3"
   ]
  },
  {
   "cell_type": "code",
   "execution_count": 269,
   "id": "6e0dc79f-3008-46c5-96c3-719986a0747a",
   "metadata": {},
   "outputs": [
    {
     "data": {
      "text/plain": [
       "{'b': [10, 20, 30], 'd': [10, 20, 30], 'a': [10, 20, 30], 'c': [10, 20, 30]}"
      ]
     },
     "execution_count": 269,
     "metadata": {},
     "output_type": "execute_result"
    }
   ],
   "source": [
    "keys = {'a','b','c','d'}\n",
    "value = [10,20,30]\n",
    "mydict3 = dict.fromkeys(keys, value)\n",
    "mydict3"
   ]
  },
  {
   "cell_type": "code",
   "execution_count": 270,
   "id": "6dcdfaa5-eb61-4c91-af4d-f4a173ebed79",
   "metadata": {},
   "outputs": [
    {
     "data": {
      "text/plain": [
       "{'b': [10, 20, 30, 40],\n",
       " 'd': [10, 20, 30, 40],\n",
       " 'a': [10, 20, 30, 40],\n",
       " 'c': [10, 20, 30, 40]}"
      ]
     },
     "execution_count": 270,
     "metadata": {},
     "output_type": "execute_result"
    }
   ],
   "source": [
    "value.append(40)\n",
    "mydict3"
   ]
  },
  {
   "cell_type": "markdown",
   "id": "b84440ca-310a-4cff-9cfb-18b62189b9a4",
   "metadata": {},
   "source": [
    "# Accessing items"
   ]
  },
  {
   "cell_type": "code",
   "execution_count": 271,
   "id": "91a56755-7e29-4851-b3a1-7c3fc07409fb",
   "metadata": {},
   "outputs": [
    {
     "data": {
      "text/plain": [
       "{1: 'one', 2: 'two', 3: 'three', 4: 'four'}"
      ]
     },
     "execution_count": 271,
     "metadata": {},
     "output_type": "execute_result"
    }
   ],
   "source": [
    "mydict = { 1: 'one', 2: 'two', 3: 'three',4:'four'}\n",
    "mydict"
   ]
  },
  {
   "cell_type": "code",
   "execution_count": 272,
   "id": "691bf7c5-7093-4ec6-a0a8-c5c4ed3090f8",
   "metadata": {},
   "outputs": [
    {
     "data": {
      "text/plain": [
       "'one'"
      ]
     },
     "execution_count": 272,
     "metadata": {},
     "output_type": "execute_result"
    }
   ],
   "source": [
    "mydict[1] # Access item using key"
   ]
  },
  {
   "cell_type": "code",
   "execution_count": 273,
   "id": "bb410472-7c97-45bf-8d96-512b695219f0",
   "metadata": {},
   "outputs": [
    {
     "data": {
      "text/plain": [
       "'one'"
      ]
     },
     "execution_count": 273,
     "metadata": {},
     "output_type": "execute_result"
    }
   ],
   "source": [
    "mydict.get(1) #Access  item using key"
   ]
  },
  {
   "cell_type": "code",
   "execution_count": 274,
   "id": "4c89eb24-f2bf-415e-9b5e-3c8a48e42ed5",
   "metadata": {},
   "outputs": [
    {
     "data": {
      "text/plain": [
       "'one'"
      ]
     },
     "execution_count": 274,
     "metadata": {},
     "output_type": "execute_result"
    }
   ],
   "source": [
    "mydict.get(1) #Access item using get() method"
   ]
  },
  {
   "cell_type": "code",
   "execution_count": 275,
   "id": "65c52673-9233-4f02-ace2-f2ae5940842a",
   "metadata": {},
   "outputs": [
    {
     "data": {
      "text/plain": [
       "{'Name': 'Asif', 'ID': 74123, 'DOB': 1991, 'Job': 'Analyst'}"
      ]
     },
     "execution_count": 275,
     "metadata": {},
     "output_type": "execute_result"
    }
   ],
   "source": [
    "mydict1 = {'Name' : 'Asif', 'ID': 74123, 'DOB': 1991, 'Job':'Analyst'}\n",
    "mydict1"
   ]
  },
  {
   "cell_type": "code",
   "execution_count": 276,
   "id": "8707f77d-72af-438c-b89f-7af77529a340",
   "metadata": {},
   "outputs": [
    {
     "data": {
      "text/plain": [
       "'Asif'"
      ]
     },
     "execution_count": 276,
     "metadata": {},
     "output_type": "execute_result"
    }
   ],
   "source": [
    "mydict1['Name'] # a=Access item using key"
   ]
  },
  {
   "cell_type": "code",
   "execution_count": 277,
   "id": "7a989fb9-93fd-4b3d-a5b9-ade7c4aa6747",
   "metadata": {},
   "outputs": [
    {
     "data": {
      "text/plain": [
       "'Analyst'"
      ]
     },
     "execution_count": 277,
     "metadata": {},
     "output_type": "execute_result"
    }
   ],
   "source": [
    "mydict1.get('Job') # Access item using get() method"
   ]
  },
  {
   "cell_type": "markdown",
   "id": "2a0284c3-2740-41e5-b6c4-6c0b30966eee",
   "metadata": {},
   "source": [
    "# Add, Remove & change Items"
   ]
  },
  {
   "cell_type": "code",
   "execution_count": 286,
   "id": "8e3338c4-5233-4af9-871a-24cfae19d0ad",
   "metadata": {},
   "outputs": [
    {
     "data": {
      "text/plain": [
       "{'name': 'Asif', 'Id': 12345, 'DOB': 1991, 'Address': 'Hilsinki'}"
      ]
     },
     "execution_count": 286,
     "metadata": {},
     "output_type": "execute_result"
    }
   ],
   "source": [
    "mydict1 = {'name': 'Asif', 'Id': 12345, 'DOB': 1991, 'Address': 'Hilsinki'}\n",
    "mydict1"
   ]
  },
  {
   "cell_type": "code",
   "execution_count": 287,
   "id": "2833faad-a590-4366-ac72-262be668ad9d",
   "metadata": {},
   "outputs": [
    {
     "data": {
      "text/plain": [
       "{'name': 'Asif', 'Id': 12345, 'DOB': 1992, 'Address': 'Delhi'}"
      ]
     },
     "execution_count": 287,
     "metadata": {},
     "output_type": "execute_result"
    }
   ],
   "source": [
    "mydict1['DOB'] = 1992  # Changing Dictionary Items\n",
    "mydict1['Address'] = 'Delhi'\n",
    "mydict1"
   ]
  },
  {
   "cell_type": "code",
   "execution_count": 288,
   "id": "321b031c-fc5e-4631-ab04-f34025121791",
   "metadata": {},
   "outputs": [
    {
     "data": {
      "text/plain": [
       "{'name': 'Asif',\n",
       " 'Id': 12345,\n",
       " 'DOB': 1992,\n",
       " 'Address': 'Delhi',\n",
       " 'job': 'Analyst'}"
      ]
     },
     "execution_count": 288,
     "metadata": {},
     "output_type": "execute_result"
    }
   ],
   "source": [
    "mydict1['job'] = 'Analyst' # Adding items in the dictionary\n",
    "mydict1"
   ]
  },
  {
   "cell_type": "code",
   "execution_count": 289,
   "id": "44dd6022-f6fc-4b38-a7c2-cbe82c49af26",
   "metadata": {},
   "outputs": [
    {
     "data": {
      "text/plain": [
       "{'name': 'Asif', 'Id': 12345, 'DOB': 1992, 'Address': 'Delhi'}"
      ]
     },
     "execution_count": 289,
     "metadata": {},
     "output_type": "execute_result"
    }
   ],
   "source": [
    "mydict1.pop('job') # Removing items in the dictionary using pop method\n",
    "mydict1"
   ]
  },
  {
   "cell_type": "code",
   "execution_count": 290,
   "id": "fee6d412-67f7-4070-b478-e47f7396a2b0",
   "metadata": {},
   "outputs": [
    {
     "data": {
      "text/plain": [
       "('Address', 'Delhi')"
      ]
     },
     "execution_count": 290,
     "metadata": {},
     "output_type": "execute_result"
    }
   ],
   "source": [
    "mydict1.popitem() # A random iten is removed"
   ]
  },
  {
   "cell_type": "code",
   "execution_count": 291,
   "id": "cfcf50ed-68ea-45c0-8b80-0fae59535751",
   "metadata": {},
   "outputs": [
    {
     "data": {
      "text/plain": [
       "{'name': 'Asif', 'Id': 12345, 'DOB': 1992}"
      ]
     },
     "execution_count": 291,
     "metadata": {},
     "output_type": "execute_result"
    }
   ],
   "source": [
    "mydict1"
   ]
  },
  {
   "cell_type": "code",
   "execution_count": 292,
   "id": "09aeb753-a69a-42a1-99fc-10a70e99857f",
   "metadata": {},
   "outputs": [
    {
     "ename": "NameError",
     "evalue": "name 'mydict1' is not defined",
     "output_type": "error",
     "traceback": [
      "\u001b[1;31m----------------------------------------------------------------\u001b[0m",
      "\u001b[1;31mNameError\u001b[0m                      Traceback (most recent call last)",
      "Cell \u001b[1;32mIn[292], line 2\u001b[0m\n\u001b[0;32m      1\u001b[0m \u001b[38;5;28;01mdel\u001b[39;00m mydict1 \u001b[38;5;66;03m# Delete the dictionary object\u001b[39;00m\n\u001b[1;32m----> 2\u001b[0m mydict1\n",
      "\u001b[1;31mNameError\u001b[0m: name 'mydict1' is not defined"
     ]
    }
   ],
   "source": [
    "del mydict1 # Delete the dictionary object\n",
    "mydict1"
   ]
  },
  {
   "cell_type": "markdown",
   "id": "6b2f8393-7620-47d3-bac2-5f047b5b2c09",
   "metadata": {},
   "source": [
    "# copy Dictionary"
   ]
  },
  {
   "cell_type": "code",
   "execution_count": 308,
   "id": "53e082f3-372c-4f8b-b66e-e56ab9a30e1c",
   "metadata": {},
   "outputs": [
    {
     "data": {
      "text/plain": [
       "{'Name': 'Asif', 'ID': 12345, 'DOB': 1991, 'Address': 'Hilsinki'}"
      ]
     },
     "execution_count": 308,
     "metadata": {},
     "output_type": "execute_result"
    }
   ],
   "source": [
    "mydict = {'Name': 'Asif' , 'ID': 12345, 'DOB': 1991, 'Address' : 'Hilsinki'}\n",
    "mydict"
   ]
  },
  {
   "cell_type": "code",
   "execution_count": 309,
   "id": "c5f74cec-4644-4463-b6f4-8ad5ae9b0733",
   "metadata": {},
   "outputs": [],
   "source": [
    "mydict1 = mydict # create a new reference \"mydict1\"\n"
   ]
  },
  {
   "cell_type": "code",
   "execution_count": 310,
   "id": "49592ddf-744e-4c33-9993-84416593f176",
   "metadata": {},
   "outputs": [
    {
     "data": {
      "text/plain": [
       "(3101772755392, 3101772755392)"
      ]
     },
     "execution_count": 310,
     "metadata": {},
     "output_type": "execute_result"
    }
   ],
   "source": [
    "id(mydict) , id(mydict1) # the address of both mydict & mydict1 will be the same id "
   ]
  },
  {
   "cell_type": "code",
   "execution_count": 311,
   "id": "8bc6e6d5-4395-4cc5-9b06-b119ed5f3265",
   "metadata": {},
   "outputs": [],
   "source": [
    "mydict2 = mydict.copy() #create a copy of the dictionary"
   ]
  },
  {
   "cell_type": "code",
   "execution_count": 312,
   "id": "87320ad7-854e-4fd0-9ce8-c2f176580f69",
   "metadata": {},
   "outputs": [
    {
     "data": {
      "text/plain": [
       "3101772734464"
      ]
     },
     "execution_count": 312,
     "metadata": {},
     "output_type": "execute_result"
    }
   ],
   "source": [
    "id(mydict2) # the Address of mydict2 will be different from mydict because mydict"
   ]
  },
  {
   "cell_type": "code",
   "execution_count": 313,
   "id": "c0352dc5-855b-47a4-917a-ecf1881aac0e",
   "metadata": {},
   "outputs": [],
   "source": [
    "mydict['Address'] = 'Mumbai'"
   ]
  },
  {
   "cell_type": "code",
   "execution_count": 314,
   "id": "ebd0c2fa-4bd2-4cd7-a561-f237735f090f",
   "metadata": {},
   "outputs": [
    {
     "data": {
      "text/plain": [
       "{'Name': 'Asif', 'ID': 12345, 'DOB': 1991, 'Address': 'Mumbai'}"
      ]
     },
     "execution_count": 314,
     "metadata": {},
     "output_type": "execute_result"
    }
   ],
   "source": [
    "mydict"
   ]
  },
  {
   "cell_type": "code",
   "execution_count": 315,
   "id": "889c563c-19e9-4faf-9cf9-4023a5a43a2f",
   "metadata": {},
   "outputs": [
    {
     "data": {
      "text/plain": [
       "{'Name': 'Asif', 'ID': 12345, 'DOB': 1991, 'Address': 'Mumbai'}"
      ]
     },
     "execution_count": 315,
     "metadata": {},
     "output_type": "execute_result"
    }
   ],
   "source": [
    "mydict1 #mydict1 will be also impacted as it is pointing to the same dictionary "
   ]
  },
  {
   "cell_type": "code",
   "execution_count": 316,
   "id": "46380d5f-f1aa-446e-8551-3e463fe7328c",
   "metadata": {},
   "outputs": [
    {
     "data": {
      "text/plain": [
       "{'Name': 'Asif', 'ID': 12345, 'DOB': 1991, 'Address': 'Hilsinki'}"
      ]
     },
     "execution_count": 316,
     "metadata": {},
     "output_type": "execute_result"
    }
   ],
   "source": [
    "mydict2 # copy of list won't be impacted due to the change made in the orignal "
   ]
  },
  {
   "cell_type": "markdown",
   "id": "4ca75d90-3609-4149-a431-af10bcca7990",
   "metadata": {},
   "source": [
    "# Loop through a Dictionary "
   ]
  },
  {
   "cell_type": "code",
   "execution_count": 317,
   "id": "1f90816e-bb2f-4320-8485-86edafa1c741",
   "metadata": {},
   "outputs": [
    {
     "data": {
      "text/plain": [
       "{'Name': 'Asif',\n",
       " 'ID': 12345,\n",
       " 'DOB': 1991,\n",
       " 'Address': 'Hilsinki',\n",
       " 'Job': 'Analyst'}"
      ]
     },
     "execution_count": 317,
     "metadata": {},
     "output_type": "execute_result"
    }
   ],
   "source": [
    "mydict1 = {'Name':'Asif', 'ID' : 12345, 'DOB' : 1991 , 'Address' : 'Hilsinki', 'Job': 'Analyst'}\n",
    "mydict1"
   ]
  },
  {
   "cell_type": "code",
   "execution_count": 319,
   "id": "8e961d08-c485-49b9-b256-9a9f7dce604b",
   "metadata": {},
   "outputs": [
    {
     "name": "stdout",
     "output_type": "stream",
     "text": [
      "Name : Asif\n",
      "ID : 12345\n",
      "DOB : 1991\n",
      "Address : Hilsinki\n",
      "Job : Analyst\n"
     ]
    }
   ],
   "source": [
    "for i in mydict1:\n",
    "    print(i, ':' , mydict1[i]) # key and value pair"
   ]
  },
  {
   "cell_type": "code",
   "execution_count": 322,
   "id": "68479e8b-56b0-4501-8101-74d6ddd21c08",
   "metadata": {},
   "outputs": [
    {
     "name": "stdout",
     "output_type": "stream",
     "text": [
      "Asif\n",
      "12345\n",
      "1991\n",
      "Hilsinki\n",
      "Analyst\n"
     ]
    }
   ],
   "source": [
    "for i in mydict1:\n",
    "    print(mydict1[i]) # Dictonary item"
   ]
  },
  {
   "cell_type": "markdown",
   "id": "89b96fdd-a2e4-4da9-a646-61e7c3dc3b3b",
   "metadata": {},
   "source": [
    "# Dictionary membership"
   ]
  },
  {
   "cell_type": "code",
   "execution_count": 323,
   "id": "bfdde08b-cf38-44f4-9fbe-5b063e2b624a",
   "metadata": {},
   "outputs": [
    {
     "data": {
      "text/plain": [
       "{'Name': 'Asif', 'ID': 12345, 'DOB': 1991, 'Job': 'Analyst'}"
      ]
     },
     "execution_count": 323,
     "metadata": {},
     "output_type": "execute_result"
    }
   ],
   "source": [
    "mydict1 = {'Name': 'Asif', 'ID': 12345, 'DOB': 1991, 'Job': 'Analyst'}\n",
    "mydict1"
   ]
  },
  {
   "cell_type": "code",
   "execution_count": 324,
   "id": "5ec6b08b-cb33-420d-b6a1-48cc7fa0c987",
   "metadata": {},
   "outputs": [
    {
     "data": {
      "text/plain": [
       "True"
      ]
     },
     "execution_count": 324,
     "metadata": {},
     "output_type": "execute_result"
    }
   ],
   "source": [
    "'Name' in mydict1 # test if a key is in  dictionary or not."
   ]
  },
  {
   "cell_type": "code",
   "execution_count": 325,
   "id": "bfa447c9-0d22-423f-8def-a678ec9eae9e",
   "metadata": {},
   "outputs": [
    {
     "data": {
      "text/plain": [
       "False"
      ]
     },
     "execution_count": 325,
     "metadata": {},
     "output_type": "execute_result"
    }
   ],
   "source": [
    "'Asif' in mydict1 # Membership test can be only done for keys."
   ]
  },
  {
   "cell_type": "code",
   "execution_count": 326,
   "id": "36d30640-3d2c-47fe-b1cf-cc4886842135",
   "metadata": {},
   "outputs": [
    {
     "data": {
      "text/plain": [
       "True"
      ]
     },
     "execution_count": 326,
     "metadata": {},
     "output_type": "execute_result"
    }
   ],
   "source": [
    "'ID' in mydict1"
   ]
  },
  {
   "cell_type": "code",
   "execution_count": 327,
   "id": "a3b57718-4908-49d6-9a72-a0abb01db27b",
   "metadata": {},
   "outputs": [
    {
     "data": {
      "text/plain": [
       "False"
      ]
     },
     "execution_count": 327,
     "metadata": {},
     "output_type": "execute_result"
    }
   ],
   "source": [
    "'Address' in mydict1"
   ]
  },
  {
   "cell_type": "markdown",
   "id": "a1d3c7f2-a02e-4b3f-9d68-eabde674735a",
   "metadata": {},
   "source": [
    "# All/Any"
   ]
  },
  {
   "cell_type": "code",
   "execution_count": 329,
   "id": "24df7729-0835-4f73-b26f-ba53e4c097be",
   "metadata": {},
   "outputs": [
    {
     "data": {
      "text/plain": [
       "{'Name': 'Asif', 'ID': 12345, 'DOB': 1991, 'Job': 'Analyst'}"
      ]
     },
     "execution_count": 329,
     "metadata": {},
     "output_type": "execute_result"
    }
   ],
   "source": [
    "mydict1 = {'Name':'Asif', 'ID': 12345 , 'DOB': 1991 , 'Job' :'Analyst'}\n",
    "mydict1"
   ]
  },
  {
   "cell_type": "code",
   "execution_count": 330,
   "id": "4d885f64-5a7f-415c-8425-6a3bb5e86b05",
   "metadata": {},
   "outputs": [
    {
     "data": {
      "text/plain": [
       "True"
      ]
     },
     "execution_count": 330,
     "metadata": {},
     "output_type": "execute_result"
    }
   ],
   "source": [
    "all(mydict1) # will return false as one value is false (value 0)"
   ]
  }
 ],
 "metadata": {
  "kernelspec": {
   "display_name": "Python [conda env:base] *",
   "language": "python",
   "name": "conda-base-py"
  },
  "language_info": {
   "codemirror_mode": {
    "name": "ipython",
    "version": 3
   },
   "file_extension": ".py",
   "mimetype": "text/x-python",
   "name": "python",
   "nbconvert_exporter": "python",
   "pygments_lexer": "ipython3",
   "version": "3.12.7"
  }
 },
 "nbformat": 4,
 "nbformat_minor": 5
}
