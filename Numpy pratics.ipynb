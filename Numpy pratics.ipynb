{
 "cells": [
  {
   "cell_type": "code",
   "execution_count": 115,
   "id": "f6e8d0fd-215b-4709-b095-f1de0ef4dcaa",
   "metadata": {},
   "outputs": [],
   "source": [
    "import numpy as np"
   ]
  },
  {
   "cell_type": "code",
   "execution_count": 116,
   "id": "f8cda7d6-9b2d-4e5b-883a-144649f3074d",
   "metadata": {},
   "outputs": [
    {
     "data": {
      "text/plain": [
       "array([  2,   4,  56,  78, 556])"
      ]
     },
     "execution_count": 116,
     "metadata": {},
     "output_type": "execute_result"
    }
   ],
   "source": [
    "np.array([2,4,56,78,556]) # 1D array"
   ]
  },
  {
   "cell_type": "code",
   "execution_count": 117,
   "id": "e856a355-28bd-44cd-87bb-799523d43a02",
   "metadata": {},
   "outputs": [
    {
     "name": "stdout",
     "output_type": "stream",
     "text": [
      "[  2   4  56 422  32   1]\n"
     ]
    }
   ],
   "source": [
    "vector = np.array([2,4,56,422,32,1])    # vector\n",
    "print(vector)"
   ]
  },
  {
   "cell_type": "code",
   "execution_count": 118,
   "id": "4b2d99af-3ed3-482c-8ad1-951719073555",
   "metadata": {},
   "outputs": [
    {
     "data": {
      "text/plain": [
       "numpy.ndarray"
      ]
     },
     "execution_count": 118,
     "metadata": {},
     "output_type": "execute_result"
    }
   ],
   "source": [
    "type(vector)"
   ]
  },
  {
   "cell_type": "code",
   "execution_count": 119,
   "id": "73bb961c-e8c1-4957-a8f9-ad0d1ef45dd7",
   "metadata": {},
   "outputs": [
    {
     "name": "stdout",
     "output_type": "stream",
     "text": [
      "34\n"
     ]
    }
   ],
   "source": [
    "new = np.array([[45,34,22,2],\n",
    "                [24,55,3,22]])\n",
    "print(new[0][1])"
   ]
  },
  {
   "cell_type": "code",
   "execution_count": 120,
   "id": "ae37f8ea-33ca-4121-8256-0fdc53361f1b",
   "metadata": {},
   "outputs": [
    {
     "data": {
      "text/plain": [
       "array([[ 2,  3, 44, 55],\n",
       "       [23,  4,  5, 77],\n",
       "       [33, 44, 55, 66],\n",
       "       [44, 44, 55, 66]])"
      ]
     },
     "execution_count": 120,
     "metadata": {},
     "output_type": "execute_result"
    }
   ],
   "source": [
    "# 3 D array   \n",
    "\n",
    "np.array([[2,3,44,55],[23,4,5,77],[33,44,55,66],[44,44,55,66]])"
   ]
  },
  {
   "cell_type": "markdown",
   "id": "06a114e4-8bb3-4fe9-a35e-f37eecb0af6b",
   "metadata": {},
   "source": [
    "# dtype"
   ]
  },
  {
   "cell_type": "code",
   "execution_count": 121,
   "id": "ea4acabe-7a31-4895-9cc0-b6d2b58d08f1",
   "metadata": {},
   "outputs": [
    {
     "name": "stdout",
     "output_type": "stream",
     "text": [
      "int64\n"
     ]
    }
   ],
   "source": [
    "import numpy as np\n",
    "\n",
    "arr = np.array([1, 2, 3])\n",
    "print(arr.dtype)"
   ]
  },
  {
   "cell_type": "code",
   "execution_count": 122,
   "id": "bbacc9e8-e717-469e-99bc-97d6ceff0d12",
   "metadata": {},
   "outputs": [
    {
     "data": {
      "text/plain": [
       "array([11., 23., 44.])"
      ]
     },
     "execution_count": 122,
     "metadata": {},
     "output_type": "execute_result"
    }
   ],
   "source": [
    "np.array([11,23,44], dtype = float)"
   ]
  },
  {
   "cell_type": "code",
   "execution_count": 123,
   "id": "b3d87670-6026-4b3f-bcb6-cdd88efb38ff",
   "metadata": {},
   "outputs": [
    {
     "data": {
      "text/plain": [
       "array([ True,  True,  True])"
      ]
     },
     "execution_count": 123,
     "metadata": {},
     "output_type": "execute_result"
    }
   ],
   "source": [
    "np.array([11,23,44] , dtype = bool)"
   ]
  },
  {
   "cell_type": "code",
   "execution_count": 124,
   "id": "70ce5f7f-238e-4c72-b174-de3e520d9606",
   "metadata": {},
   "outputs": [
    {
     "data": {
      "text/plain": [
       "array([11.+0.j, 23.+0.j, 44.+0.j])"
      ]
     },
     "execution_count": 124,
     "metadata": {},
     "output_type": "execute_result"
    }
   ],
   "source": [
    "np.array([11,23,44], dtype = complex)"
   ]
  },
  {
   "cell_type": "markdown",
   "id": "e3883f63-b4f4-4462-9833-6c5e65e3ae05",
   "metadata": {},
   "source": [
    "# arange"
   ]
  },
  {
   "cell_type": "code",
   "execution_count": 125,
   "id": "67eafa4c-7a76-4f3d-aff7-709deeda0a19",
   "metadata": {},
   "outputs": [
    {
     "data": {
      "text/plain": [
       "array([0, 1, 2, 3, 4])"
      ]
     },
     "execution_count": 125,
     "metadata": {},
     "output_type": "execute_result"
    }
   ],
   "source": [
    "np.arange(5)"
   ]
  },
  {
   "cell_type": "code",
   "execution_count": 126,
   "id": "35540996-199c-4f73-9f13-936a388d46fc",
   "metadata": {},
   "outputs": [
    {
     "data": {
      "text/plain": [
       "array([ 1,  2,  3,  4,  5,  6,  7,  8,  9, 10, 11, 12, 13, 14, 15, 16, 17,\n",
       "       18, 19, 20, 21, 22, 23, 24])"
      ]
     },
     "execution_count": 126,
     "metadata": {},
     "output_type": "execute_result"
    }
   ],
   "source": [
    "np.arange(1,25)"
   ]
  },
  {
   "cell_type": "code",
   "execution_count": 127,
   "id": "349d10e6-16e3-4ad9-b7bd-d424aeab9d45",
   "metadata": {},
   "outputs": [
    {
     "data": {
      "text/plain": [
       "array([1, 2, 3, 4, 5, 6, 7, 8, 9])"
      ]
     },
     "execution_count": 127,
     "metadata": {},
     "output_type": "execute_result"
    }
   ],
   "source": [
    "np.arange(1,10)"
   ]
  },
  {
   "cell_type": "code",
   "execution_count": 128,
   "id": "fc18c00b-1d97-4112-8e47-a9c393c585c9",
   "metadata": {},
   "outputs": [
    {
     "data": {
      "text/plain": [
       "array([ 1,  3,  5,  7,  9, 11, 13, 15, 17, 19, 21, 23])"
      ]
     },
     "execution_count": 128,
     "metadata": {},
     "output_type": "execute_result"
    }
   ],
   "source": [
    "np.arange(1,25,2)"
   ]
  },
  {
   "cell_type": "markdown",
   "id": "5c7050ee-6cf3-4885-844f-4ec9ab0fbb17",
   "metadata": {},
   "source": [
    "# reshape"
   ]
  },
  {
   "cell_type": "code",
   "execution_count": 129,
   "id": "2c804b20-4baa-40c7-8820-84fb4e503b8b",
   "metadata": {},
   "outputs": [
    {
     "data": {
      "text/plain": [
       "array([[ 1,  2],\n",
       "       [ 3,  4],\n",
       "       [ 5,  6],\n",
       "       [ 7,  8],\n",
       "       [ 9, 10]])"
      ]
     },
     "execution_count": 129,
     "metadata": {},
     "output_type": "execute_result"
    }
   ],
   "source": [
    "np.arange(1,11).reshape(5,2) # converted 5 rows 2 columns"
   ]
  },
  {
   "cell_type": "code",
   "execution_count": 130,
   "id": "b8fb316e-2beb-4805-8328-cfc8daee6f54",
   "metadata": {},
   "outputs": [
    {
     "data": {
      "text/plain": [
       "array([[ 1,  2,  3,  4,  5],\n",
       "       [ 6,  7,  8,  9, 10]])"
      ]
     },
     "execution_count": 130,
     "metadata": {},
     "output_type": "execute_result"
    }
   ],
   "source": [
    "np.arange(1,11).reshape(2,5)"
   ]
  },
  {
   "cell_type": "code",
   "execution_count": 131,
   "id": "62203b75-dcba-417a-aecc-1c015b1401e9",
   "metadata": {},
   "outputs": [
    {
     "data": {
      "text/plain": [
       "array([[ 1,  2,  3,  4],\n",
       "       [ 5,  6,  7,  8],\n",
       "       [ 9, 10, 11, 12]])"
      ]
     },
     "execution_count": 131,
     "metadata": {},
     "output_type": "execute_result"
    }
   ],
   "source": [
    "np.arange(1,13).reshape(3,4)"
   ]
  },
  {
   "cell_type": "markdown",
   "id": "036d7865-4d34-4e40-8bb0-e980ebe50714",
   "metadata": {},
   "source": [
    "# one and zeros"
   ]
  },
  {
   "cell_type": "code",
   "execution_count": 132,
   "id": "7531d4e5-a21f-4f29-a018-3795f106d5c7",
   "metadata": {},
   "outputs": [
    {
     "data": {
      "text/plain": [
       "array([[1., 1., 1., 1.],\n",
       "       [1., 1., 1., 1.],\n",
       "       [1., 1., 1., 1.]])"
      ]
     },
     "execution_count": 132,
     "metadata": {},
     "output_type": "execute_result"
    }
   ],
   "source": [
    "np.ones((3,4))"
   ]
  },
  {
   "cell_type": "code",
   "execution_count": 133,
   "id": "8d7af11f-d6f7-40a4-8d49-593fb95d75ee",
   "metadata": {},
   "outputs": [
    {
     "data": {
      "text/plain": [
       "array([[1, 1, 1, 1],\n",
       "       [1, 1, 1, 1],\n",
       "       [1, 1, 1, 1]])"
      ]
     },
     "execution_count": 133,
     "metadata": {},
     "output_type": "execute_result"
    }
   ],
   "source": [
    "np.ones((3,4), dtype = int)"
   ]
  },
  {
   "cell_type": "code",
   "execution_count": 134,
   "id": "c73627c2-bf2a-4303-b2d8-8f06b3c12bc0",
   "metadata": {},
   "outputs": [
    {
     "data": {
      "text/plain": [
       "array([[0., 0., 0., 0.],\n",
       "       [0., 0., 0., 0.],\n",
       "       [0., 0., 0., 0.]])"
      ]
     },
     "execution_count": 134,
     "metadata": {},
     "output_type": "execute_result"
    }
   ],
   "source": [
    "np.zeros((3,4))"
   ]
  },
  {
   "cell_type": "code",
   "execution_count": 135,
   "id": "ebc91856-e66c-4121-9de3-d4e6ea11e00f",
   "metadata": {},
   "outputs": [
    {
     "data": {
      "text/plain": [
       "array([[0, 0, 0, 0],\n",
       "       [0, 0, 0, 0],\n",
       "       [0, 0, 0, 0]])"
      ]
     },
     "execution_count": 135,
     "metadata": {},
     "output_type": "execute_result"
    }
   ],
   "source": [
    "np.zeros((3,4),dtype = int)"
   ]
  },
  {
   "cell_type": "markdown",
   "id": "3f9084d4-f4a2-40d8-8b70-f2059a0b3e7a",
   "metadata": {},
   "source": [
    "# random"
   ]
  },
  {
   "cell_type": "code",
   "execution_count": 136,
   "id": "9c7af1b6-fe1b-4411-9bb7-c587bfe561a4",
   "metadata": {},
   "outputs": [
    {
     "name": "stdout",
     "output_type": "stream",
     "text": [
      "[[-0.53709977  0.46702436 -1.46452617]\n",
      " [ 1.67458724 -1.46482707  1.4773766 ]]\n"
     ]
    }
   ],
   "source": [
    "arr = np.random.randn(2, 3)\n",
    "print(arr)"
   ]
  },
  {
   "cell_type": "code",
   "execution_count": 137,
   "id": "52c64bcf-401b-4800-af43-2f9a9bc9adad",
   "metadata": {},
   "outputs": [
    {
     "data": {
      "text/plain": [
       "array([[0.54110929, 0.75775412],\n",
       "       [0.78583849, 0.55055795],\n",
       "       [0.78404366, 0.31220647]])"
      ]
     },
     "execution_count": 137,
     "metadata": {},
     "output_type": "execute_result"
    }
   ],
   "source": [
    "np.random.random((3,2))"
   ]
  },
  {
   "cell_type": "code",
   "execution_count": 138,
   "id": "d039e9e0-e7a0-4006-a10b-96a06ced01ef",
   "metadata": {},
   "outputs": [
    {
     "data": {
      "text/plain": [
       "array([[8, 3, 1],\n",
       "       [9, 5, 5]], dtype=int32)"
      ]
     },
     "execution_count": 138,
     "metadata": {},
     "output_type": "execute_result"
    }
   ],
   "source": [
    "np.random.randint(1, 10,(2, 3))"
   ]
  },
  {
   "cell_type": "code",
   "execution_count": 139,
   "id": "1f001a16-65fd-4027-bdc4-e40799d146a7",
   "metadata": {},
   "outputs": [
    {
     "data": {
      "text/plain": [
       "array([0.00216564, 0.08347623, 0.82336302, 0.43801474, 0.26359293])"
      ]
     },
     "execution_count": 139,
     "metadata": {},
     "output_type": "execute_result"
    }
   ],
   "source": [
    "np.random.rand(5)"
   ]
  },
  {
   "cell_type": "code",
   "execution_count": 140,
   "id": "22177337-d9ae-42b7-8b4c-8036f0ad8076",
   "metadata": {},
   "outputs": [
    {
     "data": {
      "text/plain": [
       "array([[0.68492552, 0.37167855, 0.05835584, 0.94610914],\n",
       "       [0.30967391, 0.04684251, 0.17762428, 0.69353597]])"
      ]
     },
     "execution_count": 140,
     "metadata": {},
     "output_type": "execute_result"
    }
   ],
   "source": [
    "np.random.rand(2,4)"
   ]
  },
  {
   "cell_type": "code",
   "execution_count": 141,
   "id": "ddf54aab-3e14-411b-8758-d89c136e449c",
   "metadata": {},
   "outputs": [
    {
     "data": {
      "text/plain": [
       "3"
      ]
     },
     "execution_count": 141,
     "metadata": {},
     "output_type": "execute_result"
    }
   ],
   "source": [
    "np.random.randint(2,4)"
   ]
  },
  {
   "cell_type": "code",
   "execution_count": 142,
   "id": "663e9a95-34c4-44d8-9b7f-3d829451df84",
   "metadata": {},
   "outputs": [
    {
     "data": {
      "text/plain": [
       "17"
      ]
     },
     "execution_count": 142,
     "metadata": {},
     "output_type": "execute_result"
    }
   ],
   "source": [
    "np.random.randint(2,29) # 2nd argument is exlusive"
   ]
  },
  {
   "cell_type": "code",
   "execution_count": 143,
   "id": "d3fd1a96-847a-42b1-9792-33837838084c",
   "metadata": {},
   "outputs": [
    {
     "data": {
      "text/plain": [
       "0"
      ]
     },
     "execution_count": 143,
     "metadata": {},
     "output_type": "execute_result"
    }
   ],
   "source": [
    "np.random.randint(0,1)"
   ]
  },
  {
   "cell_type": "markdown",
   "id": "95c68340-272b-44eb-9af2-58b218477a57",
   "metadata": {},
   "source": [
    "# linspace "
   ]
  },
  {
   "cell_type": "markdown",
   "id": "c81ccdb3-44b0-49bb-9548-de5fde32feed",
   "metadata": {},
   "source": [
    "# '''It is also called as Linearly space , Linearly separable,in a given range at equal distance it creates points.'''"
   ]
  },
  {
   "cell_type": "code",
   "execution_count": 144,
   "id": "6a8d9458-5fb9-47c1-9247-88a6231b26aa",
   "metadata": {},
   "outputs": [
    {
     "data": {
      "text/plain": [
       "array([-10.        ,  -9.3877551 ,  -8.7755102 ,  -8.16326531,\n",
       "        -7.55102041,  -6.93877551,  -6.32653061,  -5.71428571,\n",
       "        -5.10204082,  -4.48979592,  -3.87755102,  -3.26530612,\n",
       "        -2.65306122,  -2.04081633,  -1.42857143,  -0.81632653,\n",
       "        -0.20408163,   0.40816327,   1.02040816,   1.63265306,\n",
       "         2.24489796,   2.85714286,   3.46938776,   4.08163265,\n",
       "         4.69387755,   5.30612245,   5.91836735,   6.53061224,\n",
       "         7.14285714,   7.75510204,   8.36734694,   8.97959184,\n",
       "         9.59183673,  10.20408163,  10.81632653,  11.42857143,\n",
       "        12.04081633,  12.65306122,  13.26530612,  13.87755102,\n",
       "        14.48979592,  15.10204082,  15.71428571,  16.32653061,\n",
       "        16.93877551,  17.55102041,  18.16326531,  18.7755102 ,\n",
       "        19.3877551 ,  20.        ])"
      ]
     },
     "execution_count": 144,
     "metadata": {},
     "output_type": "execute_result"
    }
   ],
   "source": [
    "np.linspace(-10,20,50) #here : lower range ,upper rang , number of items to "
   ]
  },
  {
   "cell_type": "code",
   "execution_count": 145,
   "id": "7044a856-7ee6-4f83-bae8-1e4b4a85361d",
   "metadata": {},
   "outputs": [
    {
     "data": {
      "text/plain": [
       "array([-10.,   0.,  10.,  20.])"
      ]
     },
     "execution_count": 145,
     "metadata": {},
     "output_type": "execute_result"
    }
   ],
   "source": [
    "np.linspace(-10,20,4)"
   ]
  },
  {
   "cell_type": "code",
   "execution_count": 146,
   "id": "59695a5c-f9ea-4f03-8574-1ec099d33577",
   "metadata": {},
   "outputs": [
    {
     "data": {
      "text/plain": [
       "array([-2. ,  0.8,  3.6,  6.4,  9.2, 12. ])"
      ]
     },
     "execution_count": 146,
     "metadata": {},
     "output_type": "execute_result"
    }
   ],
   "source": [
    "np.linspace(-2,12,6)"
   ]
  },
  {
   "cell_type": "code",
   "execution_count": 147,
   "id": "5a07b797-c724-4631-8d8e-8c60cdd7cf4d",
   "metadata": {},
   "outputs": [
    {
     "data": {
      "text/plain": [
       "array([-2. ,  0.8,  3.6,  6.4,  9.2, 12. ])"
      ]
     },
     "execution_count": 147,
     "metadata": {},
     "output_type": "execute_result"
    }
   ],
   "source": [
    "np.linspace(-2,12,6)"
   ]
  },
  {
   "cell_type": "markdown",
   "id": "67e59c9b-2d12-4376-bced-cb3682aa1d0f",
   "metadata": {},
   "source": [
    "# identity matrix"
   ]
  },
  {
   "cell_type": "code",
   "execution_count": 148,
   "id": "492a9d7a-141e-488f-9a24-614694f48142",
   "metadata": {},
   "outputs": [
    {
     "data": {
      "text/plain": [
       "array([[1., 0., 0., 0., 0., 0., 0., 0., 0., 0.],\n",
       "       [0., 1., 0., 0., 0., 0., 0., 0., 0., 0.],\n",
       "       [0., 0., 1., 0., 0., 0., 0., 0., 0., 0.],\n",
       "       [0., 0., 0., 1., 0., 0., 0., 0., 0., 0.],\n",
       "       [0., 0., 0., 0., 1., 0., 0., 0., 0., 0.],\n",
       "       [0., 0., 0., 0., 0., 1., 0., 0., 0., 0.],\n",
       "       [0., 0., 0., 0., 0., 0., 1., 0., 0., 0.],\n",
       "       [0., 0., 0., 0., 0., 0., 0., 1., 0., 0.],\n",
       "       [0., 0., 0., 0., 0., 0., 0., 0., 1., 0.],\n",
       "       [0., 0., 0., 0., 0., 0., 0., 0., 0., 1.]])"
      ]
     },
     "execution_count": 148,
     "metadata": {},
     "output_type": "execute_result"
    }
   ],
   "source": [
    "# creating the identity matrix\n",
    "\n",
    "np.identity(10)"
   ]
  },
  {
   "cell_type": "code",
   "execution_count": 149,
   "id": "18f32799-ded3-480e-a465-86f4bb2861be",
   "metadata": {},
   "outputs": [
    {
     "data": {
      "text/plain": [
       "array([[1., 0., 0.],\n",
       "       [0., 1., 0.],\n",
       "       [0., 0., 1.]])"
      ]
     },
     "execution_count": 149,
     "metadata": {},
     "output_type": "execute_result"
    }
   ],
   "source": [
    "np.identity(3)"
   ]
  },
  {
   "cell_type": "code",
   "execution_count": 150,
   "id": "7c464303-7695-43c8-9aaa-961dfc2becd6",
   "metadata": {},
   "outputs": [
    {
     "data": {
      "text/plain": [
       "array([[1., 0.],\n",
       "       [0., 1.]])"
      ]
     },
     "execution_count": 150,
     "metadata": {},
     "output_type": "execute_result"
    }
   ],
   "source": [
    "np.identity(2)"
   ]
  },
  {
   "cell_type": "code",
   "execution_count": 151,
   "id": "1056acd7-66b5-4057-8ddd-26e1969e382e",
   "metadata": {},
   "outputs": [
    {
     "data": {
      "text/plain": [
       "array([[1., 0., 0., 0., 0., 0.],\n",
       "       [0., 1., 0., 0., 0., 0.],\n",
       "       [0., 0., 1., 0., 0., 0.],\n",
       "       [0., 0., 0., 1., 0., 0.],\n",
       "       [0., 0., 0., 0., 1., 0.],\n",
       "       [0., 0., 0., 0., 0., 1.]])"
      ]
     },
     "execution_count": 151,
     "metadata": {},
     "output_type": "execute_result"
    }
   ],
   "source": [
    "np.identity(6)"
   ]
  },
  {
   "cell_type": "markdown",
   "id": "e0191279-4483-4abf-8ed9-bd94842f5566",
   "metadata": {},
   "source": [
    "# Array Attribute"
   ]
  },
  {
   "cell_type": "code",
   "execution_count": 152,
   "id": "a1e8f651-74a8-4c6c-b1ef-c6dc892e2c63",
   "metadata": {},
   "outputs": [
    {
     "data": {
      "text/plain": [
       "array([0, 1, 2, 3, 4, 5, 6, 7, 8, 9])"
      ]
     },
     "execution_count": 152,
     "metadata": {},
     "output_type": "execute_result"
    }
   ],
   "source": [
    "a1 = np.arange(10) # 1D\n",
    "a1"
   ]
  },
  {
   "cell_type": "code",
   "execution_count": 153,
   "id": "5a382893-4d7d-482a-a97b-29e194b86909",
   "metadata": {},
   "outputs": [
    {
     "data": {
      "text/plain": [
       "array([[ 0.,  1.,  2.,  3.],\n",
       "       [ 4.,  5.,  6.,  7.],\n",
       "       [ 8.,  9., 10., 11.]])"
      ]
     },
     "execution_count": 153,
     "metadata": {},
     "output_type": "execute_result"
    }
   ],
   "source": [
    "a2 = np.arange(12, dtype = float).reshape(3,4)  # Matrix\n",
    "a2"
   ]
  },
  {
   "cell_type": "code",
   "execution_count": 154,
   "id": "79bd99fb-b0ba-4a50-9c42-6bb9e270dba3",
   "metadata": {},
   "outputs": [
    {
     "data": {
      "text/plain": [
       "array([[[0, 1],\n",
       "        [2, 3]],\n",
       "\n",
       "       [[4, 5],\n",
       "        [6, 7]]])"
      ]
     },
     "execution_count": 154,
     "metadata": {},
     "output_type": "execute_result"
    }
   ],
   "source": [
    "a3 = np.arange(8).reshape(2,2,2)  # 3D  --> Tensor\n",
    "a3"
   ]
  },
  {
   "cell_type": "markdown",
   "id": "78fac99f-bba3-4afb-b1e4-d2f5661d7835",
   "metadata": {},
   "source": [
    "# ndim"
   ]
  },
  {
   "cell_type": "code",
   "execution_count": 155,
   "id": "caf31b35-9e9a-4adb-abe2-0532c09941fa",
   "metadata": {},
   "outputs": [
    {
     "data": {
      "text/plain": [
       "1"
      ]
     },
     "execution_count": 155,
     "metadata": {},
     "output_type": "execute_result"
    }
   ],
   "source": [
    "a1.ndim   # 1 dimension array"
   ]
  },
  {
   "cell_type": "code",
   "execution_count": 156,
   "id": "e1b2e8c1-0d9b-4373-8d3f-403d8a5c2b7c",
   "metadata": {},
   "outputs": [
    {
     "data": {
      "text/plain": [
       "2"
      ]
     },
     "execution_count": 156,
     "metadata": {},
     "output_type": "execute_result"
    }
   ],
   "source": [
    "a2.ndim  # 2 dimension array"
   ]
  },
  {
   "cell_type": "code",
   "execution_count": 157,
   "id": "a78eaf96-9af8-4aba-b84a-a38382d7bd0f",
   "metadata": {},
   "outputs": [
    {
     "data": {
      "text/plain": [
       "3"
      ]
     },
     "execution_count": 157,
     "metadata": {},
     "output_type": "execute_result"
    }
   ],
   "source": [
    "a3.ndim  # 3 dimension array"
   ]
  },
  {
   "cell_type": "markdown",
   "id": "29885008-d220-4ae2-a12d-4710dfcfe42c",
   "metadata": {},
   "source": [
    "# shape"
   ]
  },
  {
   "cell_type": "code",
   "execution_count": 158,
   "id": "4864da86-4fb5-4557-91b0-43100eeec697",
   "metadata": {},
   "outputs": [
    {
     "name": "stdout",
     "output_type": "stream",
     "text": [
      "(3,)\n"
     ]
    }
   ],
   "source": [
    "arr = np.array([1, 2, 3])\n",
    "print(arr.shape) "
   ]
  },
  {
   "cell_type": "code",
   "execution_count": 159,
   "id": "6293f466-8ff6-4123-9260-f1f2ed03bf40",
   "metadata": {},
   "outputs": [
    {
     "name": "stdout",
     "output_type": "stream",
     "text": [
      "(2, 2)\n"
     ]
    }
   ],
   "source": [
    "arr = np.array([[1, 2], [3, 4]])\n",
    "print(arr.shape)"
   ]
  },
  {
   "cell_type": "code",
   "execution_count": 160,
   "id": "a6aa99cf-67c5-49c9-9f92-e01394a5f847",
   "metadata": {},
   "outputs": [
    {
     "name": "stdout",
     "output_type": "stream",
     "text": [
      "(2, 2, 2)\n"
     ]
    }
   ],
   "source": [
    "arr = np.array([[[1, 2], [3, 4]], [[5, 6], [7, 8]]])\n",
    "print(arr.shape)"
   ]
  },
  {
   "cell_type": "markdown",
   "id": "42128dcc-adcc-40b5-abb0-e877a5652743",
   "metadata": {},
   "source": [
    "# size\n",
    "give number of atom"
   ]
  },
  {
   "cell_type": "code",
   "execution_count": 161,
   "id": "da1d6575-600b-48cb-8166-d1718bd697be",
   "metadata": {},
   "outputs": [
    {
     "name": "stdout",
     "output_type": "stream",
     "text": [
      "4\n"
     ]
    }
   ],
   "source": [
    "import numpy as np\n",
    "arr = np.array([1, 2, 3, 4])\n",
    "print(arr.size)  \n"
   ]
  },
  {
   "cell_type": "code",
   "execution_count": 162,
   "id": "dae32d30-bd93-4ff5-975f-c26bf2b703fd",
   "metadata": {},
   "outputs": [
    {
     "name": "stdout",
     "output_type": "stream",
     "text": [
      "4\n"
     ]
    }
   ],
   "source": [
    "arr = np.array([[1, 2], [3, 4]])\n",
    "print(arr.size)"
   ]
  },
  {
   "cell_type": "code",
   "execution_count": 163,
   "id": "3b5885bf-5080-42d0-bf84-850d60a3cc6e",
   "metadata": {},
   "outputs": [
    {
     "name": "stdout",
     "output_type": "stream",
     "text": [
      "8\n"
     ]
    }
   ],
   "source": [
    "arr = np.array([[[1,2],[3,4]], [[5,6],[7,8]]])\n",
    "print(arr.size)"
   ]
  },
  {
   "cell_type": "markdown",
   "id": "41ec01db",
   "metadata": {},
   "source": [
    "# item size"
   ]
  },
  {
   "cell_type": "markdown",
   "id": "36320e79-65b8-4f51-b8dc-7cf25d36fa6d",
   "metadata": {},
   "source": [
    "# memory occupied by the item"
   ]
  },
  {
   "cell_type": "code",
   "execution_count": 164,
   "id": "177dee13-a11a-4e0b-be39-df6436363674",
   "metadata": {},
   "outputs": [
    {
     "data": {
      "text/plain": [
       "array([0, 1, 2, 3, 4, 5, 6, 7, 8, 9])"
      ]
     },
     "execution_count": 164,
     "metadata": {},
     "output_type": "execute_result"
    }
   ],
   "source": [
    "a1"
   ]
  },
  {
   "cell_type": "code",
   "execution_count": 165,
   "id": "03c864f5-f09f-4ee7-85a5-6137abd76f27",
   "metadata": {},
   "outputs": [
    {
     "data": {
      "text/plain": [
       "8"
      ]
     },
     "execution_count": 165,
     "metadata": {},
     "output_type": "execute_result"
    }
   ],
   "source": [
    "a1.itemsize # bytes"
   ]
  },
  {
   "cell_type": "code",
   "execution_count": 166,
   "id": "68022d24-43c2-4878-949b-f31b9eff28f3",
   "metadata": {},
   "outputs": [
    {
     "data": {
      "text/plain": [
       "8"
      ]
     },
     "execution_count": 166,
     "metadata": {},
     "output_type": "execute_result"
    }
   ],
   "source": [
    "a1.itemsize #bytes"
   ]
  },
  {
   "cell_type": "code",
   "execution_count": 167,
   "id": "44991f05-2e57-4f5f-aab1-3228e1404f72",
   "metadata": {},
   "outputs": [
    {
     "data": {
      "text/plain": [
       "array([[ 0.,  1.,  2.,  3.],\n",
       "       [ 4.,  5.,  6.,  7.],\n",
       "       [ 8.,  9., 10., 11.]])"
      ]
     },
     "execution_count": 167,
     "metadata": {},
     "output_type": "execute_result"
    }
   ],
   "source": [
    "a2"
   ]
  },
  {
   "cell_type": "code",
   "execution_count": 168,
   "id": "ac5b7bd1-70b8-4519-9cef-24516ee61ac4",
   "metadata": {},
   "outputs": [
    {
     "data": {
      "text/plain": [
       "8"
      ]
     },
     "execution_count": 168,
     "metadata": {},
     "output_type": "execute_result"
    }
   ],
   "source": [
    "a2.itemsize"
   ]
  },
  {
   "cell_type": "code",
   "execution_count": 169,
   "id": "f673764f-a6e4-4d32-bd63-f9e7d34ebc57",
   "metadata": {},
   "outputs": [
    {
     "data": {
      "text/plain": [
       "array([[[0, 1],\n",
       "        [2, 3]],\n",
       "\n",
       "       [[4, 5],\n",
       "        [6, 7]]])"
      ]
     },
     "execution_count": 169,
     "metadata": {},
     "output_type": "execute_result"
    }
   ],
   "source": [
    "a3"
   ]
  },
  {
   "cell_type": "code",
   "execution_count": 170,
   "id": "eddbdbff-7cf6-44c7-a8a9-8f12974d5722",
   "metadata": {},
   "outputs": [
    {
     "data": {
      "text/plain": [
       "8"
      ]
     },
     "execution_count": 170,
     "metadata": {},
     "output_type": "execute_result"
    }
   ],
   "source": [
    "a3.itemsize"
   ]
  },
  {
   "cell_type": "markdown",
   "id": "16f0ab05-890c-4184-b380-c4a4028cbdc3",
   "metadata": {},
   "source": [
    "# dtype"
   ]
  },
  {
   "cell_type": "markdown",
   "id": "5c237179-7eac-49ba-b973-b630a9145d44",
   "metadata": {},
   "source": [
    "gives data type of item"
   ]
  },
  {
   "cell_type": "code",
   "execution_count": 171,
   "id": "2a4cf14b-a775-44e3-9478-cecdf91515b9",
   "metadata": {},
   "outputs": [
    {
     "name": "stdout",
     "output_type": "stream",
     "text": [
      "int64\n",
      "float64\n",
      "int64\n"
     ]
    }
   ],
   "source": [
    "print(a1.dtype)\n",
    "print(a2.dtype)\n",
    "print(a3.dtype)\n"
   ]
  },
  {
   "cell_type": "markdown",
   "id": "2fc9dbc7-15d5-4fd8-9a7f-43340a4f3627",
   "metadata": {},
   "source": [
    "# Changing data type"
   ]
  },
  {
   "cell_type": "code",
   "execution_count": 172,
   "id": "a3c2793b-dceb-4088-b5e8-d230728812ee",
   "metadata": {},
   "outputs": [
    {
     "name": "stdout",
     "output_type": "stream",
     "text": [
      "[33.  22.   2.5]\n"
     ]
    }
   ],
   "source": [
    "#astype\n",
    "\n",
    "x = np.array([33,22,2.5])\n",
    "print(x)"
   ]
  },
  {
   "cell_type": "code",
   "execution_count": 173,
   "id": "a9c79b21-646e-4f94-bb6d-a9ab916a1c26",
   "metadata": {},
   "outputs": [
    {
     "data": {
      "text/plain": [
       "array([33, 22,  2])"
      ]
     },
     "execution_count": 173,
     "metadata": {},
     "output_type": "execute_result"
    }
   ],
   "source": [
    "x.astype(int)"
   ]
  },
  {
   "cell_type": "markdown",
   "id": "9847f2f4-c615-4d63-8588-6673ff139a30",
   "metadata": {},
   "source": [
    "# Array oprations"
   ]
  },
  {
   "cell_type": "code",
   "execution_count": 174,
   "id": "f8a4cbb4-cd44-48cc-b369-236700f4a69e",
   "metadata": {},
   "outputs": [],
   "source": [
    "z1 = np.arange(12).reshape(3,4)\n",
    "z2 = np.arange(12,24).reshape(3,4)"
   ]
  },
  {
   "cell_type": "code",
   "execution_count": 175,
   "id": "72cea5ce-b6fb-478c-b6b1-1d0b17d09037",
   "metadata": {},
   "outputs": [
    {
     "data": {
      "text/plain": [
       "array([[ 0,  1,  2,  3],\n",
       "       [ 4,  5,  6,  7],\n",
       "       [ 8,  9, 10, 11]])"
      ]
     },
     "execution_count": 175,
     "metadata": {},
     "output_type": "execute_result"
    }
   ],
   "source": [
    "z1"
   ]
  },
  {
   "cell_type": "code",
   "execution_count": 176,
   "id": "810ca03a-8444-4dcb-89e2-802c7a2f1909",
   "metadata": {},
   "outputs": [
    {
     "data": {
      "text/plain": [
       "array([[12, 13, 14, 15],\n",
       "       [16, 17, 18, 19],\n",
       "       [20, 21, 22, 23]])"
      ]
     },
     "execution_count": 176,
     "metadata": {},
     "output_type": "execute_result"
    }
   ],
   "source": [
    "z2 "
   ]
  },
  {
   "cell_type": "markdown",
   "id": "1fabae5f-029e-42f7-afcc-fa613a30b4b4",
   "metadata": {},
   "source": [
    "# Scalar opration"
   ]
  },
  {
   "cell_type": "markdown",
   "id": "9d0b913f-56ab-4aa9-8700-6af0edb2b68f",
   "metadata": {},
   "source": [
    "Scalar oprations on numpy arrays include performing addition or substraction, or manupulation on each element of a numpy array"
   ]
  },
  {
   "cell_type": "code",
   "execution_count": 177,
   "id": "8ee475ba",
   "metadata": {},
   "outputs": [
    {
     "data": {
      "text/plain": [
       "array([[ 2,  3,  4,  5],\n",
       "       [ 6,  7,  8,  9],\n",
       "       [10, 11, 12, 13]])"
      ]
     },
     "execution_count": 177,
     "metadata": {},
     "output_type": "execute_result"
    }
   ],
   "source": [
    "# arithmetic\n",
    "z1 + 2      # it addition 2 to each element of z1\n"
   ]
  },
  {
   "cell_type": "code",
   "execution_count": 178,
   "id": "3b2a1cf6",
   "metadata": {},
   "outputs": [
    {
     "data": {
      "text/plain": [
       "array([[-2, -1,  0,  1],\n",
       "       [ 2,  3,  4,  5],\n",
       "       [ 6,  7,  8,  9]])"
      ]
     },
     "execution_count": 178,
     "metadata": {},
     "output_type": "execute_result"
    }
   ],
   "source": [
    "# multiplication\n",
    "z1 - 2   # it substract 2 from each eement of z1"
   ]
  },
  {
   "cell_type": "code",
   "execution_count": 179,
   "id": "17936716",
   "metadata": {},
   "outputs": [
    {
     "data": {
      "text/plain": [
       "array([[ 0,  2,  4,  6],\n",
       "       [ 8, 10, 12, 14],\n",
       "       [16, 18, 20, 22]])"
      ]
     },
     "execution_count": 179,
     "metadata": {},
     "output_type": "execute_result"
    }
   ],
   "source": [
    "# multiplication\n",
    "z1 * 2  # it multiply each element of z1 by 2"
   ]
  },
  {
   "cell_type": "code",
   "execution_count": 180,
   "id": "c4d33664",
   "metadata": {},
   "outputs": [
    {
     "data": {
      "text/plain": [
       "array([[  0,   1,   4,   9],\n",
       "       [ 16,  25,  36,  49],\n",
       "       [ 64,  81, 100, 121]])"
      ]
     },
     "execution_count": 180,
     "metadata": {},
     "output_type": "execute_result"
    }
   ],
   "source": [
    "# power\n",
    "z1 ** 2 # it raise each element of z1 to the power of 2"
   ]
  },
  {
   "cell_type": "code",
   "execution_count": 181,
   "id": "4825cd85",
   "metadata": {},
   "outputs": [
    {
     "data": {
      "text/plain": [
       "array([[0, 1, 0, 1],\n",
       "       [0, 1, 0, 1],\n",
       "       [0, 1, 0, 1]])"
      ]
     },
     "execution_count": 181,
     "metadata": {},
     "output_type": "execute_result"
    }
   ],
   "source": [
    "# modulo\n",
    "z1 % 2  # it gives the remainder of each elment of z1 when divided by 2"
   ]
  },
  {
   "cell_type": "markdown",
   "id": "7bf5128c",
   "metadata": {},
   "source": [
    "# relational Operators"
   ]
  },
  {
   "cell_type": "markdown",
   "id": "62ebb6b9",
   "metadata": {},
   "source": [
    "`matchthe relational oprators are also known as comparison oprators the main function\n",
    "is to return either a true or false on the value of operands"
   ]
  },
  {
   "cell_type": "code",
   "execution_count": 182,
   "id": "abcbd574",
   "metadata": {},
   "outputs": [
    {
     "data": {
      "text/plain": [
       "array([[12, 13, 14, 15],\n",
       "       [16, 17, 18, 19],\n",
       "       [20, 21, 22, 23]])"
      ]
     },
     "execution_count": 182,
     "metadata": {},
     "output_type": "execute_result"
    }
   ],
   "source": [
    "z2"
   ]
  },
  {
   "cell_type": "code",
   "execution_count": 183,
   "id": "4f2c76b7",
   "metadata": {},
   "outputs": [
    {
     "data": {
      "text/plain": [
       "array([[ True,  True,  True,  True],\n",
       "       [ True,  True,  True,  True],\n",
       "       [ True,  True,  True,  True]])"
      ]
     },
     "execution_count": 183,
     "metadata": {},
     "output_type": "execute_result"
    }
   ],
   "source": [
    "z2 > 2 # if 2 is greater than each element of z2 it returns True or False"
   ]
  },
  {
   "cell_type": "code",
   "execution_count": 184,
   "id": "4e43f932",
   "metadata": {},
   "outputs": [
    {
     "data": {
      "text/plain": [
       "array([[False, False, False, False],\n",
       "       [False, False, False, False],\n",
       "       [False,  True,  True,  True]])"
      ]
     },
     "execution_count": 184,
     "metadata": {},
     "output_type": "execute_result"
    }
   ],
   "source": [
    "z2 >20 "
   ]
  },
  {
   "cell_type": "markdown",
   "id": "75bb269e",
   "metadata": {},
   "source": [
    "# vector opration"
   ]
  },
  {
   "cell_type": "markdown",
   "id": "4e4cb020",
   "metadata": {},
   "source": [
    "We can apply on both numpy arraym"
   ]
  },
  {
   "cell_type": "code",
   "execution_count": 185,
   "id": "f1fbab59",
   "metadata": {},
   "outputs": [
    {
     "data": {
      "text/plain": [
       "array([[ 0,  1,  2,  3],\n",
       "       [ 4,  5,  6,  7],\n",
       "       [ 8,  9, 10, 11]])"
      ]
     },
     "execution_count": 185,
     "metadata": {},
     "output_type": "execute_result"
    }
   ],
   "source": [
    "z1"
   ]
  },
  {
   "cell_type": "code",
   "execution_count": 186,
   "id": "fb50e9c1",
   "metadata": {},
   "outputs": [
    {
     "data": {
      "text/plain": [
       "array([[12, 13, 14, 15],\n",
       "       [16, 17, 18, 19],\n",
       "       [20, 21, 22, 23]])"
      ]
     },
     "execution_count": 186,
     "metadata": {},
     "output_type": "execute_result"
    }
   ],
   "source": [
    "z2"
   ]
  },
  {
   "cell_type": "code",
   "execution_count": 187,
   "id": "817b4f1f",
   "metadata": {},
   "outputs": [
    {
     "data": {
      "text/plain": [
       "array([[12, 14, 16, 18],\n",
       "       [20, 22, 24, 26],\n",
       "       [28, 30, 32, 34]])"
      ]
     },
     "execution_count": 187,
     "metadata": {},
     "output_type": "execute_result"
    }
   ],
   "source": [
    "# Arthematic\n",
    "z1 + z2  # it add each element of z1 with each element of z2"
   ]
  },
  {
   "cell_type": "code",
   "execution_count": 188,
   "id": "825727cb",
   "metadata": {},
   "outputs": [
    {
     "data": {
      "text/plain": [
       "array([[  0,  13,  28,  45],\n",
       "       [ 64,  85, 108, 133],\n",
       "       [160, 189, 220, 253]])"
      ]
     },
     "execution_count": 188,
     "metadata": {},
     "output_type": "execute_result"
    }
   ],
   "source": [
    "z1 * z2  # it multiply each element of z1 with each element of z2"
   ]
  },
  {
   "cell_type": "code",
   "execution_count": 189,
   "id": "9a6ca1f6",
   "metadata": {},
   "outputs": [
    {
     "data": {
      "text/plain": [
       "array([[-12, -12, -12, -12],\n",
       "       [-12, -12, -12, -12],\n",
       "       [-12, -12, -12, -12]])"
      ]
     },
     "execution_count": 189,
     "metadata": {},
     "output_type": "execute_result"
    }
   ],
   "source": [
    "z1 - z2 # it subtract each element of z2 from each element of z1"
   ]
  },
  {
   "cell_type": "code",
   "execution_count": 190,
   "id": "c384a1bb",
   "metadata": {},
   "outputs": [
    {
     "data": {
      "text/plain": [
       "array([[0.        , 0.07692308, 0.14285714, 0.2       ],\n",
       "       [0.25      , 0.29411765, 0.33333333, 0.36842105],\n",
       "       [0.4       , 0.42857143, 0.45454545, 0.47826087]])"
      ]
     },
     "execution_count": 190,
     "metadata": {},
     "output_type": "execute_result"
    }
   ],
   "source": [
    "z1 / z2  # it divide each element of z1 by each element of z2"
   ]
  },
  {
   "cell_type": "markdown",
   "id": "19a8da72",
   "metadata": {},
   "source": [
    "# Array Functions"
   ]
  },
  {
   "cell_type": "code",
   "execution_count": 191,
   "id": "f11fdea5",
   "metadata": {},
   "outputs": [
    {
     "data": {
      "text/plain": [
       "array([[81.,  2., 78.],\n",
       "       [27., 86., 72.],\n",
       "       [65., 30.,  7.]])"
      ]
     },
     "execution_count": 191,
     "metadata": {},
     "output_type": "execute_result"
    }
   ],
   "source": [
    "k1 = np.random.random((3,3))\n",
    "k1= np.round(k1*100) # rounding the values to nearest integer\n",
    "k1 "
   ]
  },
  {
   "cell_type": "code",
   "execution_count": 192,
   "id": "93f9634d",
   "metadata": {},
   "outputs": [
    {
     "data": {
      "text/plain": [
       "np.float64(86.0)"
      ]
     },
     "execution_count": 192,
     "metadata": {},
     "output_type": "execute_result"
    }
   ],
   "source": [
    "# Max\n",
    "np.max(k1)"
   ]
  },
  {
   "cell_type": "code",
   "execution_count": 193,
   "id": "3065a9a1",
   "metadata": {},
   "outputs": [
    {
     "data": {
      "text/plain": [
       "np.float64(2.0)"
      ]
     },
     "execution_count": 193,
     "metadata": {},
     "output_type": "execute_result"
    }
   ],
   "source": [
    "# Min\n",
    "np.min(k1)\n"
   ]
  },
  {
   "cell_type": "code",
   "execution_count": null,
   "id": "ab77e4bc",
   "metadata": {},
   "outputs": [
    {
     "data": {
      "text/plain": [
       "np.float64(448.0)"
      ]
     },
     "execution_count": 194,
     "metadata": {},
     "output_type": "execute_result"
    }
   ],
   "source": [
    "np.sum(k1) "
   ]
  },
  {
   "cell_type": "code",
   "execution_count": 195,
   "id": "7fda3b29",
   "metadata": {},
   "outputs": [
    {
     "data": {
      "text/plain": [
       "np.float64(28836130377600.0)"
      ]
     },
     "execution_count": 195,
     "metadata": {},
     "output_type": "execute_result"
    }
   ],
   "source": [
    "# prodduct ----> multiplication\n",
    "np.prod(k1)  # it mulyiply each element of k1\n",
    "# it gives the product of all element of k1"
   ]
  },
  {
   "cell_type": "markdown",
   "id": "c083bcc9",
   "metadata": {},
   "source": [
    "In Numpy"
   ]
  },
  {
   "cell_type": "code",
   "execution_count": 196,
   "id": "d4a52b55",
   "metadata": {},
   "outputs": [
    {
     "data": {
      "text/plain": [
       "array([81., 86., 65.])"
      ]
     },
     "execution_count": 196,
     "metadata": {},
     "output_type": "execute_result"
    }
   ],
   "source": [
    "# if we want maximum of every row\n",
    "\n",
    "np.max(k1 , axis= 1) # it shows maximum of every rows"
   ]
  },
  {
   "cell_type": "code",
   "execution_count": 197,
   "id": "9125c15c",
   "metadata": {},
   "outputs": [
    {
     "data": {
      "text/plain": [
       "array([81., 86., 78.])"
      ]
     },
     "execution_count": 197,
     "metadata": {},
     "output_type": "execute_result"
    }
   ],
   "source": [
    "# maximum of every column\n",
    "np.max(k1, axis = 0) # it shows the maximum of every column"
   ]
  },
  {
   "cell_type": "code",
   "execution_count": 198,
   "id": "687f4c2a",
   "metadata": {},
   "outputs": [
    {
     "name": "stdout",
     "output_type": "stream",
     "text": [
      "[[48 90 67]\n",
      " [58 67 39]\n",
      " [80 70 57]]\n"
     ]
    }
   ],
   "source": [
    "k2 = np.array([[48,90,67],[58,67,39],[80,70,57]])\n",
    "print(k2)"
   ]
  },
  {
   "cell_type": "code",
   "execution_count": 199,
   "id": "30ddcd22",
   "metadata": {},
   "outputs": [
    {
     "data": {
      "text/plain": [
       "array([80, 90, 67])"
      ]
     },
     "execution_count": 199,
     "metadata": {},
     "output_type": "execute_result"
    }
   ],
   "source": [
    "np.max(k2, axis = 0)"
   ]
  },
  {
   "cell_type": "code",
   "execution_count": 200,
   "id": "1ee7b471",
   "metadata": {},
   "outputs": [
    {
     "data": {
      "text/plain": [
       "array([90, 67, 80])"
      ]
     },
     "execution_count": 200,
     "metadata": {},
     "output_type": "execute_result"
    }
   ],
   "source": [
    "np.max(k2, axis = 1)"
   ]
  },
  {
   "cell_type": "markdown",
   "id": "a1e6ef2a",
   "metadata": {},
   "source": [
    "statistics related"
   ]
  },
  {
   "cell_type": "code",
   "execution_count": 201,
   "id": "0c3e1889",
   "metadata": {},
   "outputs": [
    {
     "data": {
      "text/plain": [
       "array([[81.,  2., 78.],\n",
       "       [27., 86., 72.],\n",
       "       [65., 30.,  7.]])"
      ]
     },
     "execution_count": 201,
     "metadata": {},
     "output_type": "execute_result"
    }
   ],
   "source": [
    "# means\n",
    "k1"
   ]
  },
  {
   "cell_type": "code",
   "execution_count": 202,
   "id": "75f9a391",
   "metadata": {},
   "outputs": [
    {
     "data": {
      "text/plain": [
       "np.float64(49.77777777777778)"
      ]
     },
     "execution_count": 202,
     "metadata": {},
     "output_type": "execute_result"
    }
   ],
   "source": [
    "np.mean(k1) # it gives the mean oaf all elements of k1"
   ]
  },
  {
   "cell_type": "code",
   "execution_count": 203,
   "id": "a15953d1",
   "metadata": {},
   "outputs": [
    {
     "data": {
      "text/plain": [
       "array([57.66666667, 39.33333333, 52.33333333])"
      ]
     },
     "execution_count": 203,
     "metadata": {},
     "output_type": "execute_result"
    }
   ],
   "source": [
    "k1.mean(axis=0)  # firstly it do addition 3 number and then it divide by\n",
    "                 # 3 then it give the  answer that answer is mean of tht column\n",
    "\n"
   ]
  },
  {
   "cell_type": "code",
   "execution_count": 204,
   "id": "dd56905f",
   "metadata": {},
   "outputs": [
    {
     "data": {
      "text/plain": [
       "np.float64(65.0)"
      ]
     },
     "execution_count": 204,
     "metadata": {},
     "output_type": "execute_result"
    }
   ],
   "source": [
    "# median \n",
    "np.median(k1)   # it gives the median of all element of k1"
   ]
  },
  {
   "cell_type": "code",
   "execution_count": 205,
   "id": "83a248a3",
   "metadata": {},
   "outputs": [
    {
     "data": {
      "text/plain": [
       "array([[ 2., 78., 81.],\n",
       "       [27., 72., 86.],\n",
       "       [ 7., 30., 65.]])"
      ]
     },
     "execution_count": 205,
     "metadata": {},
     "output_type": "execute_result"
    }
   ],
   "source": [
    "np.sort(k1, axis=1) #it sort arry in row wise"
   ]
  },
  {
   "cell_type": "code",
   "execution_count": 206,
   "id": "ab3b4713",
   "metadata": {},
   "outputs": [
    {
     "data": {
      "text/plain": [
       "array([[27.,  2.,  7.],\n",
       "       [65., 30., 72.],\n",
       "       [81., 86., 78.]])"
      ]
     },
     "execution_count": 206,
     "metadata": {},
     "output_type": "execute_result"
    }
   ],
   "source": [
    "np.sort(k1, axis=0) # it sort array in column wise"
   ]
  },
  {
   "cell_type": "code",
   "execution_count": 207,
   "id": "b950e8f6",
   "metadata": {},
   "outputs": [
    {
     "data": {
      "text/plain": [
       "array([[81.,  2., 78.],\n",
       "       [27., 86., 72.],\n",
       "       [65., 30.,  7.]])"
      ]
     },
     "execution_count": 207,
     "metadata": {},
     "output_type": "execute_result"
    }
   ],
   "source": [
    "k1"
   ]
  },
  {
   "cell_type": "code",
   "execution_count": 208,
   "id": "e72f6783",
   "metadata": {},
   "outputs": [
    {
     "data": {
      "text/plain": [
       "np.float64(31.325452121514285)"
      ]
     },
     "execution_count": 208,
     "metadata": {},
     "output_type": "execute_result"
    }
   ],
   "source": [
    "# standard deviation\n",
    "np.std(k1) # it add  all the element of k1 and then it divide by number of element\n",
    "        # then it take the "
   ]
  },
  {
   "cell_type": "code",
   "execution_count": 209,
   "id": "e21316b7",
   "metadata": {},
   "outputs": [
    {
     "data": {
      "text/plain": [
       "array([22.64705034, 34.92213561, 32.14895886])"
      ]
     },
     "execution_count": 209,
     "metadata": {},
     "output_type": "execute_result"
    }
   ],
   "source": [
    "np.std(k1, axis =0)"
   ]
  },
  {
   "cell_type": "code",
   "execution_count": 210,
   "id": "6efcc622",
   "metadata": {},
   "outputs": [
    {
     "data": {
      "text/plain": [
       "np.float64(981.2839506172838)"
      ]
     },
     "execution_count": 210,
     "metadata": {},
     "output_type": "execute_result"
    }
   ],
   "source": [
    "# variance\n",
    "np.var(k1) "
   ]
  },
  {
   "cell_type": "markdown",
   "id": "039477b7",
   "metadata": {},
   "source": [
    "Trignometric functions"
   ]
  },
  {
   "cell_type": "code",
   "execution_count": 211,
   "id": "80d0680f",
   "metadata": {},
   "outputs": [
    {
     "data": {
      "text/plain": [
       "array([[-0.62988799,  0.90929743,  0.51397846],\n",
       "       [ 0.95637593, -0.92345845,  0.25382336],\n",
       "       [ 0.82682868, -0.98803162,  0.6569866 ]])"
      ]
     },
     "execution_count": 211,
     "metadata": {},
     "output_type": "execute_result"
    }
   ],
   "source": [
    "np.sin(k1)  # it give the sine of the each element of k1"
   ]
  },
  {
   "cell_type": "code",
   "execution_count": 212,
   "id": "a780cfde",
   "metadata": {},
   "outputs": [
    {
     "data": {
      "text/plain": [
       "array([[ 0.77668598, -0.41614684, -0.85780309],\n",
       "       [-0.29213881, -0.38369844, -0.96725059],\n",
       "       [-0.56245385,  0.15425145,  0.75390225]])"
      ]
     },
     "execution_count": 212,
     "metadata": {},
     "output_type": "execute_result"
    }
   ],
   "source": [
    "np.cos(k1)  # it give the cosine of the each element of k1"
   ]
  },
  {
   "cell_type": "code",
   "execution_count": 213,
   "id": "e66a2157",
   "metadata": {},
   "outputs": [
    {
     "data": {
      "text/plain": [
       "array([[-0.81099442, -2.18503986, -0.59918   ],\n",
       "       [-3.2737038 ,  2.40672971, -0.26241738],\n",
       "       [-1.47003826, -6.4053312 ,  0.87144798]])"
      ]
     },
     "execution_count": 213,
     "metadata": {},
     "output_type": "execute_result"
    }
   ],
   "source": [
    "np.tan(k1)  # it give the tangent of the each elemrnt of k1"
   ]
  },
  {
   "cell_type": "markdown",
   "id": "29c08a72",
   "metadata": {},
   "source": [
    " dot product"
   ]
  },
  {
   "cell_type": "markdown",
   "id": "8d45089f",
   "metadata": {},
   "source": [
    "the numpy module of python  provide a function to  perform the dot product of two arrys"
   ]
  },
  {
   "cell_type": "code",
   "execution_count": 224,
   "id": "1123cfeb",
   "metadata": {},
   "outputs": [],
   "source": [
    "s2 = np.arange(12).reshape(3,4)   # it create a 3*4 matrix\n",
    "s3 = np.arange(12,24).reshape(4,3) # it create 3*4 matrix"
   ]
  },
  {
   "cell_type": "code",
   "execution_count": 215,
   "id": "eea92cec",
   "metadata": {},
   "outputs": [
    {
     "data": {
      "text/plain": [
       "array([[ 0,  1,  2,  3],\n",
       "       [ 4,  5,  6,  7],\n",
       "       [ 8,  9, 10, 11]])"
      ]
     },
     "execution_count": 215,
     "metadata": {},
     "output_type": "execute_result"
    }
   ],
   "source": [
    "s2"
   ]
  },
  {
   "cell_type": "code",
   "execution_count": 225,
   "id": "c76da3b4",
   "metadata": {},
   "outputs": [
    {
     "data": {
      "text/plain": [
       "array([[12, 13, 14],\n",
       "       [15, 16, 17],\n",
       "       [18, 19, 20],\n",
       "       [21, 22, 23]])"
      ]
     },
     "execution_count": 225,
     "metadata": {},
     "output_type": "execute_result"
    }
   ],
   "source": [
    "s3"
   ]
  },
  {
   "cell_type": "code",
   "execution_count": null,
   "id": "98598e3c",
   "metadata": {},
   "outputs": [
    {
     "ename": "ValueError",
     "evalue": "shapes (3,4) and (3,4) not aligned: 4 (dim 1) != 3 (dim 0)",
     "output_type": "error",
     "traceback": [
      "\u001b[1;31m---------------------------------------------------------------------------\u001b[0m",
      "\u001b[1;31mValueError\u001b[0m                                Traceback (most recent call last)",
      "Cell \u001b[1;32mIn[217], line 1\u001b[0m\n\u001b[1;32m----> 1\u001b[0m np\u001b[38;5;241m.\u001b[39mdot(s2,s3)\n",
      "\u001b[1;31mValueError\u001b[0m: shapes (3,4) and (3,4) not aligned: 4 (dim 1) != 3 (dim 0)"
     ]
    }
   ],
   "source": [
    "np.dot(s2,s3)   # this program not run because this s2 and s3 is 3*3 matrix 3*3 matrix arn't run\n"
   ]
  },
  {
   "cell_type": "code",
   "execution_count": 218,
   "id": "dfa0e74e",
   "metadata": {},
   "outputs": [
    {
     "data": {
      "text/plain": [
       "array([[ 0,  1,  2,  3],\n",
       "       [ 4,  5,  6,  7],\n",
       "       [ 8,  9, 10, 11]])"
      ]
     },
     "execution_count": 218,
     "metadata": {},
     "output_type": "execute_result"
    }
   ],
   "source": [
    "s2"
   ]
  },
  {
   "cell_type": "code",
   "execution_count": 221,
   "id": "8b9327ef",
   "metadata": {},
   "outputs": [
    {
     "data": {
      "text/plain": [
       "array([[114, 120, 126],\n",
       "       [378, 400, 422],\n",
       "       [642, 680, 718]])"
      ]
     },
     "execution_count": 221,
     "metadata": {},
     "output_type": "execute_result"
    }
   ],
   "source": [
    "np.dot(s2,s3.reshape(4,3))"
   ]
  },
  {
   "cell_type": "code",
   "execution_count": 222,
   "id": "bf6bc8cd",
   "metadata": {},
   "outputs": [
    {
     "data": {
      "text/plain": [
       "array([[12, 13, 14],\n",
       "       [15, 16, 17],\n",
       "       [18, 19, 20],\n",
       "       [21, 22, 23]])"
      ]
     },
     "execution_count": 222,
     "metadata": {},
     "output_type": "execute_result"
    }
   ],
   "source": [
    "s3.reshape(4,3)"
   ]
  },
  {
   "cell_type": "markdown",
   "id": "4b30e803",
   "metadata": {},
   "source": [
    "Log and Exponents"
   ]
  },
  {
   "cell_type": "code",
   "execution_count": 226,
   "id": "d5bbe5c7",
   "metadata": {},
   "outputs": [
    {
     "data": {
      "text/plain": [
       "array([[1.00000000e+00, 2.71828183e+00, 7.38905610e+00, 2.00855369e+01],\n",
       "       [5.45981500e+01, 1.48413159e+02, 4.03428793e+02, 1.09663316e+03],\n",
       "       [2.98095799e+03, 8.10308393e+03, 2.20264658e+04, 5.98741417e+04]])"
      ]
     },
     "execution_count": 226,
     "metadata": {},
     "output_type": "execute_result"
    }
   ],
   "source": [
    "np.exp(s2)"
   ]
  },
  {
   "cell_type": "markdown",
   "id": "480f219a",
   "metadata": {},
   "source": [
    "round/ floor ceil"
   ]
  },
  {
   "cell_type": "markdown",
   "id": "b5260b9b",
   "metadata": {},
   "source": [
    "1 round\n",
    "the numpy.round() function round the element of an array to the nearest or to the specified numbeer of decimalsm"
   ]
  },
  {
   "cell_type": "code",
   "execution_count": 229,
   "id": "6467f866",
   "metadata": {},
   "outputs": [
    {
     "name": "stdout",
     "output_type": "stream",
     "text": [
      "[1. 3. 4. 5.]\n"
     ]
    }
   ],
   "source": [
    "# round to the nearest integer\n",
    "arr = np.array([1.2, 2.7, 3.5,4.9])\n",
    "rounded_arr = np.round(arr)\n",
    "print(rounded_arr)  # it will round the value to nearest integer"
   ]
  },
  {
   "cell_type": "code",
   "execution_count": null,
   "id": "579dde14",
   "metadata": {},
   "outputs": [
    {
     "name": "stdout",
     "output_type": "stream",
     "text": [
      "[1.2 2.6 3.9]\n"
     ]
    }
   ],
   "source": [
    "# round to two decimal\n",
    "arr = np.array([1.234,2.567,3.891])\n",
    "roundedarr = np.round(arr, decimals=1)  # decimal s=1 meands it take one decimal\n",
    "print(roundedarr)   # it will rounded the value to the nearest two decimal"
   ]
  },
  {
   "cell_type": "code",
   "execution_count": 236,
   "id": "c2f433d0",
   "metadata": {},
   "outputs": [
    {
     "name": "stdout",
     "output_type": "stream",
     "text": [
      "[1.23 3.34 5.34]\n"
     ]
    }
   ],
   "source": [
    "arr = np.array([1.234,3.345,5.345])\n",
    "round = np.round(arr, decimals=2) # decimal s = 2 means it take two decimal\n",
    "print(round)"
   ]
  },
  {
   "cell_type": "code",
   "execution_count": null,
   "id": "f4dfe650",
   "metadata": {},
   "outputs": [
    {
     "data": {
      "text/plain": [
       "array([[24.13131941, 84.66587202,  4.08989625],\n",
       "       [12.83045197, 97.17878953, 77.37607439]])"
      ]
     },
     "execution_count": 277,
     "metadata": {},
     "output_type": "execute_result"
    }
   ],
   "source": [
    "# randomly\n",
    "np.round(np.random.random((2,3))*100)\n"
   ]
  },
  {
   "cell_type": "code",
   "execution_count": 271,
   "id": "da68a3e5",
   "metadata": {},
   "outputs": [],
   "source": [
    "b = np.random.random((5,8))"
   ]
  },
  {
   "cell_type": "code",
   "execution_count": 272,
   "id": "ad72d52a",
   "metadata": {},
   "outputs": [
    {
     "data": {
      "text/plain": [
       "array([[0.68873712, 0.6378184 , 0.31218006, 0.11897612, 0.71175637,\n",
       "        0.31090269, 0.85098689, 0.53568053],\n",
       "       [0.2295516 , 0.37422847, 0.43789998, 0.48027677, 0.46664086,\n",
       "        0.23961845, 0.286993  , 0.67763759],\n",
       "       [0.17180289, 0.81101674, 0.2545022 , 0.84416526, 0.42790883,\n",
       "        0.34558848, 0.360167  , 0.97672738],\n",
       "       [0.70500988, 0.89840077, 0.07010788, 0.03706732, 0.8838146 ,\n",
       "        0.46969   , 0.57739302, 0.22143649],\n",
       "       [0.88128796, 0.82298929, 0.60717881, 0.09239427, 0.99109859,\n",
       "        0.77122221, 0.16299546, 0.33270953]])"
      ]
     },
     "execution_count": 272,
     "metadata": {},
     "output_type": "execute_result"
    }
   ],
   "source": [
    "b"
   ]
  },
  {
   "cell_type": "code",
   "execution_count": 273,
   "id": "b1eefc7a",
   "metadata": {},
   "outputs": [
    {
     "data": {
      "text/plain": [
       "array([[68.87371221, 63.78183958, 31.21800564, 11.89761197, 71.17563705,\n",
       "        31.09026931, 85.09868859, 53.568053  ],\n",
       "       [22.95516025, 37.42284733, 43.78999784, 48.027677  , 46.6640864 ,\n",
       "        23.96184532, 28.69929974, 67.76375924],\n",
       "       [17.18028922, 81.10167443, 25.45021975, 84.4165262 , 42.79088296,\n",
       "        34.55884763, 36.01670039, 97.67273754],\n",
       "       [70.50098753, 89.84007722,  7.01078778,  3.70673241, 88.38146007,\n",
       "        46.96900024, 57.73930161, 22.14364948],\n",
       "       [88.12879631, 82.29892914, 60.71788097,  9.23942721, 99.10985944,\n",
       "        77.12222116, 16.29954593, 33.27095267]])"
      ]
     },
     "execution_count": 273,
     "metadata": {},
     "output_type": "execute_result"
    }
   ],
   "source": [
    "b*100"
   ]
  },
  {
   "cell_type": "markdown",
   "id": "b85c1ea4",
   "metadata": {},
   "source": [
    "2. Floor"
   ]
  },
  {
   "cell_type": "markdown",
   "id": "93ba2df1",
   "metadata": {},
   "source": [
    "The numpy.floor function returns the largest integer less than or equal to each elementof an array"
   ]
  },
  {
   "cell_type": "code",
   "execution_count": 283,
   "id": "243f3b2c",
   "metadata": {},
   "outputs": [
    {
     "name": "stdout",
     "output_type": "stream",
     "text": [
      "[1. 2. 3. 4.]\n"
     ]
    }
   ],
   "source": [
    "# Floor operation\n",
    "arr = np.array([1.2,2.4,3.6,4.8])  # floor oprator generates lees value ex ample 3.4 = 3 and 3.9 = 3\n",
    "floor_arr = np.floor(arr)\n",
    "print(floor_arr)"
   ]
  },
  {
   "cell_type": "code",
   "execution_count": 289,
   "id": "2c8cbac0",
   "metadata": {},
   "outputs": [
    {
     "data": {
      "text/plain": [
       "array([[38., 27., 54.],\n",
       "       [95., 26., 14.]])"
      ]
     },
     "execution_count": 289,
     "metadata": {},
     "output_type": "execute_result"
    }
   ],
   "source": [
    "np.floor(np.random.random((2,3))*100)"
   ]
  },
  {
   "cell_type": "markdown",
   "id": "ff0ed569",
   "metadata": {},
   "source": [
    "Ceil"
   ]
  },
  {
   "cell_type": "markdown",
   "id": "6fd72163",
   "metadata": {},
   "source": [
    "the numpy.ceil() dunction returns the smallest integer greater than or equal to each element if an array"
   ]
  },
  {
   "cell_type": "code",
   "execution_count": null,
   "id": "76cf083f",
   "metadata": {},
   "outputs": [
    {
     "name": "stdout",
     "output_type": "stream",
     "text": [
      "[2. 4. 5. 6.]\n"
     ]
    }
   ],
   "source": [
    "arr = np.array([1.2,3.1,4.1,5.1])\n",
    "ceiled_arr = np.ceil(arr)  # ceil fun genrate big number like 4.1= 5 5.1=6\n",
    "print(ceiled_arr)"
   ]
  },
  {
   "cell_type": "code",
   "execution_count": 294,
   "id": "8dd15b80",
   "metadata": {},
   "outputs": [
    {
     "data": {
      "text/plain": [
       "array([[69., 40., 26.],\n",
       "       [47., 45., 90.]])"
      ]
     },
     "execution_count": 294,
     "metadata": {},
     "output_type": "execute_result"
    }
   ],
   "source": [
    "np.ceil(np.random.random((2,3))*100)"
   ]
  },
  {
   "cell_type": "markdown",
   "id": "d2ea7078",
   "metadata": {},
   "source": [
    "Inexing and Slicng"
   ]
  },
  {
   "cell_type": "code",
   "execution_count": 295,
   "id": "8cc1f8b0",
   "metadata": {},
   "outputs": [],
   "source": [
    "p1 = np.arange(10)\n",
    "p2 = np.arange(12).reshape(3,4)\n",
    "p3 = np.arange(8).reshape(2,2,2)"
   ]
  },
  {
   "cell_type": "code",
   "execution_count": 296,
   "id": "51c8b714",
   "metadata": {},
   "outputs": [
    {
     "data": {
      "text/plain": [
       "array([0, 1, 2, 3, 4, 5, 6, 7, 8, 9])"
      ]
     },
     "execution_count": 296,
     "metadata": {},
     "output_type": "execute_result"
    }
   ],
   "source": [
    "p1"
   ]
  },
  {
   "cell_type": "code",
   "execution_count": 297,
   "id": "e7d216ca",
   "metadata": {},
   "outputs": [
    {
     "data": {
      "text/plain": [
       "array([[ 0,  1,  2,  3],\n",
       "       [ 4,  5,  6,  7],\n",
       "       [ 8,  9, 10, 11]])"
      ]
     },
     "execution_count": 297,
     "metadata": {},
     "output_type": "execute_result"
    }
   ],
   "source": [
    "p2"
   ]
  },
  {
   "cell_type": "code",
   "execution_count": 298,
   "id": "afba420b",
   "metadata": {},
   "outputs": [
    {
     "data": {
      "text/plain": [
       "array([[[0, 1],\n",
       "        [2, 3]],\n",
       "\n",
       "       [[4, 5],\n",
       "        [6, 7]]])"
      ]
     },
     "execution_count": 298,
     "metadata": {},
     "output_type": "execute_result"
    }
   ],
   "source": [
    "p3"
   ]
  },
  {
   "cell_type": "markdown",
   "id": "520ddd52",
   "metadata": {},
   "source": [
    "Indexing on 1D array"
   ]
  },
  {
   "cell_type": "code",
   "execution_count": 299,
   "id": "e04fcb1f",
   "metadata": {},
   "outputs": [
    {
     "data": {
      "text/plain": [
       "array([0, 1, 2, 3, 4, 5, 6, 7, 8, 9])"
      ]
     },
     "execution_count": 299,
     "metadata": {},
     "output_type": "execute_result"
    }
   ],
   "source": [
    "p1"
   ]
  },
  {
   "cell_type": "code",
   "execution_count": null,
   "id": "bb623e2f",
   "metadata": {},
   "outputs": [
    {
     "data": {
      "text/plain": [
       "np.int64(9)"
      ]
     },
     "execution_count": 300,
     "metadata": {},
     "output_type": "execute_result"
    }
   ],
   "source": [
    "p1[-1]"
   ]
  },
  {
   "cell_type": "code",
   "execution_count": 301,
   "id": "51c67b71",
   "metadata": {},
   "outputs": [
    {
     "data": {
      "text/plain": [
       "np.int64(0)"
      ]
     },
     "execution_count": 301,
     "metadata": {},
     "output_type": "execute_result"
    }
   ],
   "source": [
    "p1[0]"
   ]
  },
  {
   "cell_type": "markdown",
   "id": "c84a1c9b",
   "metadata": {},
   "source": [
    "Indexing on 2D array"
   ]
  },
  {
   "cell_type": "code",
   "execution_count": 302,
   "id": "679d3745",
   "metadata": {},
   "outputs": [
    {
     "data": {
      "text/plain": [
       "array([[ 0,  1,  2,  3],\n",
       "       [ 4,  5,  6,  7],\n",
       "       [ 8,  9, 10, 11]])"
      ]
     },
     "execution_count": 302,
     "metadata": {},
     "output_type": "execute_result"
    }
   ],
   "source": [
    "p2"
   ]
  },
  {
   "cell_type": "code",
   "execution_count": null,
   "id": "a887988c",
   "metadata": {},
   "outputs": [
    {
     "data": {
      "text/plain": [
       "np.int64(6)"
      ]
     },
     "execution_count": 304,
     "metadata": {},
     "output_type": "execute_result"
    }
   ],
   "source": [
    "p2[1,2]  # 1 rows  2 columns and shaping of indexing"
   ]
  },
  {
   "cell_type": "code",
   "execution_count": 306,
   "id": "06577464",
   "metadata": {},
   "outputs": [
    {
     "data": {
      "text/plain": [
       "np.int64(11)"
      ]
     },
     "execution_count": 306,
     "metadata": {},
     "output_type": "execute_result"
    }
   ],
   "source": [
    "p2[2,3]  # 2 rows 3 columns and shapping of indexing"
   ]
  },
  {
   "cell_type": "code",
   "execution_count": null,
   "id": "1820097c",
   "metadata": {},
   "outputs": [
    {
     "data": {
      "text/plain": [
       "np.int64(4)"
      ]
     },
     "execution_count": 307,
     "metadata": {},
     "output_type": "execute_result"
    }
   ],
   "source": [
    "p2[1,0]  #1 row 0 columns and shapping of indexing"
   ]
  },
  {
   "cell_type": "markdown",
   "id": "684fe12c",
   "metadata": {},
   "source": [
    "Indexing on 3D (tensor)"
   ]
  },
  {
   "cell_type": "code",
   "execution_count": 309,
   "id": "ad9cd78e",
   "metadata": {},
   "outputs": [
    {
     "data": {
      "text/plain": [
       "array([[[0, 1],\n",
       "        [2, 3]],\n",
       "\n",
       "       [[4, 5],\n",
       "        [6, 7]]])"
      ]
     },
     "execution_count": 309,
     "metadata": {},
     "output_type": "execute_result"
    }
   ],
   "source": [
    "p3"
   ]
  },
  {
   "cell_type": "code",
   "execution_count": 308,
   "id": "d3a5b185",
   "metadata": {},
   "outputs": [
    {
     "data": {
      "text/plain": [
       "np.int64(5)"
      ]
     },
     "execution_count": 308,
     "metadata": {},
     "output_type": "execute_result"
    }
   ],
   "source": [
    "p3[1,0,1]"
   ]
  },
  {
   "cell_type": "code",
   "execution_count": null,
   "id": "12c8a00c",
   "metadata": {},
   "outputs": [],
   "source": []
  },
  {
   "cell_type": "code",
   "execution_count": null,
   "id": "2402e18f",
   "metadata": {},
   "outputs": [],
   "source": []
  }
 ],
 "metadata": {
  "kernelspec": {
   "display_name": "base",
   "language": "python",
   "name": "python3"
  },
  "language_info": {
   "codemirror_mode": {
    "name": "ipython",
    "version": 3
   },
   "file_extension": ".py",
   "mimetype": "text/x-python",
   "name": "python",
   "nbconvert_exporter": "python",
   "pygments_lexer": "ipython3",
   "version": "3.13.5"
  }
 },
 "nbformat": 4,
 "nbformat_minor": 5
}
